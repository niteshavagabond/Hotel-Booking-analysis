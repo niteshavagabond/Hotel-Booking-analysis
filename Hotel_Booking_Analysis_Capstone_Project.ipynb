{
  "nbformat": 4,
  "nbformat_minor": 0,
  "metadata": {
    "kernelspec": {
      "display_name": "Python 3",
      "language": "python",
      "name": "python3"
    },
    "language_info": {
      "codemirror_mode": {
        "name": "ipython",
        "version": 3
      },
      "file_extension": ".py",
      "mimetype": "text/x-python",
      "name": "python",
      "nbconvert_exporter": "python",
      "pygments_lexer": "ipython3",
      "version": "3.6.6"
    },
    "colab": {
      "name": "Hotel Booking Analysis - Capstone Project.ipynb",
      "provenance": [],
      "collapsed_sections": [],
      "include_colab_link": true
    }
  },
  "cells": [
    {
      "cell_type": "markdown",
      "metadata": {
        "id": "view-in-github",
        "colab_type": "text"
      },
      "source": [
        "<a href=\"https://colab.research.google.com/github/niteshavagabond/Hotel-Booking-analysis/blob/main/Hotel_Booking_Analysis_Capstone_Project.ipynb\" target=\"_parent\"><img src=\"https://colab.research.google.com/assets/colab-badge.svg\" alt=\"Open In Colab\"/></a>"
      ]
    },
    {
      "cell_type": "markdown",
      "metadata": {
        "id": "Y06xIdG26kRF"
      },
      "source": [
        "## <b> Have you ever wondered when the best time of year to book a hotel room is? Or the optimal length of stay in order to get the best daily rate? What if you wanted to predict whether or not a hotel was likely to receive a disproportionately high number of special requests? This hotel booking dataset can help you explore those questions!\n",
        "\n",
        "## <b>This data set contains booking information for a city hotel and a resort hotel, and includes information such as when the booking was made, length of stay, the number of adults, children, and/or babies, and the number of available parking spaces, among other things. All personally identifying information has been removed from the data. </b>\n",
        "\n",
        "## <b> Explore and analyze the data to discover important factors that govern the bookings. </b>"
      ]
    },
    {
      "cell_type": "code",
      "source": [
        "# importing libararies\n",
        "import numpy as np\n",
        "import pandas as pd\n",
        "import matplotlib\n",
        "import matplotlib.pyplot as plt\n",
        "import seaborn as sns\n",
        "%matplotlib inline"
      ],
      "metadata": {
        "id": "XX6RUxRJ9DI3"
      },
      "execution_count": 55,
      "outputs": []
    },
    {
      "cell_type": "code",
      "source": [
        "# mount google drive\n",
        "from google.colab import drive\n",
        "drive.mount('/content/drive')"
      ],
      "metadata": {
        "colab": {
          "base_uri": "https://localhost:8080/"
        },
        "id": "S7RqS3xD0-yz",
        "outputId": "c6d9c8e7-a786-464b-f520-9d20a03670e4"
      },
      "execution_count": 56,
      "outputs": [
        {
          "output_type": "stream",
          "name": "stdout",
          "text": [
            "Drive already mounted at /content/drive; to attempt to forcibly remount, call drive.mount(\"/content/drive\", force_remount=True).\n"
          ]
        }
      ]
    },
    {
      "cell_type": "code",
      "source": [
        "# Data \n",
        "hdf= pd.read_csv('/content/drive/MyDrive/AlmaBetter/Hotel Booking Analysis - Nitesh Verma/Hotel Bookings.csv')\n"
      ],
      "metadata": {
        "id": "CmOKcuHv1h8C"
      },
      "execution_count": 57,
      "outputs": []
    },
    {
      "cell_type": "markdown",
      "source": [
        "# Exploring data"
      ],
      "metadata": {
        "id": "a0fLj_GdrSiQ"
      }
    },
    {
      "cell_type": "code",
      "source": [
        "hdf.head()"
      ],
      "metadata": {
        "colab": {
          "base_uri": "https://localhost:8080/",
          "height": 386
        },
        "id": "oZ8bQI_I9Z4u",
        "outputId": "d6d41137-3b6b-402f-c9bf-d07b7448861c"
      },
      "execution_count": 58,
      "outputs": [
        {
          "output_type": "execute_result",
          "data": {
            "text/plain": [
              "          hotel  is_canceled  lead_time  arrival_date_year arrival_date_month  \\\n",
              "0  Resort Hotel            0        342               2015               July   \n",
              "1  Resort Hotel            0        737               2015               July   \n",
              "2  Resort Hotel            0          7               2015               July   \n",
              "3  Resort Hotel            0         13               2015               July   \n",
              "4  Resort Hotel            0         14               2015               July   \n",
              "\n",
              "   arrival_date_week_number  arrival_date_day_of_month  \\\n",
              "0                        27                          1   \n",
              "1                        27                          1   \n",
              "2                        27                          1   \n",
              "3                        27                          1   \n",
              "4                        27                          1   \n",
              "\n",
              "   stays_in_weekend_nights  stays_in_week_nights  adults  ...  deposit_type  \\\n",
              "0                        0                     0       2  ...    No Deposit   \n",
              "1                        0                     0       2  ...    No Deposit   \n",
              "2                        0                     1       1  ...    No Deposit   \n",
              "3                        0                     1       1  ...    No Deposit   \n",
              "4                        0                     2       2  ...    No Deposit   \n",
              "\n",
              "   agent company days_in_waiting_list customer_type   adr  \\\n",
              "0    NaN     NaN                    0     Transient   0.0   \n",
              "1    NaN     NaN                    0     Transient   0.0   \n",
              "2    NaN     NaN                    0     Transient  75.0   \n",
              "3  304.0     NaN                    0     Transient  75.0   \n",
              "4  240.0     NaN                    0     Transient  98.0   \n",
              "\n",
              "   required_car_parking_spaces  total_of_special_requests  reservation_status  \\\n",
              "0                            0                          0           Check-Out   \n",
              "1                            0                          0           Check-Out   \n",
              "2                            0                          0           Check-Out   \n",
              "3                            0                          0           Check-Out   \n",
              "4                            0                          1           Check-Out   \n",
              "\n",
              "  reservation_status_date  \n",
              "0              2015-07-01  \n",
              "1              2015-07-01  \n",
              "2              2015-07-02  \n",
              "3              2015-07-02  \n",
              "4              2015-07-03  \n",
              "\n",
              "[5 rows x 32 columns]"
            ],
            "text/html": [
              "\n",
              "  <div id=\"df-8fd88058-5ccf-4efc-8c05-85150aceb9ef\">\n",
              "    <div class=\"colab-df-container\">\n",
              "      <div>\n",
              "<style scoped>\n",
              "    .dataframe tbody tr th:only-of-type {\n",
              "        vertical-align: middle;\n",
              "    }\n",
              "\n",
              "    .dataframe tbody tr th {\n",
              "        vertical-align: top;\n",
              "    }\n",
              "\n",
              "    .dataframe thead th {\n",
              "        text-align: right;\n",
              "    }\n",
              "</style>\n",
              "<table border=\"1\" class=\"dataframe\">\n",
              "  <thead>\n",
              "    <tr style=\"text-align: right;\">\n",
              "      <th></th>\n",
              "      <th>hotel</th>\n",
              "      <th>is_canceled</th>\n",
              "      <th>lead_time</th>\n",
              "      <th>arrival_date_year</th>\n",
              "      <th>arrival_date_month</th>\n",
              "      <th>arrival_date_week_number</th>\n",
              "      <th>arrival_date_day_of_month</th>\n",
              "      <th>stays_in_weekend_nights</th>\n",
              "      <th>stays_in_week_nights</th>\n",
              "      <th>adults</th>\n",
              "      <th>...</th>\n",
              "      <th>deposit_type</th>\n",
              "      <th>agent</th>\n",
              "      <th>company</th>\n",
              "      <th>days_in_waiting_list</th>\n",
              "      <th>customer_type</th>\n",
              "      <th>adr</th>\n",
              "      <th>required_car_parking_spaces</th>\n",
              "      <th>total_of_special_requests</th>\n",
              "      <th>reservation_status</th>\n",
              "      <th>reservation_status_date</th>\n",
              "    </tr>\n",
              "  </thead>\n",
              "  <tbody>\n",
              "    <tr>\n",
              "      <th>0</th>\n",
              "      <td>Resort Hotel</td>\n",
              "      <td>0</td>\n",
              "      <td>342</td>\n",
              "      <td>2015</td>\n",
              "      <td>July</td>\n",
              "      <td>27</td>\n",
              "      <td>1</td>\n",
              "      <td>0</td>\n",
              "      <td>0</td>\n",
              "      <td>2</td>\n",
              "      <td>...</td>\n",
              "      <td>No Deposit</td>\n",
              "      <td>NaN</td>\n",
              "      <td>NaN</td>\n",
              "      <td>0</td>\n",
              "      <td>Transient</td>\n",
              "      <td>0.0</td>\n",
              "      <td>0</td>\n",
              "      <td>0</td>\n",
              "      <td>Check-Out</td>\n",
              "      <td>2015-07-01</td>\n",
              "    </tr>\n",
              "    <tr>\n",
              "      <th>1</th>\n",
              "      <td>Resort Hotel</td>\n",
              "      <td>0</td>\n",
              "      <td>737</td>\n",
              "      <td>2015</td>\n",
              "      <td>July</td>\n",
              "      <td>27</td>\n",
              "      <td>1</td>\n",
              "      <td>0</td>\n",
              "      <td>0</td>\n",
              "      <td>2</td>\n",
              "      <td>...</td>\n",
              "      <td>No Deposit</td>\n",
              "      <td>NaN</td>\n",
              "      <td>NaN</td>\n",
              "      <td>0</td>\n",
              "      <td>Transient</td>\n",
              "      <td>0.0</td>\n",
              "      <td>0</td>\n",
              "      <td>0</td>\n",
              "      <td>Check-Out</td>\n",
              "      <td>2015-07-01</td>\n",
              "    </tr>\n",
              "    <tr>\n",
              "      <th>2</th>\n",
              "      <td>Resort Hotel</td>\n",
              "      <td>0</td>\n",
              "      <td>7</td>\n",
              "      <td>2015</td>\n",
              "      <td>July</td>\n",
              "      <td>27</td>\n",
              "      <td>1</td>\n",
              "      <td>0</td>\n",
              "      <td>1</td>\n",
              "      <td>1</td>\n",
              "      <td>...</td>\n",
              "      <td>No Deposit</td>\n",
              "      <td>NaN</td>\n",
              "      <td>NaN</td>\n",
              "      <td>0</td>\n",
              "      <td>Transient</td>\n",
              "      <td>75.0</td>\n",
              "      <td>0</td>\n",
              "      <td>0</td>\n",
              "      <td>Check-Out</td>\n",
              "      <td>2015-07-02</td>\n",
              "    </tr>\n",
              "    <tr>\n",
              "      <th>3</th>\n",
              "      <td>Resort Hotel</td>\n",
              "      <td>0</td>\n",
              "      <td>13</td>\n",
              "      <td>2015</td>\n",
              "      <td>July</td>\n",
              "      <td>27</td>\n",
              "      <td>1</td>\n",
              "      <td>0</td>\n",
              "      <td>1</td>\n",
              "      <td>1</td>\n",
              "      <td>...</td>\n",
              "      <td>No Deposit</td>\n",
              "      <td>304.0</td>\n",
              "      <td>NaN</td>\n",
              "      <td>0</td>\n",
              "      <td>Transient</td>\n",
              "      <td>75.0</td>\n",
              "      <td>0</td>\n",
              "      <td>0</td>\n",
              "      <td>Check-Out</td>\n",
              "      <td>2015-07-02</td>\n",
              "    </tr>\n",
              "    <tr>\n",
              "      <th>4</th>\n",
              "      <td>Resort Hotel</td>\n",
              "      <td>0</td>\n",
              "      <td>14</td>\n",
              "      <td>2015</td>\n",
              "      <td>July</td>\n",
              "      <td>27</td>\n",
              "      <td>1</td>\n",
              "      <td>0</td>\n",
              "      <td>2</td>\n",
              "      <td>2</td>\n",
              "      <td>...</td>\n",
              "      <td>No Deposit</td>\n",
              "      <td>240.0</td>\n",
              "      <td>NaN</td>\n",
              "      <td>0</td>\n",
              "      <td>Transient</td>\n",
              "      <td>98.0</td>\n",
              "      <td>0</td>\n",
              "      <td>1</td>\n",
              "      <td>Check-Out</td>\n",
              "      <td>2015-07-03</td>\n",
              "    </tr>\n",
              "  </tbody>\n",
              "</table>\n",
              "<p>5 rows × 32 columns</p>\n",
              "</div>\n",
              "      <button class=\"colab-df-convert\" onclick=\"convertToInteractive('df-8fd88058-5ccf-4efc-8c05-85150aceb9ef')\"\n",
              "              title=\"Convert this dataframe to an interactive table.\"\n",
              "              style=\"display:none;\">\n",
              "        \n",
              "  <svg xmlns=\"http://www.w3.org/2000/svg\" height=\"24px\"viewBox=\"0 0 24 24\"\n",
              "       width=\"24px\">\n",
              "    <path d=\"M0 0h24v24H0V0z\" fill=\"none\"/>\n",
              "    <path d=\"M18.56 5.44l.94 2.06.94-2.06 2.06-.94-2.06-.94-.94-2.06-.94 2.06-2.06.94zm-11 1L8.5 8.5l.94-2.06 2.06-.94-2.06-.94L8.5 2.5l-.94 2.06-2.06.94zm10 10l.94 2.06.94-2.06 2.06-.94-2.06-.94-.94-2.06-.94 2.06-2.06.94z\"/><path d=\"M17.41 7.96l-1.37-1.37c-.4-.4-.92-.59-1.43-.59-.52 0-1.04.2-1.43.59L10.3 9.45l-7.72 7.72c-.78.78-.78 2.05 0 2.83L4 21.41c.39.39.9.59 1.41.59.51 0 1.02-.2 1.41-.59l7.78-7.78 2.81-2.81c.8-.78.8-2.07 0-2.86zM5.41 20L4 18.59l7.72-7.72 1.47 1.35L5.41 20z\"/>\n",
              "  </svg>\n",
              "      </button>\n",
              "      \n",
              "  <style>\n",
              "    .colab-df-container {\n",
              "      display:flex;\n",
              "      flex-wrap:wrap;\n",
              "      gap: 12px;\n",
              "    }\n",
              "\n",
              "    .colab-df-convert {\n",
              "      background-color: #E8F0FE;\n",
              "      border: none;\n",
              "      border-radius: 50%;\n",
              "      cursor: pointer;\n",
              "      display: none;\n",
              "      fill: #1967D2;\n",
              "      height: 32px;\n",
              "      padding: 0 0 0 0;\n",
              "      width: 32px;\n",
              "    }\n",
              "\n",
              "    .colab-df-convert:hover {\n",
              "      background-color: #E2EBFA;\n",
              "      box-shadow: 0px 1px 2px rgba(60, 64, 67, 0.3), 0px 1px 3px 1px rgba(60, 64, 67, 0.15);\n",
              "      fill: #174EA6;\n",
              "    }\n",
              "\n",
              "    [theme=dark] .colab-df-convert {\n",
              "      background-color: #3B4455;\n",
              "      fill: #D2E3FC;\n",
              "    }\n",
              "\n",
              "    [theme=dark] .colab-df-convert:hover {\n",
              "      background-color: #434B5C;\n",
              "      box-shadow: 0px 1px 3px 1px rgba(0, 0, 0, 0.15);\n",
              "      filter: drop-shadow(0px 1px 2px rgba(0, 0, 0, 0.3));\n",
              "      fill: #FFFFFF;\n",
              "    }\n",
              "  </style>\n",
              "\n",
              "      <script>\n",
              "        const buttonEl =\n",
              "          document.querySelector('#df-8fd88058-5ccf-4efc-8c05-85150aceb9ef button.colab-df-convert');\n",
              "        buttonEl.style.display =\n",
              "          google.colab.kernel.accessAllowed ? 'block' : 'none';\n",
              "\n",
              "        async function convertToInteractive(key) {\n",
              "          const element = document.querySelector('#df-8fd88058-5ccf-4efc-8c05-85150aceb9ef');\n",
              "          const dataTable =\n",
              "            await google.colab.kernel.invokeFunction('convertToInteractive',\n",
              "                                                     [key], {});\n",
              "          if (!dataTable) return;\n",
              "\n",
              "          const docLinkHtml = 'Like what you see? Visit the ' +\n",
              "            '<a target=\"_blank\" href=https://colab.research.google.com/notebooks/data_table.ipynb>data table notebook</a>'\n",
              "            + ' to learn more about interactive tables.';\n",
              "          element.innerHTML = '';\n",
              "          dataTable['output_type'] = 'display_data';\n",
              "          await google.colab.output.renderOutput(dataTable, element);\n",
              "          const docLink = document.createElement('div');\n",
              "          docLink.innerHTML = docLinkHtml;\n",
              "          element.appendChild(docLink);\n",
              "        }\n",
              "      </script>\n",
              "    </div>\n",
              "  </div>\n",
              "  "
            ]
          },
          "metadata": {},
          "execution_count": 58
        }
      ]
    },
    {
      "cell_type": "code",
      "source": [
        "hdf.tail()"
      ],
      "metadata": {
        "colab": {
          "base_uri": "https://localhost:8080/",
          "height": 386
        },
        "id": "l4pGWDMvIMbE",
        "outputId": "29038a98-2449-491a-c2e2-b67894055126"
      },
      "execution_count": 59,
      "outputs": [
        {
          "output_type": "execute_result",
          "data": {
            "text/plain": [
              "             hotel  is_canceled  lead_time  arrival_date_year  \\\n",
              "119385  City Hotel            0         23               2017   \n",
              "119386  City Hotel            0        102               2017   \n",
              "119387  City Hotel            0         34               2017   \n",
              "119388  City Hotel            0        109               2017   \n",
              "119389  City Hotel            0        205               2017   \n",
              "\n",
              "       arrival_date_month  arrival_date_week_number  \\\n",
              "119385             August                        35   \n",
              "119386             August                        35   \n",
              "119387             August                        35   \n",
              "119388             August                        35   \n",
              "119389             August                        35   \n",
              "\n",
              "        arrival_date_day_of_month  stays_in_weekend_nights  \\\n",
              "119385                         30                        2   \n",
              "119386                         31                        2   \n",
              "119387                         31                        2   \n",
              "119388                         31                        2   \n",
              "119389                         29                        2   \n",
              "\n",
              "        stays_in_week_nights  adults  ...  deposit_type  agent company  \\\n",
              "119385                     5       2  ...    No Deposit  394.0     NaN   \n",
              "119386                     5       3  ...    No Deposit    9.0     NaN   \n",
              "119387                     5       2  ...    No Deposit    9.0     NaN   \n",
              "119388                     5       2  ...    No Deposit   89.0     NaN   \n",
              "119389                     7       2  ...    No Deposit    9.0     NaN   \n",
              "\n",
              "       days_in_waiting_list customer_type     adr  \\\n",
              "119385                    0     Transient   96.14   \n",
              "119386                    0     Transient  225.43   \n",
              "119387                    0     Transient  157.71   \n",
              "119388                    0     Transient  104.40   \n",
              "119389                    0     Transient  151.20   \n",
              "\n",
              "        required_car_parking_spaces  total_of_special_requests  \\\n",
              "119385                            0                          0   \n",
              "119386                            0                          2   \n",
              "119387                            0                          4   \n",
              "119388                            0                          0   \n",
              "119389                            0                          2   \n",
              "\n",
              "        reservation_status reservation_status_date  \n",
              "119385           Check-Out              2017-09-06  \n",
              "119386           Check-Out              2017-09-07  \n",
              "119387           Check-Out              2017-09-07  \n",
              "119388           Check-Out              2017-09-07  \n",
              "119389           Check-Out              2017-09-07  \n",
              "\n",
              "[5 rows x 32 columns]"
            ],
            "text/html": [
              "\n",
              "  <div id=\"df-1941b85f-eb6f-4d47-a5b3-a5e7c6601213\">\n",
              "    <div class=\"colab-df-container\">\n",
              "      <div>\n",
              "<style scoped>\n",
              "    .dataframe tbody tr th:only-of-type {\n",
              "        vertical-align: middle;\n",
              "    }\n",
              "\n",
              "    .dataframe tbody tr th {\n",
              "        vertical-align: top;\n",
              "    }\n",
              "\n",
              "    .dataframe thead th {\n",
              "        text-align: right;\n",
              "    }\n",
              "</style>\n",
              "<table border=\"1\" class=\"dataframe\">\n",
              "  <thead>\n",
              "    <tr style=\"text-align: right;\">\n",
              "      <th></th>\n",
              "      <th>hotel</th>\n",
              "      <th>is_canceled</th>\n",
              "      <th>lead_time</th>\n",
              "      <th>arrival_date_year</th>\n",
              "      <th>arrival_date_month</th>\n",
              "      <th>arrival_date_week_number</th>\n",
              "      <th>arrival_date_day_of_month</th>\n",
              "      <th>stays_in_weekend_nights</th>\n",
              "      <th>stays_in_week_nights</th>\n",
              "      <th>adults</th>\n",
              "      <th>...</th>\n",
              "      <th>deposit_type</th>\n",
              "      <th>agent</th>\n",
              "      <th>company</th>\n",
              "      <th>days_in_waiting_list</th>\n",
              "      <th>customer_type</th>\n",
              "      <th>adr</th>\n",
              "      <th>required_car_parking_spaces</th>\n",
              "      <th>total_of_special_requests</th>\n",
              "      <th>reservation_status</th>\n",
              "      <th>reservation_status_date</th>\n",
              "    </tr>\n",
              "  </thead>\n",
              "  <tbody>\n",
              "    <tr>\n",
              "      <th>119385</th>\n",
              "      <td>City Hotel</td>\n",
              "      <td>0</td>\n",
              "      <td>23</td>\n",
              "      <td>2017</td>\n",
              "      <td>August</td>\n",
              "      <td>35</td>\n",
              "      <td>30</td>\n",
              "      <td>2</td>\n",
              "      <td>5</td>\n",
              "      <td>2</td>\n",
              "      <td>...</td>\n",
              "      <td>No Deposit</td>\n",
              "      <td>394.0</td>\n",
              "      <td>NaN</td>\n",
              "      <td>0</td>\n",
              "      <td>Transient</td>\n",
              "      <td>96.14</td>\n",
              "      <td>0</td>\n",
              "      <td>0</td>\n",
              "      <td>Check-Out</td>\n",
              "      <td>2017-09-06</td>\n",
              "    </tr>\n",
              "    <tr>\n",
              "      <th>119386</th>\n",
              "      <td>City Hotel</td>\n",
              "      <td>0</td>\n",
              "      <td>102</td>\n",
              "      <td>2017</td>\n",
              "      <td>August</td>\n",
              "      <td>35</td>\n",
              "      <td>31</td>\n",
              "      <td>2</td>\n",
              "      <td>5</td>\n",
              "      <td>3</td>\n",
              "      <td>...</td>\n",
              "      <td>No Deposit</td>\n",
              "      <td>9.0</td>\n",
              "      <td>NaN</td>\n",
              "      <td>0</td>\n",
              "      <td>Transient</td>\n",
              "      <td>225.43</td>\n",
              "      <td>0</td>\n",
              "      <td>2</td>\n",
              "      <td>Check-Out</td>\n",
              "      <td>2017-09-07</td>\n",
              "    </tr>\n",
              "    <tr>\n",
              "      <th>119387</th>\n",
              "      <td>City Hotel</td>\n",
              "      <td>0</td>\n",
              "      <td>34</td>\n",
              "      <td>2017</td>\n",
              "      <td>August</td>\n",
              "      <td>35</td>\n",
              "      <td>31</td>\n",
              "      <td>2</td>\n",
              "      <td>5</td>\n",
              "      <td>2</td>\n",
              "      <td>...</td>\n",
              "      <td>No Deposit</td>\n",
              "      <td>9.0</td>\n",
              "      <td>NaN</td>\n",
              "      <td>0</td>\n",
              "      <td>Transient</td>\n",
              "      <td>157.71</td>\n",
              "      <td>0</td>\n",
              "      <td>4</td>\n",
              "      <td>Check-Out</td>\n",
              "      <td>2017-09-07</td>\n",
              "    </tr>\n",
              "    <tr>\n",
              "      <th>119388</th>\n",
              "      <td>City Hotel</td>\n",
              "      <td>0</td>\n",
              "      <td>109</td>\n",
              "      <td>2017</td>\n",
              "      <td>August</td>\n",
              "      <td>35</td>\n",
              "      <td>31</td>\n",
              "      <td>2</td>\n",
              "      <td>5</td>\n",
              "      <td>2</td>\n",
              "      <td>...</td>\n",
              "      <td>No Deposit</td>\n",
              "      <td>89.0</td>\n",
              "      <td>NaN</td>\n",
              "      <td>0</td>\n",
              "      <td>Transient</td>\n",
              "      <td>104.40</td>\n",
              "      <td>0</td>\n",
              "      <td>0</td>\n",
              "      <td>Check-Out</td>\n",
              "      <td>2017-09-07</td>\n",
              "    </tr>\n",
              "    <tr>\n",
              "      <th>119389</th>\n",
              "      <td>City Hotel</td>\n",
              "      <td>0</td>\n",
              "      <td>205</td>\n",
              "      <td>2017</td>\n",
              "      <td>August</td>\n",
              "      <td>35</td>\n",
              "      <td>29</td>\n",
              "      <td>2</td>\n",
              "      <td>7</td>\n",
              "      <td>2</td>\n",
              "      <td>...</td>\n",
              "      <td>No Deposit</td>\n",
              "      <td>9.0</td>\n",
              "      <td>NaN</td>\n",
              "      <td>0</td>\n",
              "      <td>Transient</td>\n",
              "      <td>151.20</td>\n",
              "      <td>0</td>\n",
              "      <td>2</td>\n",
              "      <td>Check-Out</td>\n",
              "      <td>2017-09-07</td>\n",
              "    </tr>\n",
              "  </tbody>\n",
              "</table>\n",
              "<p>5 rows × 32 columns</p>\n",
              "</div>\n",
              "      <button class=\"colab-df-convert\" onclick=\"convertToInteractive('df-1941b85f-eb6f-4d47-a5b3-a5e7c6601213')\"\n",
              "              title=\"Convert this dataframe to an interactive table.\"\n",
              "              style=\"display:none;\">\n",
              "        \n",
              "  <svg xmlns=\"http://www.w3.org/2000/svg\" height=\"24px\"viewBox=\"0 0 24 24\"\n",
              "       width=\"24px\">\n",
              "    <path d=\"M0 0h24v24H0V0z\" fill=\"none\"/>\n",
              "    <path d=\"M18.56 5.44l.94 2.06.94-2.06 2.06-.94-2.06-.94-.94-2.06-.94 2.06-2.06.94zm-11 1L8.5 8.5l.94-2.06 2.06-.94-2.06-.94L8.5 2.5l-.94 2.06-2.06.94zm10 10l.94 2.06.94-2.06 2.06-.94-2.06-.94-.94-2.06-.94 2.06-2.06.94z\"/><path d=\"M17.41 7.96l-1.37-1.37c-.4-.4-.92-.59-1.43-.59-.52 0-1.04.2-1.43.59L10.3 9.45l-7.72 7.72c-.78.78-.78 2.05 0 2.83L4 21.41c.39.39.9.59 1.41.59.51 0 1.02-.2 1.41-.59l7.78-7.78 2.81-2.81c.8-.78.8-2.07 0-2.86zM5.41 20L4 18.59l7.72-7.72 1.47 1.35L5.41 20z\"/>\n",
              "  </svg>\n",
              "      </button>\n",
              "      \n",
              "  <style>\n",
              "    .colab-df-container {\n",
              "      display:flex;\n",
              "      flex-wrap:wrap;\n",
              "      gap: 12px;\n",
              "    }\n",
              "\n",
              "    .colab-df-convert {\n",
              "      background-color: #E8F0FE;\n",
              "      border: none;\n",
              "      border-radius: 50%;\n",
              "      cursor: pointer;\n",
              "      display: none;\n",
              "      fill: #1967D2;\n",
              "      height: 32px;\n",
              "      padding: 0 0 0 0;\n",
              "      width: 32px;\n",
              "    }\n",
              "\n",
              "    .colab-df-convert:hover {\n",
              "      background-color: #E2EBFA;\n",
              "      box-shadow: 0px 1px 2px rgba(60, 64, 67, 0.3), 0px 1px 3px 1px rgba(60, 64, 67, 0.15);\n",
              "      fill: #174EA6;\n",
              "    }\n",
              "\n",
              "    [theme=dark] .colab-df-convert {\n",
              "      background-color: #3B4455;\n",
              "      fill: #D2E3FC;\n",
              "    }\n",
              "\n",
              "    [theme=dark] .colab-df-convert:hover {\n",
              "      background-color: #434B5C;\n",
              "      box-shadow: 0px 1px 3px 1px rgba(0, 0, 0, 0.15);\n",
              "      filter: drop-shadow(0px 1px 2px rgba(0, 0, 0, 0.3));\n",
              "      fill: #FFFFFF;\n",
              "    }\n",
              "  </style>\n",
              "\n",
              "      <script>\n",
              "        const buttonEl =\n",
              "          document.querySelector('#df-1941b85f-eb6f-4d47-a5b3-a5e7c6601213 button.colab-df-convert');\n",
              "        buttonEl.style.display =\n",
              "          google.colab.kernel.accessAllowed ? 'block' : 'none';\n",
              "\n",
              "        async function convertToInteractive(key) {\n",
              "          const element = document.querySelector('#df-1941b85f-eb6f-4d47-a5b3-a5e7c6601213');\n",
              "          const dataTable =\n",
              "            await google.colab.kernel.invokeFunction('convertToInteractive',\n",
              "                                                     [key], {});\n",
              "          if (!dataTable) return;\n",
              "\n",
              "          const docLinkHtml = 'Like what you see? Visit the ' +\n",
              "            '<a target=\"_blank\" href=https://colab.research.google.com/notebooks/data_table.ipynb>data table notebook</a>'\n",
              "            + ' to learn more about interactive tables.';\n",
              "          element.innerHTML = '';\n",
              "          dataTable['output_type'] = 'display_data';\n",
              "          await google.colab.output.renderOutput(dataTable, element);\n",
              "          const docLink = document.createElement('div');\n",
              "          docLink.innerHTML = docLinkHtml;\n",
              "          element.appendChild(docLink);\n",
              "        }\n",
              "      </script>\n",
              "    </div>\n",
              "  </div>\n",
              "  "
            ]
          },
          "metadata": {},
          "execution_count": 59
        }
      ]
    },
    {
      "cell_type": "code",
      "source": [
        "hdf.info()"
      ],
      "metadata": {
        "colab": {
          "base_uri": "https://localhost:8080/"
        },
        "id": "Gj45e1pg-tgK",
        "outputId": "32a212dd-9554-4eef-e2a2-e966a60a2481"
      },
      "execution_count": 60,
      "outputs": [
        {
          "output_type": "stream",
          "name": "stdout",
          "text": [
            "<class 'pandas.core.frame.DataFrame'>\n",
            "RangeIndex: 119390 entries, 0 to 119389\n",
            "Data columns (total 32 columns):\n",
            " #   Column                          Non-Null Count   Dtype  \n",
            "---  ------                          --------------   -----  \n",
            " 0   hotel                           119390 non-null  object \n",
            " 1   is_canceled                     119390 non-null  int64  \n",
            " 2   lead_time                       119390 non-null  int64  \n",
            " 3   arrival_date_year               119390 non-null  int64  \n",
            " 4   arrival_date_month              119390 non-null  object \n",
            " 5   arrival_date_week_number        119390 non-null  int64  \n",
            " 6   arrival_date_day_of_month       119390 non-null  int64  \n",
            " 7   stays_in_weekend_nights         119390 non-null  int64  \n",
            " 8   stays_in_week_nights            119390 non-null  int64  \n",
            " 9   adults                          119390 non-null  int64  \n",
            " 10  children                        119386 non-null  float64\n",
            " 11  babies                          119390 non-null  int64  \n",
            " 12  meal                            119390 non-null  object \n",
            " 13  country                         118902 non-null  object \n",
            " 14  market_segment                  119390 non-null  object \n",
            " 15  distribution_channel            119390 non-null  object \n",
            " 16  is_repeated_guest               119390 non-null  int64  \n",
            " 17  previous_cancellations          119390 non-null  int64  \n",
            " 18  previous_bookings_not_canceled  119390 non-null  int64  \n",
            " 19  reserved_room_type              119390 non-null  object \n",
            " 20  assigned_room_type              119390 non-null  object \n",
            " 21  booking_changes                 119390 non-null  int64  \n",
            " 22  deposit_type                    119390 non-null  object \n",
            " 23  agent                           103050 non-null  float64\n",
            " 24  company                         6797 non-null    float64\n",
            " 25  days_in_waiting_list            119390 non-null  int64  \n",
            " 26  customer_type                   119390 non-null  object \n",
            " 27  adr                             119390 non-null  float64\n",
            " 28  required_car_parking_spaces     119390 non-null  int64  \n",
            " 29  total_of_special_requests       119390 non-null  int64  \n",
            " 30  reservation_status              119390 non-null  object \n",
            " 31  reservation_status_date         119390 non-null  object \n",
            "dtypes: float64(4), int64(16), object(12)\n",
            "memory usage: 29.1+ MB\n"
          ]
        }
      ]
    },
    {
      "cell_type": "code",
      "source": [
        "hdf.describe()"
      ],
      "metadata": {
        "colab": {
          "base_uri": "https://localhost:8080/",
          "height": 364
        },
        "id": "6-fyQqcLCVD9",
        "outputId": "83be04d3-af8f-4305-d0bd-4bd0b677ebac"
      },
      "execution_count": 61,
      "outputs": [
        {
          "output_type": "execute_result",
          "data": {
            "text/plain": [
              "         is_canceled      lead_time  arrival_date_year  \\\n",
              "count  119390.000000  119390.000000      119390.000000   \n",
              "mean        0.370416     104.011416        2016.156554   \n",
              "std         0.482918     106.863097           0.707476   \n",
              "min         0.000000       0.000000        2015.000000   \n",
              "25%         0.000000      18.000000        2016.000000   \n",
              "50%         0.000000      69.000000        2016.000000   \n",
              "75%         1.000000     160.000000        2017.000000   \n",
              "max         1.000000     737.000000        2017.000000   \n",
              "\n",
              "       arrival_date_week_number  arrival_date_day_of_month  \\\n",
              "count             119390.000000              119390.000000   \n",
              "mean                  27.165173                  15.798241   \n",
              "std                   13.605138                   8.780829   \n",
              "min                    1.000000                   1.000000   \n",
              "25%                   16.000000                   8.000000   \n",
              "50%                   28.000000                  16.000000   \n",
              "75%                   38.000000                  23.000000   \n",
              "max                   53.000000                  31.000000   \n",
              "\n",
              "       stays_in_weekend_nights  stays_in_week_nights         adults  \\\n",
              "count            119390.000000         119390.000000  119390.000000   \n",
              "mean                  0.927599              2.500302       1.856403   \n",
              "std                   0.998613              1.908286       0.579261   \n",
              "min                   0.000000              0.000000       0.000000   \n",
              "25%                   0.000000              1.000000       2.000000   \n",
              "50%                   1.000000              2.000000       2.000000   \n",
              "75%                   2.000000              3.000000       2.000000   \n",
              "max                  19.000000             50.000000      55.000000   \n",
              "\n",
              "            children         babies  is_repeated_guest  \\\n",
              "count  119386.000000  119390.000000      119390.000000   \n",
              "mean        0.103890       0.007949           0.031912   \n",
              "std         0.398561       0.097436           0.175767   \n",
              "min         0.000000       0.000000           0.000000   \n",
              "25%         0.000000       0.000000           0.000000   \n",
              "50%         0.000000       0.000000           0.000000   \n",
              "75%         0.000000       0.000000           0.000000   \n",
              "max        10.000000      10.000000           1.000000   \n",
              "\n",
              "       previous_cancellations  previous_bookings_not_canceled  \\\n",
              "count           119390.000000                   119390.000000   \n",
              "mean                 0.087118                        0.137097   \n",
              "std                  0.844336                        1.497437   \n",
              "min                  0.000000                        0.000000   \n",
              "25%                  0.000000                        0.000000   \n",
              "50%                  0.000000                        0.000000   \n",
              "75%                  0.000000                        0.000000   \n",
              "max                 26.000000                       72.000000   \n",
              "\n",
              "       booking_changes          agent      company  days_in_waiting_list  \\\n",
              "count    119390.000000  103050.000000  6797.000000         119390.000000   \n",
              "mean          0.221124      86.693382   189.266735              2.321149   \n",
              "std           0.652306     110.774548   131.655015             17.594721   \n",
              "min           0.000000       1.000000     6.000000              0.000000   \n",
              "25%           0.000000       9.000000    62.000000              0.000000   \n",
              "50%           0.000000      14.000000   179.000000              0.000000   \n",
              "75%           0.000000     229.000000   270.000000              0.000000   \n",
              "max          21.000000     535.000000   543.000000            391.000000   \n",
              "\n",
              "                 adr  required_car_parking_spaces  total_of_special_requests  \n",
              "count  119390.000000                119390.000000              119390.000000  \n",
              "mean      101.831122                     0.062518                   0.571363  \n",
              "std        50.535790                     0.245291                   0.792798  \n",
              "min        -6.380000                     0.000000                   0.000000  \n",
              "25%        69.290000                     0.000000                   0.000000  \n",
              "50%        94.575000                     0.000000                   0.000000  \n",
              "75%       126.000000                     0.000000                   1.000000  \n",
              "max      5400.000000                     8.000000                   5.000000  "
            ],
            "text/html": [
              "\n",
              "  <div id=\"df-5955e175-8e36-44c8-9174-cb6ee0f29f0a\">\n",
              "    <div class=\"colab-df-container\">\n",
              "      <div>\n",
              "<style scoped>\n",
              "    .dataframe tbody tr th:only-of-type {\n",
              "        vertical-align: middle;\n",
              "    }\n",
              "\n",
              "    .dataframe tbody tr th {\n",
              "        vertical-align: top;\n",
              "    }\n",
              "\n",
              "    .dataframe thead th {\n",
              "        text-align: right;\n",
              "    }\n",
              "</style>\n",
              "<table border=\"1\" class=\"dataframe\">\n",
              "  <thead>\n",
              "    <tr style=\"text-align: right;\">\n",
              "      <th></th>\n",
              "      <th>is_canceled</th>\n",
              "      <th>lead_time</th>\n",
              "      <th>arrival_date_year</th>\n",
              "      <th>arrival_date_week_number</th>\n",
              "      <th>arrival_date_day_of_month</th>\n",
              "      <th>stays_in_weekend_nights</th>\n",
              "      <th>stays_in_week_nights</th>\n",
              "      <th>adults</th>\n",
              "      <th>children</th>\n",
              "      <th>babies</th>\n",
              "      <th>is_repeated_guest</th>\n",
              "      <th>previous_cancellations</th>\n",
              "      <th>previous_bookings_not_canceled</th>\n",
              "      <th>booking_changes</th>\n",
              "      <th>agent</th>\n",
              "      <th>company</th>\n",
              "      <th>days_in_waiting_list</th>\n",
              "      <th>adr</th>\n",
              "      <th>required_car_parking_spaces</th>\n",
              "      <th>total_of_special_requests</th>\n",
              "    </tr>\n",
              "  </thead>\n",
              "  <tbody>\n",
              "    <tr>\n",
              "      <th>count</th>\n",
              "      <td>119390.000000</td>\n",
              "      <td>119390.000000</td>\n",
              "      <td>119390.000000</td>\n",
              "      <td>119390.000000</td>\n",
              "      <td>119390.000000</td>\n",
              "      <td>119390.000000</td>\n",
              "      <td>119390.000000</td>\n",
              "      <td>119390.000000</td>\n",
              "      <td>119386.000000</td>\n",
              "      <td>119390.000000</td>\n",
              "      <td>119390.000000</td>\n",
              "      <td>119390.000000</td>\n",
              "      <td>119390.000000</td>\n",
              "      <td>119390.000000</td>\n",
              "      <td>103050.000000</td>\n",
              "      <td>6797.000000</td>\n",
              "      <td>119390.000000</td>\n",
              "      <td>119390.000000</td>\n",
              "      <td>119390.000000</td>\n",
              "      <td>119390.000000</td>\n",
              "    </tr>\n",
              "    <tr>\n",
              "      <th>mean</th>\n",
              "      <td>0.370416</td>\n",
              "      <td>104.011416</td>\n",
              "      <td>2016.156554</td>\n",
              "      <td>27.165173</td>\n",
              "      <td>15.798241</td>\n",
              "      <td>0.927599</td>\n",
              "      <td>2.500302</td>\n",
              "      <td>1.856403</td>\n",
              "      <td>0.103890</td>\n",
              "      <td>0.007949</td>\n",
              "      <td>0.031912</td>\n",
              "      <td>0.087118</td>\n",
              "      <td>0.137097</td>\n",
              "      <td>0.221124</td>\n",
              "      <td>86.693382</td>\n",
              "      <td>189.266735</td>\n",
              "      <td>2.321149</td>\n",
              "      <td>101.831122</td>\n",
              "      <td>0.062518</td>\n",
              "      <td>0.571363</td>\n",
              "    </tr>\n",
              "    <tr>\n",
              "      <th>std</th>\n",
              "      <td>0.482918</td>\n",
              "      <td>106.863097</td>\n",
              "      <td>0.707476</td>\n",
              "      <td>13.605138</td>\n",
              "      <td>8.780829</td>\n",
              "      <td>0.998613</td>\n",
              "      <td>1.908286</td>\n",
              "      <td>0.579261</td>\n",
              "      <td>0.398561</td>\n",
              "      <td>0.097436</td>\n",
              "      <td>0.175767</td>\n",
              "      <td>0.844336</td>\n",
              "      <td>1.497437</td>\n",
              "      <td>0.652306</td>\n",
              "      <td>110.774548</td>\n",
              "      <td>131.655015</td>\n",
              "      <td>17.594721</td>\n",
              "      <td>50.535790</td>\n",
              "      <td>0.245291</td>\n",
              "      <td>0.792798</td>\n",
              "    </tr>\n",
              "    <tr>\n",
              "      <th>min</th>\n",
              "      <td>0.000000</td>\n",
              "      <td>0.000000</td>\n",
              "      <td>2015.000000</td>\n",
              "      <td>1.000000</td>\n",
              "      <td>1.000000</td>\n",
              "      <td>0.000000</td>\n",
              "      <td>0.000000</td>\n",
              "      <td>0.000000</td>\n",
              "      <td>0.000000</td>\n",
              "      <td>0.000000</td>\n",
              "      <td>0.000000</td>\n",
              "      <td>0.000000</td>\n",
              "      <td>0.000000</td>\n",
              "      <td>0.000000</td>\n",
              "      <td>1.000000</td>\n",
              "      <td>6.000000</td>\n",
              "      <td>0.000000</td>\n",
              "      <td>-6.380000</td>\n",
              "      <td>0.000000</td>\n",
              "      <td>0.000000</td>\n",
              "    </tr>\n",
              "    <tr>\n",
              "      <th>25%</th>\n",
              "      <td>0.000000</td>\n",
              "      <td>18.000000</td>\n",
              "      <td>2016.000000</td>\n",
              "      <td>16.000000</td>\n",
              "      <td>8.000000</td>\n",
              "      <td>0.000000</td>\n",
              "      <td>1.000000</td>\n",
              "      <td>2.000000</td>\n",
              "      <td>0.000000</td>\n",
              "      <td>0.000000</td>\n",
              "      <td>0.000000</td>\n",
              "      <td>0.000000</td>\n",
              "      <td>0.000000</td>\n",
              "      <td>0.000000</td>\n",
              "      <td>9.000000</td>\n",
              "      <td>62.000000</td>\n",
              "      <td>0.000000</td>\n",
              "      <td>69.290000</td>\n",
              "      <td>0.000000</td>\n",
              "      <td>0.000000</td>\n",
              "    </tr>\n",
              "    <tr>\n",
              "      <th>50%</th>\n",
              "      <td>0.000000</td>\n",
              "      <td>69.000000</td>\n",
              "      <td>2016.000000</td>\n",
              "      <td>28.000000</td>\n",
              "      <td>16.000000</td>\n",
              "      <td>1.000000</td>\n",
              "      <td>2.000000</td>\n",
              "      <td>2.000000</td>\n",
              "      <td>0.000000</td>\n",
              "      <td>0.000000</td>\n",
              "      <td>0.000000</td>\n",
              "      <td>0.000000</td>\n",
              "      <td>0.000000</td>\n",
              "      <td>0.000000</td>\n",
              "      <td>14.000000</td>\n",
              "      <td>179.000000</td>\n",
              "      <td>0.000000</td>\n",
              "      <td>94.575000</td>\n",
              "      <td>0.000000</td>\n",
              "      <td>0.000000</td>\n",
              "    </tr>\n",
              "    <tr>\n",
              "      <th>75%</th>\n",
              "      <td>1.000000</td>\n",
              "      <td>160.000000</td>\n",
              "      <td>2017.000000</td>\n",
              "      <td>38.000000</td>\n",
              "      <td>23.000000</td>\n",
              "      <td>2.000000</td>\n",
              "      <td>3.000000</td>\n",
              "      <td>2.000000</td>\n",
              "      <td>0.000000</td>\n",
              "      <td>0.000000</td>\n",
              "      <td>0.000000</td>\n",
              "      <td>0.000000</td>\n",
              "      <td>0.000000</td>\n",
              "      <td>0.000000</td>\n",
              "      <td>229.000000</td>\n",
              "      <td>270.000000</td>\n",
              "      <td>0.000000</td>\n",
              "      <td>126.000000</td>\n",
              "      <td>0.000000</td>\n",
              "      <td>1.000000</td>\n",
              "    </tr>\n",
              "    <tr>\n",
              "      <th>max</th>\n",
              "      <td>1.000000</td>\n",
              "      <td>737.000000</td>\n",
              "      <td>2017.000000</td>\n",
              "      <td>53.000000</td>\n",
              "      <td>31.000000</td>\n",
              "      <td>19.000000</td>\n",
              "      <td>50.000000</td>\n",
              "      <td>55.000000</td>\n",
              "      <td>10.000000</td>\n",
              "      <td>10.000000</td>\n",
              "      <td>1.000000</td>\n",
              "      <td>26.000000</td>\n",
              "      <td>72.000000</td>\n",
              "      <td>21.000000</td>\n",
              "      <td>535.000000</td>\n",
              "      <td>543.000000</td>\n",
              "      <td>391.000000</td>\n",
              "      <td>5400.000000</td>\n",
              "      <td>8.000000</td>\n",
              "      <td>5.000000</td>\n",
              "    </tr>\n",
              "  </tbody>\n",
              "</table>\n",
              "</div>\n",
              "      <button class=\"colab-df-convert\" onclick=\"convertToInteractive('df-5955e175-8e36-44c8-9174-cb6ee0f29f0a')\"\n",
              "              title=\"Convert this dataframe to an interactive table.\"\n",
              "              style=\"display:none;\">\n",
              "        \n",
              "  <svg xmlns=\"http://www.w3.org/2000/svg\" height=\"24px\"viewBox=\"0 0 24 24\"\n",
              "       width=\"24px\">\n",
              "    <path d=\"M0 0h24v24H0V0z\" fill=\"none\"/>\n",
              "    <path d=\"M18.56 5.44l.94 2.06.94-2.06 2.06-.94-2.06-.94-.94-2.06-.94 2.06-2.06.94zm-11 1L8.5 8.5l.94-2.06 2.06-.94-2.06-.94L8.5 2.5l-.94 2.06-2.06.94zm10 10l.94 2.06.94-2.06 2.06-.94-2.06-.94-.94-2.06-.94 2.06-2.06.94z\"/><path d=\"M17.41 7.96l-1.37-1.37c-.4-.4-.92-.59-1.43-.59-.52 0-1.04.2-1.43.59L10.3 9.45l-7.72 7.72c-.78.78-.78 2.05 0 2.83L4 21.41c.39.39.9.59 1.41.59.51 0 1.02-.2 1.41-.59l7.78-7.78 2.81-2.81c.8-.78.8-2.07 0-2.86zM5.41 20L4 18.59l7.72-7.72 1.47 1.35L5.41 20z\"/>\n",
              "  </svg>\n",
              "      </button>\n",
              "      \n",
              "  <style>\n",
              "    .colab-df-container {\n",
              "      display:flex;\n",
              "      flex-wrap:wrap;\n",
              "      gap: 12px;\n",
              "    }\n",
              "\n",
              "    .colab-df-convert {\n",
              "      background-color: #E8F0FE;\n",
              "      border: none;\n",
              "      border-radius: 50%;\n",
              "      cursor: pointer;\n",
              "      display: none;\n",
              "      fill: #1967D2;\n",
              "      height: 32px;\n",
              "      padding: 0 0 0 0;\n",
              "      width: 32px;\n",
              "    }\n",
              "\n",
              "    .colab-df-convert:hover {\n",
              "      background-color: #E2EBFA;\n",
              "      box-shadow: 0px 1px 2px rgba(60, 64, 67, 0.3), 0px 1px 3px 1px rgba(60, 64, 67, 0.15);\n",
              "      fill: #174EA6;\n",
              "    }\n",
              "\n",
              "    [theme=dark] .colab-df-convert {\n",
              "      background-color: #3B4455;\n",
              "      fill: #D2E3FC;\n",
              "    }\n",
              "\n",
              "    [theme=dark] .colab-df-convert:hover {\n",
              "      background-color: #434B5C;\n",
              "      box-shadow: 0px 1px 3px 1px rgba(0, 0, 0, 0.15);\n",
              "      filter: drop-shadow(0px 1px 2px rgba(0, 0, 0, 0.3));\n",
              "      fill: #FFFFFF;\n",
              "    }\n",
              "  </style>\n",
              "\n",
              "      <script>\n",
              "        const buttonEl =\n",
              "          document.querySelector('#df-5955e175-8e36-44c8-9174-cb6ee0f29f0a button.colab-df-convert');\n",
              "        buttonEl.style.display =\n",
              "          google.colab.kernel.accessAllowed ? 'block' : 'none';\n",
              "\n",
              "        async function convertToInteractive(key) {\n",
              "          const element = document.querySelector('#df-5955e175-8e36-44c8-9174-cb6ee0f29f0a');\n",
              "          const dataTable =\n",
              "            await google.colab.kernel.invokeFunction('convertToInteractive',\n",
              "                                                     [key], {});\n",
              "          if (!dataTable) return;\n",
              "\n",
              "          const docLinkHtml = 'Like what you see? Visit the ' +\n",
              "            '<a target=\"_blank\" href=https://colab.research.google.com/notebooks/data_table.ipynb>data table notebook</a>'\n",
              "            + ' to learn more about interactive tables.';\n",
              "          element.innerHTML = '';\n",
              "          dataTable['output_type'] = 'display_data';\n",
              "          await google.colab.output.renderOutput(dataTable, element);\n",
              "          const docLink = document.createElement('div');\n",
              "          docLink.innerHTML = docLinkHtml;\n",
              "          element.appendChild(docLink);\n",
              "        }\n",
              "      </script>\n",
              "    </div>\n",
              "  </div>\n",
              "  "
            ]
          },
          "metadata": {},
          "execution_count": 61
        }
      ]
    },
    {
      "cell_type": "code",
      "source": [
        "hdf.columns"
      ],
      "metadata": {
        "colab": {
          "base_uri": "https://localhost:8080/"
        },
        "id": "E8_b8rKACXnL",
        "outputId": "79c8a8da-afdd-490f-ce24-6762b35b37f5"
      },
      "execution_count": 62,
      "outputs": [
        {
          "output_type": "execute_result",
          "data": {
            "text/plain": [
              "Index(['hotel', 'is_canceled', 'lead_time', 'arrival_date_year',\n",
              "       'arrival_date_month', 'arrival_date_week_number',\n",
              "       'arrival_date_day_of_month', 'stays_in_weekend_nights',\n",
              "       'stays_in_week_nights', 'adults', 'children', 'babies', 'meal',\n",
              "       'country', 'market_segment', 'distribution_channel',\n",
              "       'is_repeated_guest', 'previous_cancellations',\n",
              "       'previous_bookings_not_canceled', 'reserved_room_type',\n",
              "       'assigned_room_type', 'booking_changes', 'deposit_type', 'agent',\n",
              "       'company', 'days_in_waiting_list', 'customer_type', 'adr',\n",
              "       'required_car_parking_spaces', 'total_of_special_requests',\n",
              "       'reservation_status', 'reservation_status_date'],\n",
              "      dtype='object')"
            ]
          },
          "metadata": {},
          "execution_count": 62
        }
      ]
    },
    {
      "cell_type": "markdown",
      "source": [
        "# Exploring every column of database, try to analyse and taking notes\n"
      ],
      "metadata": {
        "id": "OuSfqe0usGI-"
      }
    },
    {
      "cell_type": "code",
      "source": [
        "# 0th column\n",
        "hdf['hotel'].unique()"
      ],
      "metadata": {
        "colab": {
          "base_uri": "https://localhost:8080/"
        },
        "id": "P7R5j7PdCbnK",
        "outputId": "cc3fea9b-0547-4d86-df6e-51275ff4cead"
      },
      "execution_count": 10,
      "outputs": [
        {
          "output_type": "execute_result",
          "data": {
            "text/plain": [
              "array(['Resort Hotel', 'City Hotel'], dtype=object)"
            ]
          },
          "metadata": {},
          "execution_count": 10
        }
      ]
    },
    {
      "cell_type": "code",
      "source": [
        "# 1st column\n",
        "hdf['is_canceled'].unique()"
      ],
      "metadata": {
        "id": "DWetkUIRWQJ-"
      },
      "execution_count": 52,
      "outputs": []
    },
    {
      "cell_type": "code",
      "source": [
        "#2nd column\n",
        "hdf['lead_time'].unique()"
      ],
      "metadata": {
        "colab": {
          "base_uri": "https://localhost:8080/"
        },
        "id": "a8fkUJsLW0fD",
        "outputId": "262cb0b2-404b-4e19-c1c8-eeb6f5705e14"
      },
      "execution_count": 12,
      "outputs": [
        {
          "output_type": "execute_result",
          "data": {
            "text/plain": [
              "array([342, 737,   7,  13,  14,   0,   9,  85,  75,  23,  35,  68,  18,\n",
              "        37,  12,  72, 127,  78,  48,  60,  77,  99, 118,  95,  96,  69,\n",
              "        45,  40,  15,  36,  43,  70,  16, 107,  47, 113,  90,  50,  93,\n",
              "        76,   3,   1,  10,   5,  17,  51,  71,  63,  62, 101,   2,  81,\n",
              "       368, 364, 324,  79,  21, 109, 102,   4,  98,  92,  26,  73, 115,\n",
              "        86,  52,  29,  30,  33,  32,   8, 100,  44,  80,  97,  64,  39,\n",
              "        34,  27,  82,  94, 110, 111,  84,  66, 104,  28, 258, 112,  65,\n",
              "        67,  55,  88,  54, 292,  83, 105, 280, 394,  24, 103, 366, 249,\n",
              "        22,  91,  11, 108, 106,  31,  87,  41, 304, 117,  59,  53,  58,\n",
              "       116,  42, 321,  38,  56,  49, 317,   6,  57,  19,  25, 315, 123,\n",
              "        46,  89,  61, 312, 299, 130,  74, 298, 119,  20, 286, 136, 129,\n",
              "       124, 327, 131, 460, 140, 114, 139, 122, 137, 126, 120, 128, 135,\n",
              "       150, 143, 151, 132, 125, 157, 147, 138, 156, 164, 346, 159, 160,\n",
              "       161, 333, 381, 149, 154, 297, 163, 314, 155, 323, 340, 356, 142,\n",
              "       328, 144, 336, 248, 302, 175, 344, 382, 146, 170, 166, 338, 167,\n",
              "       310, 148, 165, 172, 171, 145, 121, 178, 305, 173, 152, 354, 347,\n",
              "       158, 185, 349, 183, 352, 177, 200, 192, 361, 207, 174, 330, 134,\n",
              "       350, 334, 283, 153, 197, 133, 241, 193, 235, 194, 261, 260, 216,\n",
              "       169, 209, 238, 215, 141, 189, 187, 223, 284, 214, 202, 211, 168,\n",
              "       230, 203, 188, 232, 709, 219, 162, 196, 190, 259, 228, 176, 250,\n",
              "       201, 186, 199, 180, 206, 205, 224, 222, 182, 210, 275, 212, 229,\n",
              "       218, 208, 191, 181, 179, 246, 255, 226, 288, 253, 252, 262, 236,\n",
              "       256, 234, 254, 468, 213, 237, 198, 195, 239, 263, 265, 274, 217,\n",
              "       220, 307, 221, 233, 257, 227, 276, 225, 264, 311, 277, 204, 290,\n",
              "       266, 270, 294, 319, 282, 251, 322, 291, 269, 240, 271, 184, 231,\n",
              "       268, 247, 273, 300, 301, 267, 244, 306, 293, 309, 272, 242, 295,\n",
              "       285, 243, 308, 398, 303, 245, 424, 279, 331, 281, 339, 434, 357,\n",
              "       325, 329, 278, 332, 343, 345, 360, 348, 367, 353, 373, 374, 406,\n",
              "       400, 326, 379, 399, 316, 341, 320, 385, 355, 363, 358, 296, 422,\n",
              "       390, 335, 370, 376, 375, 397, 289, 542, 403, 383, 384, 359, 393,\n",
              "       337, 362, 365, 435, 386, 378, 313, 351, 287, 471, 462, 411, 450,\n",
              "       318, 372, 371, 454, 532, 445, 389, 388, 407, 443, 437, 451, 391,\n",
              "       405, 412, 419, 420, 426, 433, 440, 429, 418, 447, 461, 605, 457,\n",
              "       475, 464, 482, 626, 489, 496, 503, 510, 517, 524, 531, 538, 545,\n",
              "       552, 559, 566, 573, 580, 587, 594, 601, 608, 615, 622, 629, 396,\n",
              "       410, 395, 423, 408, 409, 448, 465, 387, 414, 476, 479, 467, 490,\n",
              "       493, 478, 504, 507, 458, 518, 521, 377, 444, 380, 463])"
            ]
          },
          "metadata": {},
          "execution_count": 12
        }
      ]
    },
    {
      "cell_type": "code",
      "source": [
        "# 3rd column\n",
        "hdf['arrival_date_year'].unique()"
      ],
      "metadata": {
        "colab": {
          "base_uri": "https://localhost:8080/"
        },
        "id": "2y9K3SKlYMix",
        "outputId": "7657277d-0e96-4446-f236-587d0750527a"
      },
      "execution_count": 13,
      "outputs": [
        {
          "output_type": "execute_result",
          "data": {
            "text/plain": [
              "array([2015, 2016, 2017])"
            ]
          },
          "metadata": {},
          "execution_count": 13
        }
      ]
    },
    {
      "cell_type": "code",
      "source": [
        "# 4th column\n",
        "hdf['arrival_date_month'].unique()"
      ],
      "metadata": {
        "colab": {
          "base_uri": "https://localhost:8080/"
        },
        "id": "qliinxGLbSl-",
        "outputId": "3cf2d3a0-ae13-410c-8b30-cc3a67a6c0e4"
      },
      "execution_count": 14,
      "outputs": [
        {
          "output_type": "execute_result",
          "data": {
            "text/plain": [
              "array(['July', 'August', 'September', 'October', 'November', 'December',\n",
              "       'January', 'February', 'March', 'April', 'May', 'June'],\n",
              "      dtype=object)"
            ]
          },
          "metadata": {},
          "execution_count": 14
        }
      ]
    },
    {
      "cell_type": "code",
      "source": [
        "# 5th column\n",
        "hdf['arrival_date_week_number'].unique()"
      ],
      "metadata": {
        "colab": {
          "base_uri": "https://localhost:8080/"
        },
        "id": "YyiXEOtpY__E",
        "outputId": "f1e29434-18a8-4d37-c39f-fb52781fbdee"
      },
      "execution_count": 15,
      "outputs": [
        {
          "output_type": "execute_result",
          "data": {
            "text/plain": [
              "array([27, 28, 29, 30, 31, 32, 33, 34, 35, 36, 37, 38, 39, 40, 41, 42, 43,\n",
              "       44, 45, 46, 47, 48, 49, 50, 51, 52, 53,  1,  2,  3,  4,  5,  6,  7,\n",
              "        8,  9, 10, 11, 12, 13, 14, 15, 16, 17, 18, 19, 20, 21, 22, 23, 24,\n",
              "       25, 26])"
            ]
          },
          "metadata": {},
          "execution_count": 15
        }
      ]
    },
    {
      "cell_type": "code",
      "source": [
        "# 6th column\n",
        "hdf['arrival_date_day_of_month'].unique()"
      ],
      "metadata": {
        "colab": {
          "base_uri": "https://localhost:8080/"
        },
        "id": "j1cZrY2NZfNN",
        "outputId": "022cbf72-24f9-42b5-a350-7ef2e10dae6a"
      },
      "execution_count": 16,
      "outputs": [
        {
          "output_type": "execute_result",
          "data": {
            "text/plain": [
              "array([ 1,  2,  3,  4,  5,  6,  7,  8,  9, 10, 11, 12, 13, 14, 15, 16, 17,\n",
              "       18, 19, 20, 21, 22, 23, 24, 25, 26, 27, 28, 29, 30, 31])"
            ]
          },
          "metadata": {},
          "execution_count": 16
        }
      ]
    },
    {
      "cell_type": "code",
      "source": [
        "# 7th column\n",
        "hdf['stays_in_weekend_nights'].unique()"
      ],
      "metadata": {
        "colab": {
          "base_uri": "https://localhost:8080/"
        },
        "id": "7Lk3M3YAch_T",
        "outputId": "836f322b-c64a-4225-9e52-3ed31f71af7e"
      },
      "execution_count": 17,
      "outputs": [
        {
          "output_type": "execute_result",
          "data": {
            "text/plain": [
              "array([ 0,  1,  2,  4,  3,  6, 13,  8,  5,  7, 12,  9, 16, 18, 19, 10, 14])"
            ]
          },
          "metadata": {},
          "execution_count": 17
        }
      ]
    },
    {
      "cell_type": "code",
      "source": [
        "# 8th column\n",
        "hdf['stays_in_week_nights'].unique()"
      ],
      "metadata": {
        "colab": {
          "base_uri": "https://localhost:8080/"
        },
        "id": "G_BZvTMAdesZ",
        "outputId": "a774d18b-d716-4d2e-b25f-b3331d75324d"
      },
      "execution_count": 18,
      "outputs": [
        {
          "output_type": "execute_result",
          "data": {
            "text/plain": [
              "array([ 0,  1,  2,  3,  4,  5, 10, 11,  8,  6,  7, 15,  9, 12, 33, 20, 14,\n",
              "       16, 21, 13, 30, 19, 24, 40, 22, 42, 50, 25, 17, 32, 26, 18, 34, 35,\n",
              "       41])"
            ]
          },
          "metadata": {},
          "execution_count": 18
        }
      ]
    },
    {
      "cell_type": "code",
      "source": [
        "# 9th column\n",
        "hdf['adults'].unique()"
      ],
      "metadata": {
        "colab": {
          "base_uri": "https://localhost:8080/"
        },
        "id": "-PbfXhgSd2tm",
        "outputId": "29090a4b-d055-452c-f862-596086cc4a09"
      },
      "execution_count": 19,
      "outputs": [
        {
          "output_type": "execute_result",
          "data": {
            "text/plain": [
              "array([ 2,  1,  3,  4, 40, 26, 50, 27, 55,  0, 20,  6,  5, 10])"
            ]
          },
          "metadata": {},
          "execution_count": 19
        }
      ]
    },
    {
      "cell_type": "code",
      "source": [
        "# 10th column\n",
        "hdf['children'].unique()"
      ],
      "metadata": {
        "colab": {
          "base_uri": "https://localhost:8080/"
        },
        "id": "f4_ctT1JeSiJ",
        "outputId": "48de94bb-f051-46c7-8567-c924c3e76adc"
      },
      "execution_count": 20,
      "outputs": [
        {
          "output_type": "execute_result",
          "data": {
            "text/plain": [
              "array([ 0.,  1.,  2., 10.,  3., nan])"
            ]
          },
          "metadata": {},
          "execution_count": 20
        }
      ]
    },
    {
      "cell_type": "code",
      "source": [
        "# 11th column\n",
        "hdf['babies'].unique()"
      ],
      "metadata": {
        "colab": {
          "base_uri": "https://localhost:8080/"
        },
        "id": "BiX75D7Ciyxr",
        "outputId": "1bc7cf75-e34f-45ac-fb73-7ee407115111"
      },
      "execution_count": 21,
      "outputs": [
        {
          "output_type": "execute_result",
          "data": {
            "text/plain": [
              "array([ 0,  1,  2, 10,  9])"
            ]
          },
          "metadata": {},
          "execution_count": 21
        }
      ]
    },
    {
      "cell_type": "code",
      "source": [
        "# 12th column\n",
        "hdf['meal'].unique()"
      ],
      "metadata": {
        "colab": {
          "base_uri": "https://localhost:8080/"
        },
        "id": "o4nMLd2TjMq7",
        "outputId": "fa1bc58b-76d2-488e-8a0d-652c75a42cc0"
      },
      "execution_count": 22,
      "outputs": [
        {
          "output_type": "execute_result",
          "data": {
            "text/plain": [
              "array(['BB', 'FB', 'HB', 'SC', 'Undefined'], dtype=object)"
            ]
          },
          "metadata": {},
          "execution_count": 22
        }
      ]
    },
    {
      "cell_type": "code",
      "source": [
        "# 13th column\n",
        "hdf['country'].unique()"
      ],
      "metadata": {
        "colab": {
          "base_uri": "https://localhost:8080/"
        },
        "id": "1bhc3GG9lC8K",
        "outputId": "1a8a53c0-bc02-4a12-9d0c-7b5f26f92797"
      },
      "execution_count": 23,
      "outputs": [
        {
          "output_type": "execute_result",
          "data": {
            "text/plain": [
              "array(['PRT', 'GBR', 'USA', 'ESP', 'IRL', 'FRA', nan, 'ROU', 'NOR', 'OMN',\n",
              "       'ARG', 'POL', 'DEU', 'BEL', 'CHE', 'CN', 'GRC', 'ITA', 'NLD',\n",
              "       'DNK', 'RUS', 'SWE', 'AUS', 'EST', 'CZE', 'BRA', 'FIN', 'MOZ',\n",
              "       'BWA', 'LUX', 'SVN', 'ALB', 'IND', 'CHN', 'MEX', 'MAR', 'UKR',\n",
              "       'SMR', 'LVA', 'PRI', 'SRB', 'CHL', 'AUT', 'BLR', 'LTU', 'TUR',\n",
              "       'ZAF', 'AGO', 'ISR', 'CYM', 'ZMB', 'CPV', 'ZWE', 'DZA', 'KOR',\n",
              "       'CRI', 'HUN', 'ARE', 'TUN', 'JAM', 'HRV', 'HKG', 'IRN', 'GEO',\n",
              "       'AND', 'GIB', 'URY', 'JEY', 'CAF', 'CYP', 'COL', 'GGY', 'KWT',\n",
              "       'NGA', 'MDV', 'VEN', 'SVK', 'FJI', 'KAZ', 'PAK', 'IDN', 'LBN',\n",
              "       'PHL', 'SEN', 'SYC', 'AZE', 'BHR', 'NZL', 'THA', 'DOM', 'MKD',\n",
              "       'MYS', 'ARM', 'JPN', 'LKA', 'CUB', 'CMR', 'BIH', 'MUS', 'COM',\n",
              "       'SUR', 'UGA', 'BGR', 'CIV', 'JOR', 'SYR', 'SGP', 'BDI', 'SAU',\n",
              "       'VNM', 'PLW', 'QAT', 'EGY', 'PER', 'MLT', 'MWI', 'ECU', 'MDG',\n",
              "       'ISL', 'UZB', 'NPL', 'BHS', 'MAC', 'TGO', 'TWN', 'DJI', 'STP',\n",
              "       'KNA', 'ETH', 'IRQ', 'HND', 'RWA', 'KHM', 'MCO', 'BGD', 'IMN',\n",
              "       'TJK', 'NIC', 'BEN', 'VGB', 'TZA', 'GAB', 'GHA', 'TMP', 'GLP',\n",
              "       'KEN', 'LIE', 'GNB', 'MNE', 'UMI', 'MYT', 'FRO', 'MMR', 'PAN',\n",
              "       'BFA', 'LBY', 'MLI', 'NAM', 'BOL', 'PRY', 'BRB', 'ABW', 'AIA',\n",
              "       'SLV', 'DMA', 'PYF', 'GUY', 'LCA', 'ATA', 'GTM', 'ASM', 'MRT',\n",
              "       'NCL', 'KIR', 'SDN', 'ATF', 'SLE', 'LAO'], dtype=object)"
            ]
          },
          "metadata": {},
          "execution_count": 23
        }
      ]
    },
    {
      "cell_type": "code",
      "source": [
        "# 14th column\n",
        "hdf['market_segment'].unique()"
      ],
      "metadata": {
        "colab": {
          "base_uri": "https://localhost:8080/"
        },
        "id": "pT7gu63Qld7w",
        "outputId": "f1463cd8-9821-49ed-e34c-ee389776117c"
      },
      "execution_count": 24,
      "outputs": [
        {
          "output_type": "execute_result",
          "data": {
            "text/plain": [
              "array(['Direct', 'Corporate', 'Online TA', 'Offline TA/TO',\n",
              "       'Complementary', 'Groups', 'Undefined', 'Aviation'], dtype=object)"
            ]
          },
          "metadata": {},
          "execution_count": 24
        }
      ]
    },
    {
      "cell_type": "code",
      "source": [
        "# 15th column\n",
        "hdf['distribution_channel'].unique()"
      ],
      "metadata": {
        "colab": {
          "base_uri": "https://localhost:8080/"
        },
        "id": "XEmJJPBbmiRz",
        "outputId": "ecd29729-221f-4a52-c261-43b103a87028"
      },
      "execution_count": 25,
      "outputs": [
        {
          "output_type": "execute_result",
          "data": {
            "text/plain": [
              "array(['Direct', 'Corporate', 'TA/TO', 'Undefined', 'GDS'], dtype=object)"
            ]
          },
          "metadata": {},
          "execution_count": 25
        }
      ]
    },
    {
      "cell_type": "code",
      "source": [
        "# 16th column\n",
        "hdf['is_repeated_guest'].unique()"
      ],
      "metadata": {
        "colab": {
          "base_uri": "https://localhost:8080/"
        },
        "id": "5XtCVBrwnBPF",
        "outputId": "f793a00d-b69d-4881-84dc-6d5120557dde"
      },
      "execution_count": 26,
      "outputs": [
        {
          "output_type": "execute_result",
          "data": {
            "text/plain": [
              "array([0, 1])"
            ]
          },
          "metadata": {},
          "execution_count": 26
        }
      ]
    },
    {
      "cell_type": "code",
      "source": [
        "# 17th column\n",
        "hdf['previous_cancellations'].unique()"
      ],
      "metadata": {
        "colab": {
          "base_uri": "https://localhost:8080/"
        },
        "id": "gE-i5KbPnkYd",
        "outputId": "16ea11e5-8295-4ba3-d0fd-7f4cee999eae"
      },
      "execution_count": 27,
      "outputs": [
        {
          "output_type": "execute_result",
          "data": {
            "text/plain": [
              "array([ 0,  1,  2,  3, 26, 25, 14,  4, 24, 19,  5, 21,  6, 13, 11])"
            ]
          },
          "metadata": {},
          "execution_count": 27
        }
      ]
    },
    {
      "cell_type": "code",
      "source": [
        "# 18th column\n",
        "hdf['previous_bookings_not_canceled'].unique()"
      ],
      "metadata": {
        "colab": {
          "base_uri": "https://localhost:8080/"
        },
        "id": "Mpci4Uiin-vO",
        "outputId": "58995fc5-7a57-449c-c9e1-188e0881c7e0"
      },
      "execution_count": 28,
      "outputs": [
        {
          "output_type": "execute_result",
          "data": {
            "text/plain": [
              "array([ 0,  1,  2,  3,  4,  5,  6,  7,  8,  9, 10, 11, 12, 13, 14, 15, 16,\n",
              "       17, 18, 20, 21, 22, 23, 24, 25, 27, 28, 29, 30, 19, 26, 31, 32, 33,\n",
              "       34, 35, 36, 37, 38, 39, 40, 41, 42, 43, 44, 45, 46, 47, 48, 49, 50,\n",
              "       51, 52, 53, 54, 55, 56, 57, 58, 59, 60, 61, 62, 63, 64, 65, 66, 67,\n",
              "       68, 69, 70, 71, 72])"
            ]
          },
          "metadata": {},
          "execution_count": 28
        }
      ]
    },
    {
      "cell_type": "code",
      "source": [
        "# 19th column\n",
        "hdf['reserved_room_type'].unique()"
      ],
      "metadata": {
        "colab": {
          "base_uri": "https://localhost:8080/"
        },
        "id": "s9S9C5TEpfTu",
        "outputId": "b4cbdd51-bb39-48a6-9459-2d47da9c1917"
      },
      "execution_count": 29,
      "outputs": [
        {
          "output_type": "execute_result",
          "data": {
            "text/plain": [
              "array(['C', 'A', 'D', 'E', 'G', 'F', 'H', 'L', 'P', 'B'], dtype=object)"
            ]
          },
          "metadata": {},
          "execution_count": 29
        }
      ]
    },
    {
      "cell_type": "code",
      "source": [
        "# 20th column\n",
        "hdf['assigned_room_type'].unique()"
      ],
      "metadata": {
        "colab": {
          "base_uri": "https://localhost:8080/"
        },
        "id": "wU82e5oxC0hs",
        "outputId": "5442e1af-8d0b-4c90-ca7d-dfb6fbb4980b"
      },
      "execution_count": 30,
      "outputs": [
        {
          "output_type": "execute_result",
          "data": {
            "text/plain": [
              "array(['C', 'A', 'D', 'E', 'G', 'F', 'I', 'B', 'H', 'P', 'L', 'K'],\n",
              "      dtype=object)"
            ]
          },
          "metadata": {},
          "execution_count": 30
        }
      ]
    },
    {
      "cell_type": "code",
      "source": [
        "# 21st column\n",
        "hdf['booking_changes'].unique()"
      ],
      "metadata": {
        "colab": {
          "base_uri": "https://localhost:8080/"
        },
        "id": "V43Rs6aqEKdQ",
        "outputId": "3b3de2ce-0ea6-46d6-a491-c5b21c60062e"
      },
      "execution_count": 32,
      "outputs": [
        {
          "output_type": "execute_result",
          "data": {
            "text/plain": [
              "array([ 3,  4,  0,  1,  2,  5, 17,  6,  8,  7, 10, 16,  9, 13, 12, 20, 14,\n",
              "       15, 11, 21, 18])"
            ]
          },
          "metadata": {},
          "execution_count": 32
        }
      ]
    },
    {
      "cell_type": "code",
      "source": [
        "# 22nd column\n",
        "hdf['deposit_type'].unique()"
      ],
      "metadata": {
        "colab": {
          "base_uri": "https://localhost:8080/"
        },
        "id": "yVtESHPmEpcP",
        "outputId": "c776437d-b176-4b5a-b89b-a6241596bba9"
      },
      "execution_count": 33,
      "outputs": [
        {
          "output_type": "execute_result",
          "data": {
            "text/plain": [
              "array(['No Deposit', 'Refundable', 'Non Refund'], dtype=object)"
            ]
          },
          "metadata": {},
          "execution_count": 33
        }
      ]
    },
    {
      "cell_type": "code",
      "source": [
        "# 23rd column\n",
        "hdf['agent'].unique()"
      ],
      "metadata": {
        "colab": {
          "base_uri": "https://localhost:8080/"
        },
        "id": "n0Y7Bzg_FD77",
        "outputId": "99b07699-1515-4fbd-acd4-c23231f1ffe0"
      },
      "execution_count": 34,
      "outputs": [
        {
          "output_type": "execute_result",
          "data": {
            "text/plain": [
              "array([ nan, 304., 240., 303.,  15., 241.,   8., 250., 115.,   5., 175.,\n",
              "       134., 156., 243., 242.,   3., 105.,  40., 147., 306., 184.,  96.,\n",
              "         2., 127.,  95., 146.,   9., 177.,   6., 143., 244., 149., 167.,\n",
              "       300., 171., 305.,  67., 196., 152., 142., 261., 104.,  36.,  26.,\n",
              "        29., 258., 110.,  71., 181.,  88., 251., 275.,  69., 248., 208.,\n",
              "       256., 314., 126., 281., 273., 253., 185., 330., 334., 328., 326.,\n",
              "       321., 324., 313.,  38., 155.,  68., 335., 308., 332.,  94., 348.,\n",
              "       310., 339., 375.,  66., 327., 387., 298.,  91., 245., 385., 257.,\n",
              "       393., 168., 405., 249., 315.,  75., 128., 307.,  11., 436.,   1.,\n",
              "       201., 183., 223., 368., 336., 291., 464., 411., 481.,  10., 154.,\n",
              "       468., 410., 390., 440., 495., 492., 493., 434.,  57., 531., 420.,\n",
              "       483., 526., 472., 429.,  16., 446.,  34.,  78., 139., 252., 270.,\n",
              "        47., 114., 301., 193., 182., 135., 350., 195., 352., 355., 159.,\n",
              "       363., 384., 360., 331., 367.,  64., 406., 163., 414., 333., 427.,\n",
              "       431., 430., 426., 438., 433., 418., 441., 282., 432.,  72., 450.,\n",
              "       180., 454., 455.,  59., 451., 254., 358., 469., 165., 467., 510.,\n",
              "       337., 476., 502., 527., 479., 508., 535., 302., 497., 187.,  13.,\n",
              "         7.,  27.,  14.,  22.,  17.,  28.,  42.,  20.,  19.,  45.,  37.,\n",
              "        61.,  39.,  21.,  24.,  41.,  50.,  30.,  54.,  52.,  12.,  44.,\n",
              "        31.,  83.,  32.,  63.,  60.,  55.,  56.,  89.,  87., 118.,  86.,\n",
              "        85., 210., 214., 129., 179., 138., 174., 170., 153.,  93., 151.,\n",
              "       119.,  35., 173.,  58.,  53., 133.,  79., 235., 192., 191., 236.,\n",
              "       162., 215., 157., 287., 132., 234.,  98.,  77., 103., 107., 262.,\n",
              "       220., 121., 205., 378.,  23., 296., 290., 229.,  33., 286., 276.,\n",
              "       425., 484., 323., 403., 219., 394., 509., 111., 423.,   4.,  70.,\n",
              "        82.,  81.,  74.,  92.,  99.,  90., 112., 117., 106., 148., 158.,\n",
              "       144., 211., 213., 216., 232., 150., 267., 227., 247., 278., 280.,\n",
              "       285., 289., 269., 295., 265., 288., 122., 294., 325., 341., 344.,\n",
              "       346., 359., 283., 364., 370., 371.,  25., 141., 391., 397., 416.,\n",
              "       404., 299., 197.,  73., 354., 444., 408., 461., 388., 453., 459.,\n",
              "       474., 475., 480., 449.])"
            ]
          },
          "metadata": {},
          "execution_count": 34
        }
      ]
    },
    {
      "cell_type": "code",
      "source": [
        "# 24th column\n",
        "hdf['company'].unique()"
      ],
      "metadata": {
        "colab": {
          "base_uri": "https://localhost:8080/"
        },
        "id": "1Wr_ZtYmFWMD",
        "outputId": "ce9dbd79-a0fd-43fd-9242-1dc04f6c1fda"
      },
      "execution_count": 35,
      "outputs": [
        {
          "output_type": "execute_result",
          "data": {
            "text/plain": [
              "array([ nan, 110., 113., 270., 178., 240., 154., 144., 307., 268.,  59.,\n",
              "       204., 312., 318.,  94., 174., 274., 195., 223., 317., 281., 118.,\n",
              "        53., 286.,  12.,  47., 324., 342., 373., 371., 383.,  86.,  82.,\n",
              "       218.,  88.,  31., 397., 392., 405., 331., 367.,  20.,  83., 416.,\n",
              "        51., 395., 102.,  34.,  84., 360., 394., 457., 382., 461., 478.,\n",
              "       386., 112., 486., 421.,   9., 308., 135., 224., 504., 269., 356.,\n",
              "       498., 390., 513., 203., 263., 477., 521., 169., 515., 445., 337.,\n",
              "       251., 428., 292., 388., 130., 250., 355., 254., 543., 531., 528.,\n",
              "        62., 120.,  42.,  81., 116., 530., 103.,  39.,  16.,  92.,  61.,\n",
              "       501., 165., 291., 290.,  43., 325., 192., 108., 200., 465., 287.,\n",
              "       297., 490., 482., 207., 282., 437., 225., 329., 272.,  28.,  77.,\n",
              "       338.,  72., 246., 319., 146., 159., 380., 323., 511., 407., 278.,\n",
              "        80., 403., 399.,  14., 137., 343., 346., 347., 349., 289., 351.,\n",
              "       353.,  54.,  99., 358., 361., 362., 366., 372., 365., 277., 109.,\n",
              "       377., 379.,  22., 378., 330., 364., 401., 232., 255., 384., 167.,\n",
              "       212., 514., 391., 400., 376., 402., 396., 302., 398.,   6., 370.,\n",
              "       369., 409., 168., 104., 408., 413., 148.,  10., 333., 419., 415.,\n",
              "       424., 425., 423., 422., 435., 439., 442., 448., 443., 454., 444.,\n",
              "        52., 459., 458., 456., 460., 447., 470., 466., 484., 184., 485.,\n",
              "        32., 487., 491., 494., 193., 516., 496., 499.,  29.,  78., 520.,\n",
              "       507., 506., 512., 126.,  64., 242., 518., 523., 539., 534., 436.,\n",
              "       525., 541.,  40., 455., 410.,  45.,  38.,  49.,  48.,  67.,  68.,\n",
              "        65.,  91.,  37.,   8., 179., 209., 219., 221., 227., 153., 186.,\n",
              "       253., 202., 216., 275., 233., 280., 309., 321.,  93., 316.,  85.,\n",
              "       107., 350., 279., 334., 348., 150.,  73., 385., 418., 197., 450.,\n",
              "       452., 115.,  46.,  76.,  96., 100., 105., 101., 122.,  11., 139.,\n",
              "       142., 127., 143., 140., 149., 163., 160., 180., 238., 183., 222.,\n",
              "       185., 217., 215., 213., 237., 230., 234.,  35., 245., 158., 258.,\n",
              "       259., 260., 411., 257., 271.,  18., 106., 210., 273.,  71., 284.,\n",
              "       301., 305., 293., 264., 311., 304., 313., 288., 320., 314., 332.,\n",
              "       341., 352., 243., 368., 393., 132., 220., 412., 420., 426., 417.,\n",
              "       429., 433., 446., 357., 479., 483., 489., 229., 481., 497., 451.,\n",
              "       492.])"
            ]
          },
          "metadata": {},
          "execution_count": 35
        }
      ]
    },
    {
      "cell_type": "code",
      "source": [
        "# 25th column\n",
        "hdf['days_in_waiting_list'].unique()\n"
      ],
      "metadata": {
        "colab": {
          "base_uri": "https://localhost:8080/"
        },
        "id": "ocp0SxNiFnHx",
        "outputId": "04965ef4-d8cd-48e9-f975-b37a3cca4337"
      },
      "execution_count": 36,
      "outputs": [
        {
          "output_type": "execute_result",
          "data": {
            "text/plain": [
              "array([  0,  50,  47,  65, 122,  75, 101, 150, 125,  14,  60,  34, 100,\n",
              "        22, 121,  61,  39,   5,   1,   8, 107,  43,  52,   2,  11, 142,\n",
              "       116,  13,  44,  97,  83,   4, 113,  18,  20, 185,  93, 109,   6,\n",
              "        37, 105, 154,  64,  99,  38,  48,  33,  77,  21,  80,  59,  40,\n",
              "        58,  89,  53,  49,  69,  87,  91,  57, 111,  79,  98,  85,  63,\n",
              "        15,   3,  41, 224,  31,  56, 187, 176,  71,  55,  96, 236, 259,\n",
              "       207, 215, 160, 120,  30,  32,  27,  62,  24, 108, 147, 379,  70,\n",
              "        35, 178, 330, 223, 174, 162, 391,  68, 193,  10,  76,  16,  28,\n",
              "         9, 165,  17,  25,  46,   7,  84, 175, 183,  23, 117,  12,  54,\n",
              "        26,  73,  45,  19,  42,  72,  81,  92,  74, 167,  36])"
            ]
          },
          "metadata": {},
          "execution_count": 36
        }
      ]
    },
    {
      "cell_type": "code",
      "source": [
        "# 26th column\n",
        "hdf['customer_type'].unique()"
      ],
      "metadata": {
        "colab": {
          "base_uri": "https://localhost:8080/"
        },
        "id": "6BAsl39XGSHq",
        "outputId": "e0746c02-7f33-40a7-a39e-440e5daf6000"
      },
      "execution_count": 37,
      "outputs": [
        {
          "output_type": "execute_result",
          "data": {
            "text/plain": [
              "array(['Transient', 'Contract', 'Transient-Party', 'Group'], dtype=object)"
            ]
          },
          "metadata": {},
          "execution_count": 37
        }
      ]
    },
    {
      "cell_type": "code",
      "source": [
        "# 27th column\n",
        "hdf['adr'].unique()"
      ],
      "metadata": {
        "colab": {
          "base_uri": "https://localhost:8080/"
        },
        "id": "cuzRC64vI3ZO",
        "outputId": "6b6ef536-0630-4f92-bb5e-fca90c1f4000"
      },
      "execution_count": 41,
      "outputs": [
        {
          "output_type": "execute_result",
          "data": {
            "text/plain": [
              "array([  0.  ,  75.  ,  98.  , ..., 266.75, 209.25, 157.71])"
            ]
          },
          "metadata": {},
          "execution_count": 41
        }
      ]
    },
    {
      "cell_type": "code",
      "source": [
        "# 28th column\n",
        "hdf['required_car_parking_spaces'].unique()"
      ],
      "metadata": {
        "colab": {
          "base_uri": "https://localhost:8080/"
        },
        "id": "lkwPzj5FJV2T",
        "outputId": "2b6ca13e-e473-4cc3-d941-90426bc68af6"
      },
      "execution_count": 42,
      "outputs": [
        {
          "output_type": "execute_result",
          "data": {
            "text/plain": [
              "array([0, 1, 2, 8, 3])"
            ]
          },
          "metadata": {},
          "execution_count": 42
        }
      ]
    },
    {
      "cell_type": "code",
      "source": [
        "# 29th column\n",
        "hdf['total_of_special_requests'].unique()"
      ],
      "metadata": {
        "colab": {
          "base_uri": "https://localhost:8080/"
        },
        "id": "e0q7zTrDJwYc",
        "outputId": "afb3fdda-578d-4ef0-dca4-0c03428a0daa"
      },
      "execution_count": 43,
      "outputs": [
        {
          "output_type": "execute_result",
          "data": {
            "text/plain": [
              "array([0, 1, 3, 2, 4, 5])"
            ]
          },
          "metadata": {},
          "execution_count": 43
        }
      ]
    },
    {
      "cell_type": "code",
      "source": [
        "# 30th column\n",
        "hdf['reservation_status'].unique()"
      ],
      "metadata": {
        "colab": {
          "base_uri": "https://localhost:8080/"
        },
        "id": "1FLJ-TVgKcHZ",
        "outputId": "5d60c6bc-fe1f-4cb4-9b1d-41d41558d3d7"
      },
      "execution_count": 45,
      "outputs": [
        {
          "output_type": "execute_result",
          "data": {
            "text/plain": [
              "array(['Check-Out', 'Canceled', 'No-Show'], dtype=object)"
            ]
          },
          "metadata": {},
          "execution_count": 45
        }
      ]
    },
    {
      "cell_type": "code",
      "source": [
        "# 31st column\n",
        "hdf['reservation_status_date'].unique()"
      ],
      "metadata": {
        "colab": {
          "base_uri": "https://localhost:8080/"
        },
        "id": "2Avjhp2xKh74",
        "outputId": "6e8138f0-d2c7-4541-ac1e-a1eb3603d33a"
      },
      "execution_count": 46,
      "outputs": [
        {
          "output_type": "execute_result",
          "data": {
            "text/plain": [
              "array(['2015-07-01', '2015-07-02', '2015-07-03', '2015-05-06',\n",
              "       '2015-04-22', '2015-06-23', '2015-07-05', '2015-07-06',\n",
              "       '2015-07-07', '2015-07-08', '2015-05-11', '2015-07-15',\n",
              "       '2015-07-16', '2015-05-29', '2015-05-19', '2015-06-19',\n",
              "       '2015-05-23', '2015-05-18', '2015-07-09', '2015-06-02',\n",
              "       '2015-07-13', '2015-07-04', '2015-06-29', '2015-06-16',\n",
              "       '2015-06-18', '2015-06-12', '2015-06-09', '2015-05-26',\n",
              "       '2015-07-11', '2015-07-12', '2015-07-17', '2015-04-15',\n",
              "       '2015-05-13', '2015-07-10', '2015-05-20', '2015-05-12',\n",
              "       '2015-07-14', '2015-06-17', '2015-05-01', '2015-03-30',\n",
              "       '2015-07-19', '2015-06-03', '2015-06-26', '2015-05-14',\n",
              "       '2015-07-20', '2015-05-07', '2015-05-28', '2015-04-13',\n",
              "       '2015-03-25', '2015-07-21', '2015-06-27', '2015-07-18',\n",
              "       '2015-07-23', '2015-06-08', '2015-06-22', '2015-06-24',\n",
              "       '2015-03-05', '2015-06-01', '2015-04-24', '2015-07-22',\n",
              "       '2015-05-27', '2015-04-06', '2015-04-11', '2015-07-25',\n",
              "       '2015-07-28', '2015-07-29', '2015-06-25', '2015-07-24',\n",
              "       '2015-06-05', '2015-06-30', '2015-06-13', '2015-06-11',\n",
              "       '2015-07-30', '2015-07-27', '2015-04-29', '2015-06-04',\n",
              "       '2015-07-26', '2015-08-01', '2015-08-02', '2015-06-15',\n",
              "       '2015-04-23', '2015-07-31', '2015-05-25', '2015-08-03',\n",
              "       '2015-04-17', '2015-08-04', '2015-08-06', '2015-05-15',\n",
              "       '2015-05-09', '2015-03-17', '2015-05-22', '2015-08-07',\n",
              "       '2015-04-04', '2015-08-05', '2015-08-08', '2015-08-10',\n",
              "       '2015-05-04', '2015-06-06', '2015-08-09', '2015-08-15',\n",
              "       '2015-08-11', '2015-03-28', '2015-08-14', '2015-08-12',\n",
              "       '2015-08-16', '2015-05-16', '2015-08-21', '2015-08-13',\n",
              "       '2015-08-17', '2015-04-20', '2015-08-18', '2015-08-23',\n",
              "       '2015-08-22', '2015-08-19', '2015-08-20', '2015-08-29',\n",
              "       '2015-03-31', '2015-05-30', '2015-08-25', '2015-04-14',\n",
              "       '2015-08-24', '2015-03-24', '2015-05-21', '2015-08-28',\n",
              "       '2015-08-26', '2015-08-27', '2015-08-30', '2015-08-31',\n",
              "       '2015-09-06', '2015-09-03', '2015-09-04', '2015-09-02',\n",
              "       '2015-09-01', '2015-09-05', '2015-06-20', '2015-09-07',\n",
              "       '2015-09-10', '2015-09-11', '2015-09-08', '2015-09-09',\n",
              "       '2015-09-13', '2015-09-15', '2015-04-10', '2015-01-02',\n",
              "       '2014-11-18', '2015-09-12', '2015-09-17', '2015-09-14',\n",
              "       '2015-04-07', '2015-09-19', '2015-09-16', '2015-09-20',\n",
              "       '2015-01-18', '2015-10-23', '2015-01-22', '2015-01-01',\n",
              "       '2015-09-22', '2015-09-24', '2015-09-18', '2015-09-21',\n",
              "       '2015-09-30', '2015-09-25', '2015-09-27', '2015-09-28',\n",
              "       '2015-10-12', '2015-09-29', '2015-09-23', '2015-10-01',\n",
              "       '2015-09-26', '2015-04-18', '2015-10-02', '2015-10-04',\n",
              "       '2015-10-08', '2015-10-03', '2015-10-07', '2015-10-09',\n",
              "       '2015-10-11', '2015-10-05', '2015-10-06', '2015-10-10',\n",
              "       '2015-10-14', '2015-10-15', '2015-10-18', '2015-10-13',\n",
              "       '2015-10-20', '2015-10-19', '2015-10-31', '2015-10-16',\n",
              "       '2015-10-21', '2015-10-22', '2015-10-17', '2015-10-24',\n",
              "       '2015-10-25', '2015-10-28', '2015-10-27', '2015-10-26',\n",
              "       '2015-10-30', '2015-11-05', '2015-10-29', '2015-11-03',\n",
              "       '2015-11-07', '2015-11-04', '2015-11-01', '2015-11-02',\n",
              "       '2015-11-17', '2015-11-06', '2015-11-10', '2015-11-08',\n",
              "       '2015-11-09', '2015-11-15', '2015-11-16', '2015-11-11',\n",
              "       '2015-11-12', '2015-11-14', '2015-11-13', '2015-11-18',\n",
              "       '2015-11-22', '2015-11-19', '2015-11-21', '2015-11-20',\n",
              "       '2015-11-24', '2015-11-25', '2015-11-23', '2015-11-28',\n",
              "       '2015-11-26', '2015-11-27', '2015-11-29', '2015-12-04',\n",
              "       '2015-12-01', '2015-12-06', '2015-12-08', '2015-12-02',\n",
              "       '2015-12-03', '2015-12-31', '2015-12-05', '2015-12-10',\n",
              "       '2015-12-17', '2015-11-30', '2015-12-12', '2015-12-07',\n",
              "       '2016-01-05', '2015-12-11', '2015-12-13', '2015-12-15',\n",
              "       '2015-12-16', '2015-12-19', '2015-12-18', '2015-12-26',\n",
              "       '2015-12-27', '2015-12-22', '2015-12-23', '2015-12-24',\n",
              "       '2015-12-29', '2015-12-28', '2015-12-20', '2015-12-30',\n",
              "       '2016-01-02', '2016-01-01', '2015-12-25', '2016-01-03',\n",
              "       '2016-01-04', '2016-01-11', '2016-01-07', '2015-12-21',\n",
              "       '2016-01-09', '2016-01-10', '2016-01-08', '2016-01-06',\n",
              "       '2016-01-12', '2016-01-13', '2016-01-23', '2016-02-09',\n",
              "       '2016-01-15', '2016-01-16', '2016-01-17', '2016-01-19',\n",
              "       '2016-01-18', '2016-01-21', '2016-01-24', '2016-01-22',\n",
              "       '2016-01-29', '2016-01-27', '2016-01-25', '2016-03-08',\n",
              "       '2016-01-26', '2016-01-20', '2016-01-30', '2016-02-01',\n",
              "       '2016-02-02', '2016-02-08', '2016-02-07', '2016-01-28',\n",
              "       '2016-02-05', '2016-02-03', '2016-02-13', '2016-02-10',\n",
              "       '2016-02-04', '2016-02-12', '2016-02-11', '2016-02-16',\n",
              "       '2016-02-14', '2016-02-15', '2016-02-20', '2016-02-06',\n",
              "       '2016-01-14', '2016-02-17', '2016-02-21', '2016-02-24',\n",
              "       '2016-02-25', '2016-02-19', '2016-02-18', '2016-02-26',\n",
              "       '2016-02-23', '2016-03-05', '2016-02-22', '2016-02-27',\n",
              "       '2016-03-03', '2016-03-24', '2016-03-04', '2016-02-29',\n",
              "       '2016-03-01', '2016-03-02', '2016-03-30', '2016-03-07',\n",
              "       '2016-03-14', '2016-03-21', '2016-03-09', '2016-03-12',\n",
              "       '2016-03-22', '2016-03-10', '2016-03-11', '2016-03-20',\n",
              "       '2016-03-15', '2016-03-17', '2016-03-16', '2016-03-19',\n",
              "       '2016-03-27', '2016-03-18', '2016-03-26', '2016-03-31',\n",
              "       '2016-03-28', '2016-03-29', '2016-04-01', '2016-03-23',\n",
              "       '2016-04-02', '2016-03-25', '2016-03-13', '2016-04-04',\n",
              "       '2016-04-03', '2016-04-05', '2016-04-08', '2016-04-06',\n",
              "       '2016-04-09', '2016-04-12', '2016-04-16', '2016-04-17',\n",
              "       '2016-04-27', '2016-04-14', '2016-04-18', '2016-04-21',\n",
              "       '2016-04-19', '2016-04-20', '2016-04-10', '2016-04-13',\n",
              "       '2016-04-11', '2016-04-07', '2016-04-15', '2016-04-22',\n",
              "       '2016-04-23', '2016-04-26', '2016-04-28', '2016-04-24',\n",
              "       '2016-04-25', '2016-04-29', '2016-04-30', '2016-05-01',\n",
              "       '2016-05-10', '2016-05-02', '2016-05-07', '2016-05-08',\n",
              "       '2016-05-12', '2016-05-04', '2016-05-06', '2016-05-03',\n",
              "       '2016-05-09', '2016-05-05', '2016-05-13', '2016-05-14',\n",
              "       '2016-05-18', '2016-05-19', '2016-05-15', '2016-05-16',\n",
              "       '2016-05-11', '2016-05-21', '2016-05-22', '2016-05-20',\n",
              "       '2016-05-24', '2016-05-25', '2016-05-26', '2016-05-23',\n",
              "       '2016-05-27', '2016-05-17', '2016-05-29', '2016-05-28',\n",
              "       '2016-05-30', '2016-05-31', '2016-06-01', '2016-06-03',\n",
              "       '2016-06-08', '2016-06-02', '2016-06-05', '2016-06-06',\n",
              "       '2016-06-13', '2016-06-07', '2016-06-10', '2016-06-11',\n",
              "       '2016-06-16', '2016-06-12', '2016-06-14', '2016-06-17',\n",
              "       '2016-06-04', '2016-06-18', '2016-06-21', '2016-06-09',\n",
              "       '2016-06-24', '2016-06-20', '2016-06-25', '2016-06-22',\n",
              "       '2016-06-26', '2016-06-23', '2016-07-01', '2016-06-15',\n",
              "       '2016-06-28', '2016-07-02', '2016-06-19', '2016-06-27',\n",
              "       '2016-07-04', '2016-06-30', '2016-07-05', '2016-07-08',\n",
              "       '2016-07-09', '2016-07-07', '2016-07-12', '2016-06-29',\n",
              "       '2016-07-10', '2016-07-15', '2016-07-03', '2016-07-16',\n",
              "       '2016-07-14', '2016-07-18', '2016-07-13', '2016-07-06',\n",
              "       '2016-07-20', '2016-07-21', '2016-07-23', '2016-07-19',\n",
              "       '2016-07-11', '2016-07-28', '2016-07-17', '2016-07-25',\n",
              "       '2016-07-22', '2016-07-29', '2016-08-03', '2016-08-02',\n",
              "       '2016-08-04', '2016-08-08', '2016-08-10', '2016-08-01',\n",
              "       '2016-08-06', '2016-03-06', '2016-08-05', '2016-07-26',\n",
              "       '2016-08-07', '2016-07-30', '2016-07-24', '2016-08-12',\n",
              "       '2016-07-27', '2016-08-13', '2016-08-18', '2016-08-16',\n",
              "       '2016-08-15', '2016-08-17', '2016-08-11', '2016-07-31',\n",
              "       '2016-08-19', '2016-09-01', '2016-08-23', '2016-08-26',\n",
              "       '2016-08-20', '2016-08-21', '2016-09-04', '2016-08-22',\n",
              "       '2016-08-27', '2016-08-25', '2016-08-09', '2016-09-05',\n",
              "       '2016-08-24', '2016-09-10', '2016-08-29', '2016-09-09',\n",
              "       '2016-08-30', '2016-09-13', '2016-08-31', '2016-09-14',\n",
              "       '2016-09-12', '2016-09-15', '2016-08-14', '2016-09-02',\n",
              "       '2016-09-08', '2016-09-19', '2016-09-16', '2016-09-07',\n",
              "       '2016-09-21', '2016-09-06', '2016-09-22', '2016-09-17',\n",
              "       '2016-09-20', '2016-09-03', '2016-09-26', '2016-09-23',\n",
              "       '2016-09-18', '2016-09-29', '2016-10-02', '2016-10-01',\n",
              "       '2016-09-27', '2016-09-25', '2016-10-05', '2016-09-11',\n",
              "       '2016-09-30', '2016-10-09', '2016-10-03', '2016-10-06',\n",
              "       '2016-10-11', '2016-09-24', '2016-10-13', '2016-09-28',\n",
              "       '2016-10-08', '2016-10-07', '2016-10-16', '2016-08-28',\n",
              "       '2016-10-17', '2016-10-18', '2016-10-10', '2016-10-04',\n",
              "       '2016-10-15', '2016-10-19', '2016-10-21', '2016-10-12',\n",
              "       '2016-10-24', '2016-10-26', '2016-10-23', '2016-10-20',\n",
              "       '2016-10-25', '2016-10-27', '2016-10-28', '2016-10-30',\n",
              "       '2016-10-29', '2016-11-01', '2016-11-04', '2016-10-14',\n",
              "       '2016-11-07', '2016-11-03', '2016-11-10', '2016-11-14',\n",
              "       '2016-11-02', '2016-10-31', '2016-11-11', '2016-11-08',\n",
              "       '2016-11-05', '2016-11-25', '2016-11-09', '2016-11-20',\n",
              "       '2016-11-21', '2016-10-22', '2016-11-22', '2016-11-16',\n",
              "       '2016-11-23', '2016-11-17', '2016-11-06', '2016-11-15',\n",
              "       '2016-11-13', '2016-11-12', '2016-11-27', '2016-11-19',\n",
              "       '2016-11-30', '2016-11-18', '2016-12-02', '2016-12-04',\n",
              "       '2016-11-29', '2016-12-07', '2016-11-28', '2016-12-03',\n",
              "       '2016-12-06', '2016-11-24', '2016-12-08', '2016-12-05',\n",
              "       '2016-12-10', '2016-12-13', '2016-12-14', '2016-12-16',\n",
              "       '2016-12-15', '2016-12-17', '2016-12-19', '2016-12-21',\n",
              "       '2016-12-20', '2016-12-22', '2016-12-23', '2016-12-24',\n",
              "       '2016-12-01', '2016-12-27', '2016-12-29', '2016-12-30',\n",
              "       '2016-12-12', '2017-01-02', '2016-12-11', '2017-01-03',\n",
              "       '2017-01-04', '2017-01-01', '2016-12-26', '2017-01-06',\n",
              "       '2016-12-28', '2016-12-18', '2017-01-10', '2017-01-11',\n",
              "       '2017-01-07', '2017-01-12', '2017-01-16', '2017-01-14',\n",
              "       '2017-01-13', '2017-01-05', '2017-01-17', '2017-01-20',\n",
              "       '2016-12-09', '2017-01-26', '2016-12-31', '2017-01-23',\n",
              "       '2017-01-27', '2017-01-28', '2017-01-19', '2017-01-25',\n",
              "       '2017-01-24', '2017-01-29', '2017-01-18', '2016-12-25',\n",
              "       '2017-01-15', '2017-01-21', '2017-02-01', '2017-02-02',\n",
              "       '2017-01-31', '2017-02-03', '2017-02-04', '2017-02-06',\n",
              "       '2017-02-07', '2017-02-08', '2017-01-30', '2017-02-09',\n",
              "       '2017-01-09', '2017-02-11', '2017-02-10', '2017-02-12',\n",
              "       '2017-02-13', '2017-02-14', '2017-02-16', '2017-02-17',\n",
              "       '2017-02-18', '2017-02-19', '2017-02-20', '2017-02-15',\n",
              "       '2017-02-21', '2017-02-22', '2017-02-26', '2017-02-23',\n",
              "       '2017-02-24', '2017-02-25', '2017-02-28', '2017-03-05',\n",
              "       '2017-02-27', '2017-03-03', '2017-03-06', '2017-03-02',\n",
              "       '2017-03-08', '2017-03-09', '2017-03-10', '2017-03-07',\n",
              "       '2017-03-12', '2017-03-13', '2017-03-14', '2017-03-01',\n",
              "       '2017-03-18', '2017-03-17', '2017-03-24', '2017-03-22',\n",
              "       '2017-03-26', '2017-03-27', '2017-03-11', '2017-03-28',\n",
              "       '2017-03-29', '2017-03-30', '2017-03-31', '2017-03-19',\n",
              "       '2017-01-22', '2017-04-02', '2017-03-20', '2017-04-03',\n",
              "       '2017-01-08', '2017-03-23', '2017-04-05', '2017-02-05',\n",
              "       '2017-04-04', '2017-03-15', '2017-04-07', '2017-03-25',\n",
              "       '2017-04-08', '2017-04-06', '2017-03-21', '2017-04-10',\n",
              "       '2017-04-01', '2017-04-11', '2017-04-13', '2017-04-15',\n",
              "       '2017-04-12', '2017-03-04', '2017-04-19', '2017-04-22',\n",
              "       '2017-04-20', '2017-05-02', '2017-04-09', '2017-04-23',\n",
              "       '2017-04-24', '2017-04-16', '2017-04-28', '2017-04-18',\n",
              "       '2017-04-26', '2017-04-25', '2017-04-17', '2017-04-21',\n",
              "       '2017-05-03', '2017-05-04', '2017-03-16', '2017-05-05',\n",
              "       '2017-04-29', '2017-04-14', '2017-05-08', '2017-04-27',\n",
              "       '2017-05-11', '2017-05-01', '2017-05-10', '2017-05-13',\n",
              "       '2017-05-06', '2017-05-14', '2017-05-16', '2017-04-30',\n",
              "       '2017-05-15', '2017-05-07', '2017-05-09', '2017-05-17',\n",
              "       '2017-05-21', '2017-05-12', '2017-05-22', '2017-05-24',\n",
              "       '2017-05-23', '2017-05-25', '2017-05-26', '2017-05-28',\n",
              "       '2017-05-27', '2017-05-29', '2017-05-19', '2017-05-31',\n",
              "       '2017-05-20', '2017-06-01', '2017-05-30', '2017-06-02',\n",
              "       '2016-11-26', '2017-06-04', '2017-06-05', '2017-06-06',\n",
              "       '2017-06-07', '2017-05-18', '2017-06-09', '2017-06-10',\n",
              "       '2017-06-11', '2017-06-12', '2017-06-14', '2017-06-08',\n",
              "       '2017-06-16', '2017-06-13', '2017-06-03', '2017-06-24',\n",
              "       '2017-06-20', '2017-06-19', '2017-06-21', '2017-06-26',\n",
              "       '2017-06-27', '2017-06-22', '2017-06-28', '2017-06-15',\n",
              "       '2017-06-29', '2017-06-30', '2017-06-18', '2017-07-04',\n",
              "       '2017-07-08', '2017-07-05', '2017-07-03', '2017-07-07',\n",
              "       '2017-07-01', '2017-07-06', '2017-07-11', '2017-07-12',\n",
              "       '2017-06-23', '2017-07-13', '2017-07-02', '2017-07-10',\n",
              "       '2017-07-14', '2017-07-15', '2017-07-16', '2017-07-18',\n",
              "       '2017-07-17', '2017-07-19', '2017-07-20', '2017-07-21',\n",
              "       '2017-06-25', '2017-06-17', '2017-07-24', '2017-07-26',\n",
              "       '2017-07-09', '2017-07-27', '2017-07-28', '2017-07-31',\n",
              "       '2017-07-29', '2017-07-22', '2017-08-02', '2017-08-01',\n",
              "       '2017-08-03', '2017-08-04', '2017-07-25', '2017-07-23',\n",
              "       '2017-08-09', '2017-08-10', '2017-07-30', '2017-08-07',\n",
              "       '2017-08-13', '2017-08-05', '2017-08-14', '2017-08-08',\n",
              "       '2017-08-16', '2017-08-17', '2017-08-15', '2017-08-18',\n",
              "       '2017-08-20', '2017-08-22', '2017-08-06', '2017-08-25',\n",
              "       '2017-08-26', '2017-08-23', '2017-08-11', '2017-08-27',\n",
              "       '2017-08-21', '2017-08-29', '2017-08-31', '2017-08-12',\n",
              "       '2017-08-19', '2016-01-31', '2017-09-01', '2017-08-28',\n",
              "       '2015-04-03', '2015-01-21', '2015-01-28', '2015-01-29',\n",
              "       '2015-01-30', '2015-02-02', '2015-02-05', '2015-02-06',\n",
              "       '2015-02-09', '2015-02-10', '2015-02-11', '2015-02-12',\n",
              "       '2015-02-19', '2015-02-20', '2015-02-23', '2015-02-24',\n",
              "       '2015-02-25', '2015-02-26', '2015-02-27', '2015-03-03',\n",
              "       '2015-03-04', '2015-03-06', '2015-03-09', '2015-03-11',\n",
              "       '2015-03-12', '2015-03-18', '2015-04-02', '2015-06-14',\n",
              "       '2015-04-08', '2015-04-16', '2015-04-25', '2015-04-28',\n",
              "       '2015-05-08', '2017-09-06', '2016-02-28', '2015-12-09',\n",
              "       '2015-12-14', '2017-09-09', '2017-09-02', '2017-08-24',\n",
              "       '2017-08-30', '2017-09-03', '2017-09-04', '2017-09-05',\n",
              "       '2017-09-07', '2017-09-08', '2017-09-10', '2017-09-12',\n",
              "       '2017-09-14', '2015-04-30', '2015-04-21', '2015-04-05',\n",
              "       '2015-03-13', '2015-05-05', '2015-03-29', '2015-06-10',\n",
              "       '2015-04-27', '2014-10-17', '2015-01-20', '2015-02-17',\n",
              "       '2015-03-10', '2015-03-23'], dtype=object)"
            ]
          },
          "metadata": {},
          "execution_count": 46
        }
      ]
    },
    {
      "cell_type": "markdown",
      "source": [
        "# Data cleaning process\n",
        "1. Deal with columns name and give a proper name to columns.\n",
        "2. Deal with duplicate columns if any\n",
        "3. Change datatype if needed like children is object dtype but should be in a int type.\n",
        "4. Deal with null data or missing value\n",
        "5. merge column for date, month, and year. "
      ],
      "metadata": {
        "id": "vxLlDVdScRn5"
      }
    },
    {
      "cell_type": "markdown",
      "source": [
        "# 1.Deal with columns name and give a proper name to columns."
      ],
      "metadata": {
        "id": "12O-Q2Gbsn2C"
      }
    },
    {
      "cell_type": "code",
      "source": [
        "# giving proper name to columns\n",
        "hdf.columns=['hotel','booking_cancel_status','lead_time','booking_year','booking_month','week_no_of_year','booking_day',\n",
        "             'stays_in_weekend_nights','stays_in_week_nights','adults','children','babies','meal_type','country','booking_mode',\n",
        "             'distribution_channel','repeated_guest_status','no_of_previous_cancellations','no_of_previous_booking_not_cancelled',\n",
        "             'reserved_room_type','assigned_room_type','no_of_booking_changes','deposit_type','agent_id','company_id',\n",
        "             'no_of_days_in_waiting_list','customer_type','average_daily_rate','required_no_of_car_parking_space',\n",
        "             'total_no_of_special_requests','reservation_status','reservation_status_date']"
      ],
      "metadata": {
        "id": "4LY1xQYjcP4T"
      },
      "execution_count": 68,
      "outputs": []
    },
    {
      "cell_type": "code",
      "source": [
        "hdf.info()"
      ],
      "metadata": {
        "colab": {
          "base_uri": "https://localhost:8080/"
        },
        "id": "6g01MTphmgEg",
        "outputId": "9944f976-7107-4824-e604-036770489b1f"
      },
      "execution_count": 69,
      "outputs": [
        {
          "output_type": "stream",
          "name": "stdout",
          "text": [
            "<class 'pandas.core.frame.DataFrame'>\n",
            "RangeIndex: 119390 entries, 0 to 119389\n",
            "Data columns (total 32 columns):\n",
            " #   Column                                Non-Null Count   Dtype  \n",
            "---  ------                                --------------   -----  \n",
            " 0   hotel                                 119390 non-null  object \n",
            " 1   booking_cancel_status                 119390 non-null  int64  \n",
            " 2   lead_time                             119390 non-null  int64  \n",
            " 3   booking_year                          119390 non-null  int64  \n",
            " 4   booking_month                         119390 non-null  object \n",
            " 5   week_no_of_year                       119390 non-null  int64  \n",
            " 6   booking_day                           119390 non-null  int64  \n",
            " 7   stays_in_weekend_nights               119390 non-null  int64  \n",
            " 8   stays_in_week_nights                  119390 non-null  int64  \n",
            " 9   adults                                119390 non-null  int64  \n",
            " 10  children                              119386 non-null  float64\n",
            " 11  babies                                119390 non-null  int64  \n",
            " 12  meal_type                             119390 non-null  object \n",
            " 13  country                               118902 non-null  object \n",
            " 14  booking_mode                          119390 non-null  object \n",
            " 15  distribution_channel                  119390 non-null  object \n",
            " 16  repeated_guest_status                 119390 non-null  int64  \n",
            " 17  no_of_previous_cancellations          119390 non-null  int64  \n",
            " 18  no_of_previous_booking_not_cancelled  119390 non-null  int64  \n",
            " 19  reserved_room_type                    119390 non-null  object \n",
            " 20  assigned_room_type                    119390 non-null  object \n",
            " 21  no_of_booking_changes                 119390 non-null  int64  \n",
            " 22  deposit_type                          119390 non-null  object \n",
            " 23  agent_id                              103050 non-null  float64\n",
            " 24  company_id                            6797 non-null    float64\n",
            " 25  no_of_days_in_waiting_list            119390 non-null  int64  \n",
            " 26  customer_type                         119390 non-null  object \n",
            " 27  average_daily_rate                    119390 non-null  float64\n",
            " 28  required_no_of_car_parking_space      119390 non-null  int64  \n",
            " 29  total_no_of_special_requests          119390 non-null  int64  \n",
            " 30  reservation_status                    119390 non-null  object \n",
            " 31  reservation_status_date               119390 non-null  object \n",
            "dtypes: float64(4), int64(16), object(12)\n",
            "memory usage: 29.1+ MB\n"
          ]
        }
      ]
    },
    {
      "cell_type": "code",
      "source": [
        ""
      ],
      "metadata": {
        "id": "gP3v1RhDmgtc"
      },
      "execution_count": null,
      "outputs": []
    }
  ]
}
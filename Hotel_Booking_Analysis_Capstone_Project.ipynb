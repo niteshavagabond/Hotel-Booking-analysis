{
  "nbformat": 4,
  "nbformat_minor": 0,
  "metadata": {
    "kernelspec": {
      "display_name": "Python 3",
      "language": "python",
      "name": "python3"
    },
    "language_info": {
      "codemirror_mode": {
        "name": "ipython",
        "version": 3
      },
      "file_extension": ".py",
      "mimetype": "text/x-python",
      "name": "python",
      "nbconvert_exporter": "python",
      "pygments_lexer": "ipython3",
      "version": "3.6.6"
    },
    "colab": {
      "name": "Hotel Booking Analysis - Capstone Project.ipynb",
      "provenance": [],
      "collapsed_sections": [],
      "include_colab_link": true
    }
  },
  "cells": [
    {
      "cell_type": "markdown",
      "metadata": {
        "id": "view-in-github",
        "colab_type": "text"
      },
      "source": [
        "<a href=\"https://colab.research.google.com/github/niteshavagabond/Hotel-Booking-analysis/blob/main/Hotel_Booking_Analysis_Capstone_Project.ipynb\" target=\"_parent\"><img src=\"https://colab.research.google.com/assets/colab-badge.svg\" alt=\"Open In Colab\"/></a>"
      ]
    },
    {
      "cell_type": "markdown",
      "metadata": {
        "id": "Y06xIdG26kRF"
      },
      "source": [
        "## <b> Have you ever wondered when the best time of year to book a hotel room is? Or the optimal length of stay in order to get the best daily rate? What if you wanted to predict whether or not a hotel was likely to receive a disproportionately high number of special requests? This hotel booking dataset can help you explore those questions!\n",
        "\n",
        "## <b>This data set contains booking information for a city hotel and a resort hotel, and includes information such as when the booking was made, length of stay, the number of adults, children, and/or babies, and the number of available parking spaces, among other things. All personally identifying information has been removed from the data. </b>\n",
        "\n",
        "## <b> Explore and analyze the data to discover important factors that govern the bookings. </b>"
      ]
    },
    {
      "cell_type": "code",
      "source": [
        "# importing libararies\n",
        "import numpy as np\n",
        "import pandas as pd\n",
        "import matplotlib as mpl\n",
        "import matplotlib.pyplot as plt\n",
        "import seaborn as sns\n",
        "from datetime import datetime \n",
        "from datetime import date\n",
        "import folium\n",
        "import plotly.express as px\n",
        "%matplotlib inline"
      ],
      "metadata": {
        "id": "XX6RUxRJ9DI3"
      },
      "execution_count": 265,
      "outputs": []
    },
    {
      "cell_type": "code",
      "source": [
        "# mount google drive\n",
        "from google.colab import drive\n",
        "drive.mount('/content/drive')"
      ],
      "metadata": {
        "colab": {
          "base_uri": "https://localhost:8080/"
        },
        "id": "S7RqS3xD0-yz",
        "outputId": "37c56d05-3681-4e03-ee15-62f0fcf857e8"
      },
      "execution_count": 266,
      "outputs": [
        {
          "output_type": "stream",
          "name": "stdout",
          "text": [
            "Drive already mounted at /content/drive; to attempt to forcibly remount, call drive.mount(\"/content/drive\", force_remount=True).\n"
          ]
        }
      ]
    },
    {
      "cell_type": "code",
      "source": [
        "# Data \n",
        "hotel_booking_df= pd.read_csv('/content/drive/MyDrive/AlmaBetter/Hotel Booking Analysis - Nitesh Verma/Hotel Bookings.csv')\n"
      ],
      "metadata": {
        "id": "CmOKcuHv1h8C"
      },
      "execution_count": 267,
      "outputs": []
    },
    {
      "cell_type": "markdown",
      "source": [
        "# Exploring data"
      ],
      "metadata": {
        "id": "a0fLj_GdrSiQ"
      }
    },
    {
      "cell_type": "code",
      "source": [
        "hdf=hotel_booking_df.copy()"
      ],
      "metadata": {
        "id": "s0ZgoHsziths"
      },
      "execution_count": 268,
      "outputs": []
    },
    {
      "cell_type": "code",
      "source": [
        "hdf.head()"
      ],
      "metadata": {
        "colab": {
          "base_uri": "https://localhost:8080/",
          "height": 386
        },
        "id": "oZ8bQI_I9Z4u",
        "outputId": "cecd6661-8389-4e6b-860e-ecf6939d9bcf"
      },
      "execution_count": 269,
      "outputs": [
        {
          "output_type": "execute_result",
          "data": {
            "text/plain": [
              "          hotel  is_canceled  lead_time  arrival_date_year arrival_date_month  \\\n",
              "0  Resort Hotel            0        342               2015               July   \n",
              "1  Resort Hotel            0        737               2015               July   \n",
              "2  Resort Hotel            0          7               2015               July   \n",
              "3  Resort Hotel            0         13               2015               July   \n",
              "4  Resort Hotel            0         14               2015               July   \n",
              "\n",
              "   arrival_date_week_number  arrival_date_day_of_month  \\\n",
              "0                        27                          1   \n",
              "1                        27                          1   \n",
              "2                        27                          1   \n",
              "3                        27                          1   \n",
              "4                        27                          1   \n",
              "\n",
              "   stays_in_weekend_nights  stays_in_week_nights  adults  ...  deposit_type  \\\n",
              "0                        0                     0       2  ...    No Deposit   \n",
              "1                        0                     0       2  ...    No Deposit   \n",
              "2                        0                     1       1  ...    No Deposit   \n",
              "3                        0                     1       1  ...    No Deposit   \n",
              "4                        0                     2       2  ...    No Deposit   \n",
              "\n",
              "   agent company days_in_waiting_list customer_type   adr  \\\n",
              "0    NaN     NaN                    0     Transient   0.0   \n",
              "1    NaN     NaN                    0     Transient   0.0   \n",
              "2    NaN     NaN                    0     Transient  75.0   \n",
              "3  304.0     NaN                    0     Transient  75.0   \n",
              "4  240.0     NaN                    0     Transient  98.0   \n",
              "\n",
              "   required_car_parking_spaces  total_of_special_requests  reservation_status  \\\n",
              "0                            0                          0           Check-Out   \n",
              "1                            0                          0           Check-Out   \n",
              "2                            0                          0           Check-Out   \n",
              "3                            0                          0           Check-Out   \n",
              "4                            0                          1           Check-Out   \n",
              "\n",
              "  reservation_status_date  \n",
              "0              2015-07-01  \n",
              "1              2015-07-01  \n",
              "2              2015-07-02  \n",
              "3              2015-07-02  \n",
              "4              2015-07-03  \n",
              "\n",
              "[5 rows x 32 columns]"
            ],
            "text/html": [
              "\n",
              "  <div id=\"df-8979ba44-d177-49be-b84c-8248d227ca16\">\n",
              "    <div class=\"colab-df-container\">\n",
              "      <div>\n",
              "<style scoped>\n",
              "    .dataframe tbody tr th:only-of-type {\n",
              "        vertical-align: middle;\n",
              "    }\n",
              "\n",
              "    .dataframe tbody tr th {\n",
              "        vertical-align: top;\n",
              "    }\n",
              "\n",
              "    .dataframe thead th {\n",
              "        text-align: right;\n",
              "    }\n",
              "</style>\n",
              "<table border=\"1\" class=\"dataframe\">\n",
              "  <thead>\n",
              "    <tr style=\"text-align: right;\">\n",
              "      <th></th>\n",
              "      <th>hotel</th>\n",
              "      <th>is_canceled</th>\n",
              "      <th>lead_time</th>\n",
              "      <th>arrival_date_year</th>\n",
              "      <th>arrival_date_month</th>\n",
              "      <th>arrival_date_week_number</th>\n",
              "      <th>arrival_date_day_of_month</th>\n",
              "      <th>stays_in_weekend_nights</th>\n",
              "      <th>stays_in_week_nights</th>\n",
              "      <th>adults</th>\n",
              "      <th>...</th>\n",
              "      <th>deposit_type</th>\n",
              "      <th>agent</th>\n",
              "      <th>company</th>\n",
              "      <th>days_in_waiting_list</th>\n",
              "      <th>customer_type</th>\n",
              "      <th>adr</th>\n",
              "      <th>required_car_parking_spaces</th>\n",
              "      <th>total_of_special_requests</th>\n",
              "      <th>reservation_status</th>\n",
              "      <th>reservation_status_date</th>\n",
              "    </tr>\n",
              "  </thead>\n",
              "  <tbody>\n",
              "    <tr>\n",
              "      <th>0</th>\n",
              "      <td>Resort Hotel</td>\n",
              "      <td>0</td>\n",
              "      <td>342</td>\n",
              "      <td>2015</td>\n",
              "      <td>July</td>\n",
              "      <td>27</td>\n",
              "      <td>1</td>\n",
              "      <td>0</td>\n",
              "      <td>0</td>\n",
              "      <td>2</td>\n",
              "      <td>...</td>\n",
              "      <td>No Deposit</td>\n",
              "      <td>NaN</td>\n",
              "      <td>NaN</td>\n",
              "      <td>0</td>\n",
              "      <td>Transient</td>\n",
              "      <td>0.0</td>\n",
              "      <td>0</td>\n",
              "      <td>0</td>\n",
              "      <td>Check-Out</td>\n",
              "      <td>2015-07-01</td>\n",
              "    </tr>\n",
              "    <tr>\n",
              "      <th>1</th>\n",
              "      <td>Resort Hotel</td>\n",
              "      <td>0</td>\n",
              "      <td>737</td>\n",
              "      <td>2015</td>\n",
              "      <td>July</td>\n",
              "      <td>27</td>\n",
              "      <td>1</td>\n",
              "      <td>0</td>\n",
              "      <td>0</td>\n",
              "      <td>2</td>\n",
              "      <td>...</td>\n",
              "      <td>No Deposit</td>\n",
              "      <td>NaN</td>\n",
              "      <td>NaN</td>\n",
              "      <td>0</td>\n",
              "      <td>Transient</td>\n",
              "      <td>0.0</td>\n",
              "      <td>0</td>\n",
              "      <td>0</td>\n",
              "      <td>Check-Out</td>\n",
              "      <td>2015-07-01</td>\n",
              "    </tr>\n",
              "    <tr>\n",
              "      <th>2</th>\n",
              "      <td>Resort Hotel</td>\n",
              "      <td>0</td>\n",
              "      <td>7</td>\n",
              "      <td>2015</td>\n",
              "      <td>July</td>\n",
              "      <td>27</td>\n",
              "      <td>1</td>\n",
              "      <td>0</td>\n",
              "      <td>1</td>\n",
              "      <td>1</td>\n",
              "      <td>...</td>\n",
              "      <td>No Deposit</td>\n",
              "      <td>NaN</td>\n",
              "      <td>NaN</td>\n",
              "      <td>0</td>\n",
              "      <td>Transient</td>\n",
              "      <td>75.0</td>\n",
              "      <td>0</td>\n",
              "      <td>0</td>\n",
              "      <td>Check-Out</td>\n",
              "      <td>2015-07-02</td>\n",
              "    </tr>\n",
              "    <tr>\n",
              "      <th>3</th>\n",
              "      <td>Resort Hotel</td>\n",
              "      <td>0</td>\n",
              "      <td>13</td>\n",
              "      <td>2015</td>\n",
              "      <td>July</td>\n",
              "      <td>27</td>\n",
              "      <td>1</td>\n",
              "      <td>0</td>\n",
              "      <td>1</td>\n",
              "      <td>1</td>\n",
              "      <td>...</td>\n",
              "      <td>No Deposit</td>\n",
              "      <td>304.0</td>\n",
              "      <td>NaN</td>\n",
              "      <td>0</td>\n",
              "      <td>Transient</td>\n",
              "      <td>75.0</td>\n",
              "      <td>0</td>\n",
              "      <td>0</td>\n",
              "      <td>Check-Out</td>\n",
              "      <td>2015-07-02</td>\n",
              "    </tr>\n",
              "    <tr>\n",
              "      <th>4</th>\n",
              "      <td>Resort Hotel</td>\n",
              "      <td>0</td>\n",
              "      <td>14</td>\n",
              "      <td>2015</td>\n",
              "      <td>July</td>\n",
              "      <td>27</td>\n",
              "      <td>1</td>\n",
              "      <td>0</td>\n",
              "      <td>2</td>\n",
              "      <td>2</td>\n",
              "      <td>...</td>\n",
              "      <td>No Deposit</td>\n",
              "      <td>240.0</td>\n",
              "      <td>NaN</td>\n",
              "      <td>0</td>\n",
              "      <td>Transient</td>\n",
              "      <td>98.0</td>\n",
              "      <td>0</td>\n",
              "      <td>1</td>\n",
              "      <td>Check-Out</td>\n",
              "      <td>2015-07-03</td>\n",
              "    </tr>\n",
              "  </tbody>\n",
              "</table>\n",
              "<p>5 rows × 32 columns</p>\n",
              "</div>\n",
              "      <button class=\"colab-df-convert\" onclick=\"convertToInteractive('df-8979ba44-d177-49be-b84c-8248d227ca16')\"\n",
              "              title=\"Convert this dataframe to an interactive table.\"\n",
              "              style=\"display:none;\">\n",
              "        \n",
              "  <svg xmlns=\"http://www.w3.org/2000/svg\" height=\"24px\"viewBox=\"0 0 24 24\"\n",
              "       width=\"24px\">\n",
              "    <path d=\"M0 0h24v24H0V0z\" fill=\"none\"/>\n",
              "    <path d=\"M18.56 5.44l.94 2.06.94-2.06 2.06-.94-2.06-.94-.94-2.06-.94 2.06-2.06.94zm-11 1L8.5 8.5l.94-2.06 2.06-.94-2.06-.94L8.5 2.5l-.94 2.06-2.06.94zm10 10l.94 2.06.94-2.06 2.06-.94-2.06-.94-.94-2.06-.94 2.06-2.06.94z\"/><path d=\"M17.41 7.96l-1.37-1.37c-.4-.4-.92-.59-1.43-.59-.52 0-1.04.2-1.43.59L10.3 9.45l-7.72 7.72c-.78.78-.78 2.05 0 2.83L4 21.41c.39.39.9.59 1.41.59.51 0 1.02-.2 1.41-.59l7.78-7.78 2.81-2.81c.8-.78.8-2.07 0-2.86zM5.41 20L4 18.59l7.72-7.72 1.47 1.35L5.41 20z\"/>\n",
              "  </svg>\n",
              "      </button>\n",
              "      \n",
              "  <style>\n",
              "    .colab-df-container {\n",
              "      display:flex;\n",
              "      flex-wrap:wrap;\n",
              "      gap: 12px;\n",
              "    }\n",
              "\n",
              "    .colab-df-convert {\n",
              "      background-color: #E8F0FE;\n",
              "      border: none;\n",
              "      border-radius: 50%;\n",
              "      cursor: pointer;\n",
              "      display: none;\n",
              "      fill: #1967D2;\n",
              "      height: 32px;\n",
              "      padding: 0 0 0 0;\n",
              "      width: 32px;\n",
              "    }\n",
              "\n",
              "    .colab-df-convert:hover {\n",
              "      background-color: #E2EBFA;\n",
              "      box-shadow: 0px 1px 2px rgba(60, 64, 67, 0.3), 0px 1px 3px 1px rgba(60, 64, 67, 0.15);\n",
              "      fill: #174EA6;\n",
              "    }\n",
              "\n",
              "    [theme=dark] .colab-df-convert {\n",
              "      background-color: #3B4455;\n",
              "      fill: #D2E3FC;\n",
              "    }\n",
              "\n",
              "    [theme=dark] .colab-df-convert:hover {\n",
              "      background-color: #434B5C;\n",
              "      box-shadow: 0px 1px 3px 1px rgba(0, 0, 0, 0.15);\n",
              "      filter: drop-shadow(0px 1px 2px rgba(0, 0, 0, 0.3));\n",
              "      fill: #FFFFFF;\n",
              "    }\n",
              "  </style>\n",
              "\n",
              "      <script>\n",
              "        const buttonEl =\n",
              "          document.querySelector('#df-8979ba44-d177-49be-b84c-8248d227ca16 button.colab-df-convert');\n",
              "        buttonEl.style.display =\n",
              "          google.colab.kernel.accessAllowed ? 'block' : 'none';\n",
              "\n",
              "        async function convertToInteractive(key) {\n",
              "          const element = document.querySelector('#df-8979ba44-d177-49be-b84c-8248d227ca16');\n",
              "          const dataTable =\n",
              "            await google.colab.kernel.invokeFunction('convertToInteractive',\n",
              "                                                     [key], {});\n",
              "          if (!dataTable) return;\n",
              "\n",
              "          const docLinkHtml = 'Like what you see? Visit the ' +\n",
              "            '<a target=\"_blank\" href=https://colab.research.google.com/notebooks/data_table.ipynb>data table notebook</a>'\n",
              "            + ' to learn more about interactive tables.';\n",
              "          element.innerHTML = '';\n",
              "          dataTable['output_type'] = 'display_data';\n",
              "          await google.colab.output.renderOutput(dataTable, element);\n",
              "          const docLink = document.createElement('div');\n",
              "          docLink.innerHTML = docLinkHtml;\n",
              "          element.appendChild(docLink);\n",
              "        }\n",
              "      </script>\n",
              "    </div>\n",
              "  </div>\n",
              "  "
            ]
          },
          "metadata": {},
          "execution_count": 269
        }
      ]
    },
    {
      "cell_type": "code",
      "source": [
        "hdf.tail()"
      ],
      "metadata": {
        "colab": {
          "base_uri": "https://localhost:8080/",
          "height": 386
        },
        "id": "l4pGWDMvIMbE",
        "outputId": "88fb82bd-8914-4579-ee9d-56758cb455e0"
      },
      "execution_count": 270,
      "outputs": [
        {
          "output_type": "execute_result",
          "data": {
            "text/plain": [
              "             hotel  is_canceled  lead_time  arrival_date_year  \\\n",
              "119385  City Hotel            0         23               2017   \n",
              "119386  City Hotel            0        102               2017   \n",
              "119387  City Hotel            0         34               2017   \n",
              "119388  City Hotel            0        109               2017   \n",
              "119389  City Hotel            0        205               2017   \n",
              "\n",
              "       arrival_date_month  arrival_date_week_number  \\\n",
              "119385             August                        35   \n",
              "119386             August                        35   \n",
              "119387             August                        35   \n",
              "119388             August                        35   \n",
              "119389             August                        35   \n",
              "\n",
              "        arrival_date_day_of_month  stays_in_weekend_nights  \\\n",
              "119385                         30                        2   \n",
              "119386                         31                        2   \n",
              "119387                         31                        2   \n",
              "119388                         31                        2   \n",
              "119389                         29                        2   \n",
              "\n",
              "        stays_in_week_nights  adults  ...  deposit_type  agent company  \\\n",
              "119385                     5       2  ...    No Deposit  394.0     NaN   \n",
              "119386                     5       3  ...    No Deposit    9.0     NaN   \n",
              "119387                     5       2  ...    No Deposit    9.0     NaN   \n",
              "119388                     5       2  ...    No Deposit   89.0     NaN   \n",
              "119389                     7       2  ...    No Deposit    9.0     NaN   \n",
              "\n",
              "       days_in_waiting_list customer_type     adr  \\\n",
              "119385                    0     Transient   96.14   \n",
              "119386                    0     Transient  225.43   \n",
              "119387                    0     Transient  157.71   \n",
              "119388                    0     Transient  104.40   \n",
              "119389                    0     Transient  151.20   \n",
              "\n",
              "        required_car_parking_spaces  total_of_special_requests  \\\n",
              "119385                            0                          0   \n",
              "119386                            0                          2   \n",
              "119387                            0                          4   \n",
              "119388                            0                          0   \n",
              "119389                            0                          2   \n",
              "\n",
              "        reservation_status reservation_status_date  \n",
              "119385           Check-Out              2017-09-06  \n",
              "119386           Check-Out              2017-09-07  \n",
              "119387           Check-Out              2017-09-07  \n",
              "119388           Check-Out              2017-09-07  \n",
              "119389           Check-Out              2017-09-07  \n",
              "\n",
              "[5 rows x 32 columns]"
            ],
            "text/html": [
              "\n",
              "  <div id=\"df-8c5af9fc-65e3-450a-8c32-3dfe376fd258\">\n",
              "    <div class=\"colab-df-container\">\n",
              "      <div>\n",
              "<style scoped>\n",
              "    .dataframe tbody tr th:only-of-type {\n",
              "        vertical-align: middle;\n",
              "    }\n",
              "\n",
              "    .dataframe tbody tr th {\n",
              "        vertical-align: top;\n",
              "    }\n",
              "\n",
              "    .dataframe thead th {\n",
              "        text-align: right;\n",
              "    }\n",
              "</style>\n",
              "<table border=\"1\" class=\"dataframe\">\n",
              "  <thead>\n",
              "    <tr style=\"text-align: right;\">\n",
              "      <th></th>\n",
              "      <th>hotel</th>\n",
              "      <th>is_canceled</th>\n",
              "      <th>lead_time</th>\n",
              "      <th>arrival_date_year</th>\n",
              "      <th>arrival_date_month</th>\n",
              "      <th>arrival_date_week_number</th>\n",
              "      <th>arrival_date_day_of_month</th>\n",
              "      <th>stays_in_weekend_nights</th>\n",
              "      <th>stays_in_week_nights</th>\n",
              "      <th>adults</th>\n",
              "      <th>...</th>\n",
              "      <th>deposit_type</th>\n",
              "      <th>agent</th>\n",
              "      <th>company</th>\n",
              "      <th>days_in_waiting_list</th>\n",
              "      <th>customer_type</th>\n",
              "      <th>adr</th>\n",
              "      <th>required_car_parking_spaces</th>\n",
              "      <th>total_of_special_requests</th>\n",
              "      <th>reservation_status</th>\n",
              "      <th>reservation_status_date</th>\n",
              "    </tr>\n",
              "  </thead>\n",
              "  <tbody>\n",
              "    <tr>\n",
              "      <th>119385</th>\n",
              "      <td>City Hotel</td>\n",
              "      <td>0</td>\n",
              "      <td>23</td>\n",
              "      <td>2017</td>\n",
              "      <td>August</td>\n",
              "      <td>35</td>\n",
              "      <td>30</td>\n",
              "      <td>2</td>\n",
              "      <td>5</td>\n",
              "      <td>2</td>\n",
              "      <td>...</td>\n",
              "      <td>No Deposit</td>\n",
              "      <td>394.0</td>\n",
              "      <td>NaN</td>\n",
              "      <td>0</td>\n",
              "      <td>Transient</td>\n",
              "      <td>96.14</td>\n",
              "      <td>0</td>\n",
              "      <td>0</td>\n",
              "      <td>Check-Out</td>\n",
              "      <td>2017-09-06</td>\n",
              "    </tr>\n",
              "    <tr>\n",
              "      <th>119386</th>\n",
              "      <td>City Hotel</td>\n",
              "      <td>0</td>\n",
              "      <td>102</td>\n",
              "      <td>2017</td>\n",
              "      <td>August</td>\n",
              "      <td>35</td>\n",
              "      <td>31</td>\n",
              "      <td>2</td>\n",
              "      <td>5</td>\n",
              "      <td>3</td>\n",
              "      <td>...</td>\n",
              "      <td>No Deposit</td>\n",
              "      <td>9.0</td>\n",
              "      <td>NaN</td>\n",
              "      <td>0</td>\n",
              "      <td>Transient</td>\n",
              "      <td>225.43</td>\n",
              "      <td>0</td>\n",
              "      <td>2</td>\n",
              "      <td>Check-Out</td>\n",
              "      <td>2017-09-07</td>\n",
              "    </tr>\n",
              "    <tr>\n",
              "      <th>119387</th>\n",
              "      <td>City Hotel</td>\n",
              "      <td>0</td>\n",
              "      <td>34</td>\n",
              "      <td>2017</td>\n",
              "      <td>August</td>\n",
              "      <td>35</td>\n",
              "      <td>31</td>\n",
              "      <td>2</td>\n",
              "      <td>5</td>\n",
              "      <td>2</td>\n",
              "      <td>...</td>\n",
              "      <td>No Deposit</td>\n",
              "      <td>9.0</td>\n",
              "      <td>NaN</td>\n",
              "      <td>0</td>\n",
              "      <td>Transient</td>\n",
              "      <td>157.71</td>\n",
              "      <td>0</td>\n",
              "      <td>4</td>\n",
              "      <td>Check-Out</td>\n",
              "      <td>2017-09-07</td>\n",
              "    </tr>\n",
              "    <tr>\n",
              "      <th>119388</th>\n",
              "      <td>City Hotel</td>\n",
              "      <td>0</td>\n",
              "      <td>109</td>\n",
              "      <td>2017</td>\n",
              "      <td>August</td>\n",
              "      <td>35</td>\n",
              "      <td>31</td>\n",
              "      <td>2</td>\n",
              "      <td>5</td>\n",
              "      <td>2</td>\n",
              "      <td>...</td>\n",
              "      <td>No Deposit</td>\n",
              "      <td>89.0</td>\n",
              "      <td>NaN</td>\n",
              "      <td>0</td>\n",
              "      <td>Transient</td>\n",
              "      <td>104.40</td>\n",
              "      <td>0</td>\n",
              "      <td>0</td>\n",
              "      <td>Check-Out</td>\n",
              "      <td>2017-09-07</td>\n",
              "    </tr>\n",
              "    <tr>\n",
              "      <th>119389</th>\n",
              "      <td>City Hotel</td>\n",
              "      <td>0</td>\n",
              "      <td>205</td>\n",
              "      <td>2017</td>\n",
              "      <td>August</td>\n",
              "      <td>35</td>\n",
              "      <td>29</td>\n",
              "      <td>2</td>\n",
              "      <td>7</td>\n",
              "      <td>2</td>\n",
              "      <td>...</td>\n",
              "      <td>No Deposit</td>\n",
              "      <td>9.0</td>\n",
              "      <td>NaN</td>\n",
              "      <td>0</td>\n",
              "      <td>Transient</td>\n",
              "      <td>151.20</td>\n",
              "      <td>0</td>\n",
              "      <td>2</td>\n",
              "      <td>Check-Out</td>\n",
              "      <td>2017-09-07</td>\n",
              "    </tr>\n",
              "  </tbody>\n",
              "</table>\n",
              "<p>5 rows × 32 columns</p>\n",
              "</div>\n",
              "      <button class=\"colab-df-convert\" onclick=\"convertToInteractive('df-8c5af9fc-65e3-450a-8c32-3dfe376fd258')\"\n",
              "              title=\"Convert this dataframe to an interactive table.\"\n",
              "              style=\"display:none;\">\n",
              "        \n",
              "  <svg xmlns=\"http://www.w3.org/2000/svg\" height=\"24px\"viewBox=\"0 0 24 24\"\n",
              "       width=\"24px\">\n",
              "    <path d=\"M0 0h24v24H0V0z\" fill=\"none\"/>\n",
              "    <path d=\"M18.56 5.44l.94 2.06.94-2.06 2.06-.94-2.06-.94-.94-2.06-.94 2.06-2.06.94zm-11 1L8.5 8.5l.94-2.06 2.06-.94-2.06-.94L8.5 2.5l-.94 2.06-2.06.94zm10 10l.94 2.06.94-2.06 2.06-.94-2.06-.94-.94-2.06-.94 2.06-2.06.94z\"/><path d=\"M17.41 7.96l-1.37-1.37c-.4-.4-.92-.59-1.43-.59-.52 0-1.04.2-1.43.59L10.3 9.45l-7.72 7.72c-.78.78-.78 2.05 0 2.83L4 21.41c.39.39.9.59 1.41.59.51 0 1.02-.2 1.41-.59l7.78-7.78 2.81-2.81c.8-.78.8-2.07 0-2.86zM5.41 20L4 18.59l7.72-7.72 1.47 1.35L5.41 20z\"/>\n",
              "  </svg>\n",
              "      </button>\n",
              "      \n",
              "  <style>\n",
              "    .colab-df-container {\n",
              "      display:flex;\n",
              "      flex-wrap:wrap;\n",
              "      gap: 12px;\n",
              "    }\n",
              "\n",
              "    .colab-df-convert {\n",
              "      background-color: #E8F0FE;\n",
              "      border: none;\n",
              "      border-radius: 50%;\n",
              "      cursor: pointer;\n",
              "      display: none;\n",
              "      fill: #1967D2;\n",
              "      height: 32px;\n",
              "      padding: 0 0 0 0;\n",
              "      width: 32px;\n",
              "    }\n",
              "\n",
              "    .colab-df-convert:hover {\n",
              "      background-color: #E2EBFA;\n",
              "      box-shadow: 0px 1px 2px rgba(60, 64, 67, 0.3), 0px 1px 3px 1px rgba(60, 64, 67, 0.15);\n",
              "      fill: #174EA6;\n",
              "    }\n",
              "\n",
              "    [theme=dark] .colab-df-convert {\n",
              "      background-color: #3B4455;\n",
              "      fill: #D2E3FC;\n",
              "    }\n",
              "\n",
              "    [theme=dark] .colab-df-convert:hover {\n",
              "      background-color: #434B5C;\n",
              "      box-shadow: 0px 1px 3px 1px rgba(0, 0, 0, 0.15);\n",
              "      filter: drop-shadow(0px 1px 2px rgba(0, 0, 0, 0.3));\n",
              "      fill: #FFFFFF;\n",
              "    }\n",
              "  </style>\n",
              "\n",
              "      <script>\n",
              "        const buttonEl =\n",
              "          document.querySelector('#df-8c5af9fc-65e3-450a-8c32-3dfe376fd258 button.colab-df-convert');\n",
              "        buttonEl.style.display =\n",
              "          google.colab.kernel.accessAllowed ? 'block' : 'none';\n",
              "\n",
              "        async function convertToInteractive(key) {\n",
              "          const element = document.querySelector('#df-8c5af9fc-65e3-450a-8c32-3dfe376fd258');\n",
              "          const dataTable =\n",
              "            await google.colab.kernel.invokeFunction('convertToInteractive',\n",
              "                                                     [key], {});\n",
              "          if (!dataTable) return;\n",
              "\n",
              "          const docLinkHtml = 'Like what you see? Visit the ' +\n",
              "            '<a target=\"_blank\" href=https://colab.research.google.com/notebooks/data_table.ipynb>data table notebook</a>'\n",
              "            + ' to learn more about interactive tables.';\n",
              "          element.innerHTML = '';\n",
              "          dataTable['output_type'] = 'display_data';\n",
              "          await google.colab.output.renderOutput(dataTable, element);\n",
              "          const docLink = document.createElement('div');\n",
              "          docLink.innerHTML = docLinkHtml;\n",
              "          element.appendChild(docLink);\n",
              "        }\n",
              "      </script>\n",
              "    </div>\n",
              "  </div>\n",
              "  "
            ]
          },
          "metadata": {},
          "execution_count": 270
        }
      ]
    },
    {
      "cell_type": "code",
      "source": [
        "hdf.shape"
      ],
      "metadata": {
        "colab": {
          "base_uri": "https://localhost:8080/"
        },
        "id": "3EjtbDRfDnky",
        "outputId": "de26bc66-99fa-4839-f8f0-1ce186701c51"
      },
      "execution_count": 271,
      "outputs": [
        {
          "output_type": "execute_result",
          "data": {
            "text/plain": [
              "(119390, 32)"
            ]
          },
          "metadata": {},
          "execution_count": 271
        }
      ]
    },
    {
      "cell_type": "code",
      "source": [
        "hdf.info()"
      ],
      "metadata": {
        "colab": {
          "base_uri": "https://localhost:8080/"
        },
        "id": "Gj45e1pg-tgK",
        "outputId": "40578c06-4763-4f72-8a6d-9ab2eb56018c"
      },
      "execution_count": 272,
      "outputs": [
        {
          "output_type": "stream",
          "name": "stdout",
          "text": [
            "<class 'pandas.core.frame.DataFrame'>\n",
            "RangeIndex: 119390 entries, 0 to 119389\n",
            "Data columns (total 32 columns):\n",
            " #   Column                          Non-Null Count   Dtype  \n",
            "---  ------                          --------------   -----  \n",
            " 0   hotel                           119390 non-null  object \n",
            " 1   is_canceled                     119390 non-null  int64  \n",
            " 2   lead_time                       119390 non-null  int64  \n",
            " 3   arrival_date_year               119390 non-null  int64  \n",
            " 4   arrival_date_month              119390 non-null  object \n",
            " 5   arrival_date_week_number        119390 non-null  int64  \n",
            " 6   arrival_date_day_of_month       119390 non-null  int64  \n",
            " 7   stays_in_weekend_nights         119390 non-null  int64  \n",
            " 8   stays_in_week_nights            119390 non-null  int64  \n",
            " 9   adults                          119390 non-null  int64  \n",
            " 10  children                        119386 non-null  float64\n",
            " 11  babies                          119390 non-null  int64  \n",
            " 12  meal                            119390 non-null  object \n",
            " 13  country                         118902 non-null  object \n",
            " 14  market_segment                  119390 non-null  object \n",
            " 15  distribution_channel            119390 non-null  object \n",
            " 16  is_repeated_guest               119390 non-null  int64  \n",
            " 17  previous_cancellations          119390 non-null  int64  \n",
            " 18  previous_bookings_not_canceled  119390 non-null  int64  \n",
            " 19  reserved_room_type              119390 non-null  object \n",
            " 20  assigned_room_type              119390 non-null  object \n",
            " 21  booking_changes                 119390 non-null  int64  \n",
            " 22  deposit_type                    119390 non-null  object \n",
            " 23  agent                           103050 non-null  float64\n",
            " 24  company                         6797 non-null    float64\n",
            " 25  days_in_waiting_list            119390 non-null  int64  \n",
            " 26  customer_type                   119390 non-null  object \n",
            " 27  adr                             119390 non-null  float64\n",
            " 28  required_car_parking_spaces     119390 non-null  int64  \n",
            " 29  total_of_special_requests       119390 non-null  int64  \n",
            " 30  reservation_status              119390 non-null  object \n",
            " 31  reservation_status_date         119390 non-null  object \n",
            "dtypes: float64(4), int64(16), object(12)\n",
            "memory usage: 29.1+ MB\n"
          ]
        }
      ]
    },
    {
      "cell_type": "code",
      "source": [
        "hdf.describe()"
      ],
      "metadata": {
        "colab": {
          "base_uri": "https://localhost:8080/",
          "height": 364
        },
        "id": "6-fyQqcLCVD9",
        "outputId": "aabe9166-5df2-4254-bb15-dd256f67112f"
      },
      "execution_count": 273,
      "outputs": [
        {
          "output_type": "execute_result",
          "data": {
            "text/plain": [
              "         is_canceled      lead_time  arrival_date_year  \\\n",
              "count  119390.000000  119390.000000      119390.000000   \n",
              "mean        0.370416     104.011416        2016.156554   \n",
              "std         0.482918     106.863097           0.707476   \n",
              "min         0.000000       0.000000        2015.000000   \n",
              "25%         0.000000      18.000000        2016.000000   \n",
              "50%         0.000000      69.000000        2016.000000   \n",
              "75%         1.000000     160.000000        2017.000000   \n",
              "max         1.000000     737.000000        2017.000000   \n",
              "\n",
              "       arrival_date_week_number  arrival_date_day_of_month  \\\n",
              "count             119390.000000              119390.000000   \n",
              "mean                  27.165173                  15.798241   \n",
              "std                   13.605138                   8.780829   \n",
              "min                    1.000000                   1.000000   \n",
              "25%                   16.000000                   8.000000   \n",
              "50%                   28.000000                  16.000000   \n",
              "75%                   38.000000                  23.000000   \n",
              "max                   53.000000                  31.000000   \n",
              "\n",
              "       stays_in_weekend_nights  stays_in_week_nights         adults  \\\n",
              "count            119390.000000         119390.000000  119390.000000   \n",
              "mean                  0.927599              2.500302       1.856403   \n",
              "std                   0.998613              1.908286       0.579261   \n",
              "min                   0.000000              0.000000       0.000000   \n",
              "25%                   0.000000              1.000000       2.000000   \n",
              "50%                   1.000000              2.000000       2.000000   \n",
              "75%                   2.000000              3.000000       2.000000   \n",
              "max                  19.000000             50.000000      55.000000   \n",
              "\n",
              "            children         babies  is_repeated_guest  \\\n",
              "count  119386.000000  119390.000000      119390.000000   \n",
              "mean        0.103890       0.007949           0.031912   \n",
              "std         0.398561       0.097436           0.175767   \n",
              "min         0.000000       0.000000           0.000000   \n",
              "25%         0.000000       0.000000           0.000000   \n",
              "50%         0.000000       0.000000           0.000000   \n",
              "75%         0.000000       0.000000           0.000000   \n",
              "max        10.000000      10.000000           1.000000   \n",
              "\n",
              "       previous_cancellations  previous_bookings_not_canceled  \\\n",
              "count           119390.000000                   119390.000000   \n",
              "mean                 0.087118                        0.137097   \n",
              "std                  0.844336                        1.497437   \n",
              "min                  0.000000                        0.000000   \n",
              "25%                  0.000000                        0.000000   \n",
              "50%                  0.000000                        0.000000   \n",
              "75%                  0.000000                        0.000000   \n",
              "max                 26.000000                       72.000000   \n",
              "\n",
              "       booking_changes          agent      company  days_in_waiting_list  \\\n",
              "count    119390.000000  103050.000000  6797.000000         119390.000000   \n",
              "mean          0.221124      86.693382   189.266735              2.321149   \n",
              "std           0.652306     110.774548   131.655015             17.594721   \n",
              "min           0.000000       1.000000     6.000000              0.000000   \n",
              "25%           0.000000       9.000000    62.000000              0.000000   \n",
              "50%           0.000000      14.000000   179.000000              0.000000   \n",
              "75%           0.000000     229.000000   270.000000              0.000000   \n",
              "max          21.000000     535.000000   543.000000            391.000000   \n",
              "\n",
              "                 adr  required_car_parking_spaces  total_of_special_requests  \n",
              "count  119390.000000                119390.000000              119390.000000  \n",
              "mean      101.831122                     0.062518                   0.571363  \n",
              "std        50.535790                     0.245291                   0.792798  \n",
              "min        -6.380000                     0.000000                   0.000000  \n",
              "25%        69.290000                     0.000000                   0.000000  \n",
              "50%        94.575000                     0.000000                   0.000000  \n",
              "75%       126.000000                     0.000000                   1.000000  \n",
              "max      5400.000000                     8.000000                   5.000000  "
            ],
            "text/html": [
              "\n",
              "  <div id=\"df-fbc011d7-ab17-4019-9a43-1839b4c06e88\">\n",
              "    <div class=\"colab-df-container\">\n",
              "      <div>\n",
              "<style scoped>\n",
              "    .dataframe tbody tr th:only-of-type {\n",
              "        vertical-align: middle;\n",
              "    }\n",
              "\n",
              "    .dataframe tbody tr th {\n",
              "        vertical-align: top;\n",
              "    }\n",
              "\n",
              "    .dataframe thead th {\n",
              "        text-align: right;\n",
              "    }\n",
              "</style>\n",
              "<table border=\"1\" class=\"dataframe\">\n",
              "  <thead>\n",
              "    <tr style=\"text-align: right;\">\n",
              "      <th></th>\n",
              "      <th>is_canceled</th>\n",
              "      <th>lead_time</th>\n",
              "      <th>arrival_date_year</th>\n",
              "      <th>arrival_date_week_number</th>\n",
              "      <th>arrival_date_day_of_month</th>\n",
              "      <th>stays_in_weekend_nights</th>\n",
              "      <th>stays_in_week_nights</th>\n",
              "      <th>adults</th>\n",
              "      <th>children</th>\n",
              "      <th>babies</th>\n",
              "      <th>is_repeated_guest</th>\n",
              "      <th>previous_cancellations</th>\n",
              "      <th>previous_bookings_not_canceled</th>\n",
              "      <th>booking_changes</th>\n",
              "      <th>agent</th>\n",
              "      <th>company</th>\n",
              "      <th>days_in_waiting_list</th>\n",
              "      <th>adr</th>\n",
              "      <th>required_car_parking_spaces</th>\n",
              "      <th>total_of_special_requests</th>\n",
              "    </tr>\n",
              "  </thead>\n",
              "  <tbody>\n",
              "    <tr>\n",
              "      <th>count</th>\n",
              "      <td>119390.000000</td>\n",
              "      <td>119390.000000</td>\n",
              "      <td>119390.000000</td>\n",
              "      <td>119390.000000</td>\n",
              "      <td>119390.000000</td>\n",
              "      <td>119390.000000</td>\n",
              "      <td>119390.000000</td>\n",
              "      <td>119390.000000</td>\n",
              "      <td>119386.000000</td>\n",
              "      <td>119390.000000</td>\n",
              "      <td>119390.000000</td>\n",
              "      <td>119390.000000</td>\n",
              "      <td>119390.000000</td>\n",
              "      <td>119390.000000</td>\n",
              "      <td>103050.000000</td>\n",
              "      <td>6797.000000</td>\n",
              "      <td>119390.000000</td>\n",
              "      <td>119390.000000</td>\n",
              "      <td>119390.000000</td>\n",
              "      <td>119390.000000</td>\n",
              "    </tr>\n",
              "    <tr>\n",
              "      <th>mean</th>\n",
              "      <td>0.370416</td>\n",
              "      <td>104.011416</td>\n",
              "      <td>2016.156554</td>\n",
              "      <td>27.165173</td>\n",
              "      <td>15.798241</td>\n",
              "      <td>0.927599</td>\n",
              "      <td>2.500302</td>\n",
              "      <td>1.856403</td>\n",
              "      <td>0.103890</td>\n",
              "      <td>0.007949</td>\n",
              "      <td>0.031912</td>\n",
              "      <td>0.087118</td>\n",
              "      <td>0.137097</td>\n",
              "      <td>0.221124</td>\n",
              "      <td>86.693382</td>\n",
              "      <td>189.266735</td>\n",
              "      <td>2.321149</td>\n",
              "      <td>101.831122</td>\n",
              "      <td>0.062518</td>\n",
              "      <td>0.571363</td>\n",
              "    </tr>\n",
              "    <tr>\n",
              "      <th>std</th>\n",
              "      <td>0.482918</td>\n",
              "      <td>106.863097</td>\n",
              "      <td>0.707476</td>\n",
              "      <td>13.605138</td>\n",
              "      <td>8.780829</td>\n",
              "      <td>0.998613</td>\n",
              "      <td>1.908286</td>\n",
              "      <td>0.579261</td>\n",
              "      <td>0.398561</td>\n",
              "      <td>0.097436</td>\n",
              "      <td>0.175767</td>\n",
              "      <td>0.844336</td>\n",
              "      <td>1.497437</td>\n",
              "      <td>0.652306</td>\n",
              "      <td>110.774548</td>\n",
              "      <td>131.655015</td>\n",
              "      <td>17.594721</td>\n",
              "      <td>50.535790</td>\n",
              "      <td>0.245291</td>\n",
              "      <td>0.792798</td>\n",
              "    </tr>\n",
              "    <tr>\n",
              "      <th>min</th>\n",
              "      <td>0.000000</td>\n",
              "      <td>0.000000</td>\n",
              "      <td>2015.000000</td>\n",
              "      <td>1.000000</td>\n",
              "      <td>1.000000</td>\n",
              "      <td>0.000000</td>\n",
              "      <td>0.000000</td>\n",
              "      <td>0.000000</td>\n",
              "      <td>0.000000</td>\n",
              "      <td>0.000000</td>\n",
              "      <td>0.000000</td>\n",
              "      <td>0.000000</td>\n",
              "      <td>0.000000</td>\n",
              "      <td>0.000000</td>\n",
              "      <td>1.000000</td>\n",
              "      <td>6.000000</td>\n",
              "      <td>0.000000</td>\n",
              "      <td>-6.380000</td>\n",
              "      <td>0.000000</td>\n",
              "      <td>0.000000</td>\n",
              "    </tr>\n",
              "    <tr>\n",
              "      <th>25%</th>\n",
              "      <td>0.000000</td>\n",
              "      <td>18.000000</td>\n",
              "      <td>2016.000000</td>\n",
              "      <td>16.000000</td>\n",
              "      <td>8.000000</td>\n",
              "      <td>0.000000</td>\n",
              "      <td>1.000000</td>\n",
              "      <td>2.000000</td>\n",
              "      <td>0.000000</td>\n",
              "      <td>0.000000</td>\n",
              "      <td>0.000000</td>\n",
              "      <td>0.000000</td>\n",
              "      <td>0.000000</td>\n",
              "      <td>0.000000</td>\n",
              "      <td>9.000000</td>\n",
              "      <td>62.000000</td>\n",
              "      <td>0.000000</td>\n",
              "      <td>69.290000</td>\n",
              "      <td>0.000000</td>\n",
              "      <td>0.000000</td>\n",
              "    </tr>\n",
              "    <tr>\n",
              "      <th>50%</th>\n",
              "      <td>0.000000</td>\n",
              "      <td>69.000000</td>\n",
              "      <td>2016.000000</td>\n",
              "      <td>28.000000</td>\n",
              "      <td>16.000000</td>\n",
              "      <td>1.000000</td>\n",
              "      <td>2.000000</td>\n",
              "      <td>2.000000</td>\n",
              "      <td>0.000000</td>\n",
              "      <td>0.000000</td>\n",
              "      <td>0.000000</td>\n",
              "      <td>0.000000</td>\n",
              "      <td>0.000000</td>\n",
              "      <td>0.000000</td>\n",
              "      <td>14.000000</td>\n",
              "      <td>179.000000</td>\n",
              "      <td>0.000000</td>\n",
              "      <td>94.575000</td>\n",
              "      <td>0.000000</td>\n",
              "      <td>0.000000</td>\n",
              "    </tr>\n",
              "    <tr>\n",
              "      <th>75%</th>\n",
              "      <td>1.000000</td>\n",
              "      <td>160.000000</td>\n",
              "      <td>2017.000000</td>\n",
              "      <td>38.000000</td>\n",
              "      <td>23.000000</td>\n",
              "      <td>2.000000</td>\n",
              "      <td>3.000000</td>\n",
              "      <td>2.000000</td>\n",
              "      <td>0.000000</td>\n",
              "      <td>0.000000</td>\n",
              "      <td>0.000000</td>\n",
              "      <td>0.000000</td>\n",
              "      <td>0.000000</td>\n",
              "      <td>0.000000</td>\n",
              "      <td>229.000000</td>\n",
              "      <td>270.000000</td>\n",
              "      <td>0.000000</td>\n",
              "      <td>126.000000</td>\n",
              "      <td>0.000000</td>\n",
              "      <td>1.000000</td>\n",
              "    </tr>\n",
              "    <tr>\n",
              "      <th>max</th>\n",
              "      <td>1.000000</td>\n",
              "      <td>737.000000</td>\n",
              "      <td>2017.000000</td>\n",
              "      <td>53.000000</td>\n",
              "      <td>31.000000</td>\n",
              "      <td>19.000000</td>\n",
              "      <td>50.000000</td>\n",
              "      <td>55.000000</td>\n",
              "      <td>10.000000</td>\n",
              "      <td>10.000000</td>\n",
              "      <td>1.000000</td>\n",
              "      <td>26.000000</td>\n",
              "      <td>72.000000</td>\n",
              "      <td>21.000000</td>\n",
              "      <td>535.000000</td>\n",
              "      <td>543.000000</td>\n",
              "      <td>391.000000</td>\n",
              "      <td>5400.000000</td>\n",
              "      <td>8.000000</td>\n",
              "      <td>5.000000</td>\n",
              "    </tr>\n",
              "  </tbody>\n",
              "</table>\n",
              "</div>\n",
              "      <button class=\"colab-df-convert\" onclick=\"convertToInteractive('df-fbc011d7-ab17-4019-9a43-1839b4c06e88')\"\n",
              "              title=\"Convert this dataframe to an interactive table.\"\n",
              "              style=\"display:none;\">\n",
              "        \n",
              "  <svg xmlns=\"http://www.w3.org/2000/svg\" height=\"24px\"viewBox=\"0 0 24 24\"\n",
              "       width=\"24px\">\n",
              "    <path d=\"M0 0h24v24H0V0z\" fill=\"none\"/>\n",
              "    <path d=\"M18.56 5.44l.94 2.06.94-2.06 2.06-.94-2.06-.94-.94-2.06-.94 2.06-2.06.94zm-11 1L8.5 8.5l.94-2.06 2.06-.94-2.06-.94L8.5 2.5l-.94 2.06-2.06.94zm10 10l.94 2.06.94-2.06 2.06-.94-2.06-.94-.94-2.06-.94 2.06-2.06.94z\"/><path d=\"M17.41 7.96l-1.37-1.37c-.4-.4-.92-.59-1.43-.59-.52 0-1.04.2-1.43.59L10.3 9.45l-7.72 7.72c-.78.78-.78 2.05 0 2.83L4 21.41c.39.39.9.59 1.41.59.51 0 1.02-.2 1.41-.59l7.78-7.78 2.81-2.81c.8-.78.8-2.07 0-2.86zM5.41 20L4 18.59l7.72-7.72 1.47 1.35L5.41 20z\"/>\n",
              "  </svg>\n",
              "      </button>\n",
              "      \n",
              "  <style>\n",
              "    .colab-df-container {\n",
              "      display:flex;\n",
              "      flex-wrap:wrap;\n",
              "      gap: 12px;\n",
              "    }\n",
              "\n",
              "    .colab-df-convert {\n",
              "      background-color: #E8F0FE;\n",
              "      border: none;\n",
              "      border-radius: 50%;\n",
              "      cursor: pointer;\n",
              "      display: none;\n",
              "      fill: #1967D2;\n",
              "      height: 32px;\n",
              "      padding: 0 0 0 0;\n",
              "      width: 32px;\n",
              "    }\n",
              "\n",
              "    .colab-df-convert:hover {\n",
              "      background-color: #E2EBFA;\n",
              "      box-shadow: 0px 1px 2px rgba(60, 64, 67, 0.3), 0px 1px 3px 1px rgba(60, 64, 67, 0.15);\n",
              "      fill: #174EA6;\n",
              "    }\n",
              "\n",
              "    [theme=dark] .colab-df-convert {\n",
              "      background-color: #3B4455;\n",
              "      fill: #D2E3FC;\n",
              "    }\n",
              "\n",
              "    [theme=dark] .colab-df-convert:hover {\n",
              "      background-color: #434B5C;\n",
              "      box-shadow: 0px 1px 3px 1px rgba(0, 0, 0, 0.15);\n",
              "      filter: drop-shadow(0px 1px 2px rgba(0, 0, 0, 0.3));\n",
              "      fill: #FFFFFF;\n",
              "    }\n",
              "  </style>\n",
              "\n",
              "      <script>\n",
              "        const buttonEl =\n",
              "          document.querySelector('#df-fbc011d7-ab17-4019-9a43-1839b4c06e88 button.colab-df-convert');\n",
              "        buttonEl.style.display =\n",
              "          google.colab.kernel.accessAllowed ? 'block' : 'none';\n",
              "\n",
              "        async function convertToInteractive(key) {\n",
              "          const element = document.querySelector('#df-fbc011d7-ab17-4019-9a43-1839b4c06e88');\n",
              "          const dataTable =\n",
              "            await google.colab.kernel.invokeFunction('convertToInteractive',\n",
              "                                                     [key], {});\n",
              "          if (!dataTable) return;\n",
              "\n",
              "          const docLinkHtml = 'Like what you see? Visit the ' +\n",
              "            '<a target=\"_blank\" href=https://colab.research.google.com/notebooks/data_table.ipynb>data table notebook</a>'\n",
              "            + ' to learn more about interactive tables.';\n",
              "          element.innerHTML = '';\n",
              "          dataTable['output_type'] = 'display_data';\n",
              "          await google.colab.output.renderOutput(dataTable, element);\n",
              "          const docLink = document.createElement('div');\n",
              "          docLink.innerHTML = docLinkHtml;\n",
              "          element.appendChild(docLink);\n",
              "        }\n",
              "      </script>\n",
              "    </div>\n",
              "  </div>\n",
              "  "
            ]
          },
          "metadata": {},
          "execution_count": 273
        }
      ]
    },
    {
      "cell_type": "code",
      "source": [
        "hdf.columns"
      ],
      "metadata": {
        "colab": {
          "base_uri": "https://localhost:8080/"
        },
        "id": "E8_b8rKACXnL",
        "outputId": "4778126e-0fb5-4abe-fed2-172a9f4c2b0f"
      },
      "execution_count": 274,
      "outputs": [
        {
          "output_type": "execute_result",
          "data": {
            "text/plain": [
              "Index(['hotel', 'is_canceled', 'lead_time', 'arrival_date_year',\n",
              "       'arrival_date_month', 'arrival_date_week_number',\n",
              "       'arrival_date_day_of_month', 'stays_in_weekend_nights',\n",
              "       'stays_in_week_nights', 'adults', 'children', 'babies', 'meal',\n",
              "       'country', 'market_segment', 'distribution_channel',\n",
              "       'is_repeated_guest', 'previous_cancellations',\n",
              "       'previous_bookings_not_canceled', 'reserved_room_type',\n",
              "       'assigned_room_type', 'booking_changes', 'deposit_type', 'agent',\n",
              "       'company', 'days_in_waiting_list', 'customer_type', 'adr',\n",
              "       'required_car_parking_spaces', 'total_of_special_requests',\n",
              "       'reservation_status', 'reservation_status_date'],\n",
              "      dtype='object')"
            ]
          },
          "metadata": {},
          "execution_count": 274
        }
      ]
    },
    {
      "cell_type": "markdown",
      "source": [
        "# Exploring every column of database, try to analyse and taking notes\n"
      ],
      "metadata": {
        "id": "OuSfqe0usGI-"
      }
    },
    {
      "cell_type": "code",
      "source": [
        "# 0th column\n",
        "hdf['hotel'].unique()"
      ],
      "metadata": {
        "colab": {
          "base_uri": "https://localhost:8080/"
        },
        "id": "P7R5j7PdCbnK",
        "outputId": "3c87514e-e9fe-4327-8e06-574774dd2f48"
      },
      "execution_count": 275,
      "outputs": [
        {
          "output_type": "execute_result",
          "data": {
            "text/plain": [
              "array(['Resort Hotel', 'City Hotel'], dtype=object)"
            ]
          },
          "metadata": {},
          "execution_count": 275
        }
      ]
    },
    {
      "cell_type": "code",
      "source": [
        "# 1st column\n",
        "hdf['is_canceled'].unique()"
      ],
      "metadata": {
        "colab": {
          "base_uri": "https://localhost:8080/"
        },
        "id": "DWetkUIRWQJ-",
        "outputId": "42e81a1f-b0f6-4b32-8324-ddf97165c577"
      },
      "execution_count": 276,
      "outputs": [
        {
          "output_type": "execute_result",
          "data": {
            "text/plain": [
              "array([0, 1])"
            ]
          },
          "metadata": {},
          "execution_count": 276
        }
      ]
    },
    {
      "cell_type": "code",
      "source": [
        "#2nd column\n",
        "hdf['lead_time'].unique()"
      ],
      "metadata": {
        "colab": {
          "base_uri": "https://localhost:8080/"
        },
        "id": "a8fkUJsLW0fD",
        "outputId": "f91a5840-935d-4c9d-c82e-eaecc8c44122"
      },
      "execution_count": 277,
      "outputs": [
        {
          "output_type": "execute_result",
          "data": {
            "text/plain": [
              "array([342, 737,   7,  13,  14,   0,   9,  85,  75,  23,  35,  68,  18,\n",
              "        37,  12,  72, 127,  78,  48,  60,  77,  99, 118,  95,  96,  69,\n",
              "        45,  40,  15,  36,  43,  70,  16, 107,  47, 113,  90,  50,  93,\n",
              "        76,   3,   1,  10,   5,  17,  51,  71,  63,  62, 101,   2,  81,\n",
              "       368, 364, 324,  79,  21, 109, 102,   4,  98,  92,  26,  73, 115,\n",
              "        86,  52,  29,  30,  33,  32,   8, 100,  44,  80,  97,  64,  39,\n",
              "        34,  27,  82,  94, 110, 111,  84,  66, 104,  28, 258, 112,  65,\n",
              "        67,  55,  88,  54, 292,  83, 105, 280, 394,  24, 103, 366, 249,\n",
              "        22,  91,  11, 108, 106,  31,  87,  41, 304, 117,  59,  53,  58,\n",
              "       116,  42, 321,  38,  56,  49, 317,   6,  57,  19,  25, 315, 123,\n",
              "        46,  89,  61, 312, 299, 130,  74, 298, 119,  20, 286, 136, 129,\n",
              "       124, 327, 131, 460, 140, 114, 139, 122, 137, 126, 120, 128, 135,\n",
              "       150, 143, 151, 132, 125, 157, 147, 138, 156, 164, 346, 159, 160,\n",
              "       161, 333, 381, 149, 154, 297, 163, 314, 155, 323, 340, 356, 142,\n",
              "       328, 144, 336, 248, 302, 175, 344, 382, 146, 170, 166, 338, 167,\n",
              "       310, 148, 165, 172, 171, 145, 121, 178, 305, 173, 152, 354, 347,\n",
              "       158, 185, 349, 183, 352, 177, 200, 192, 361, 207, 174, 330, 134,\n",
              "       350, 334, 283, 153, 197, 133, 241, 193, 235, 194, 261, 260, 216,\n",
              "       169, 209, 238, 215, 141, 189, 187, 223, 284, 214, 202, 211, 168,\n",
              "       230, 203, 188, 232, 709, 219, 162, 196, 190, 259, 228, 176, 250,\n",
              "       201, 186, 199, 180, 206, 205, 224, 222, 182, 210, 275, 212, 229,\n",
              "       218, 208, 191, 181, 179, 246, 255, 226, 288, 253, 252, 262, 236,\n",
              "       256, 234, 254, 468, 213, 237, 198, 195, 239, 263, 265, 274, 217,\n",
              "       220, 307, 221, 233, 257, 227, 276, 225, 264, 311, 277, 204, 290,\n",
              "       266, 270, 294, 319, 282, 251, 322, 291, 269, 240, 271, 184, 231,\n",
              "       268, 247, 273, 300, 301, 267, 244, 306, 293, 309, 272, 242, 295,\n",
              "       285, 243, 308, 398, 303, 245, 424, 279, 331, 281, 339, 434, 357,\n",
              "       325, 329, 278, 332, 343, 345, 360, 348, 367, 353, 373, 374, 406,\n",
              "       400, 326, 379, 399, 316, 341, 320, 385, 355, 363, 358, 296, 422,\n",
              "       390, 335, 370, 376, 375, 397, 289, 542, 403, 383, 384, 359, 393,\n",
              "       337, 362, 365, 435, 386, 378, 313, 351, 287, 471, 462, 411, 450,\n",
              "       318, 372, 371, 454, 532, 445, 389, 388, 407, 443, 437, 451, 391,\n",
              "       405, 412, 419, 420, 426, 433, 440, 429, 418, 447, 461, 605, 457,\n",
              "       475, 464, 482, 626, 489, 496, 503, 510, 517, 524, 531, 538, 545,\n",
              "       552, 559, 566, 573, 580, 587, 594, 601, 608, 615, 622, 629, 396,\n",
              "       410, 395, 423, 408, 409, 448, 465, 387, 414, 476, 479, 467, 490,\n",
              "       493, 478, 504, 507, 458, 518, 521, 377, 444, 380, 463])"
            ]
          },
          "metadata": {},
          "execution_count": 277
        }
      ]
    },
    {
      "cell_type": "code",
      "source": [
        "# 3rd column\n",
        "hdf['arrival_date_year'].unique()"
      ],
      "metadata": {
        "colab": {
          "base_uri": "https://localhost:8080/"
        },
        "id": "2y9K3SKlYMix",
        "outputId": "e6ce8a6e-c4d7-4017-c625-0a1a137d8a43"
      },
      "execution_count": 278,
      "outputs": [
        {
          "output_type": "execute_result",
          "data": {
            "text/plain": [
              "array([2015, 2016, 2017])"
            ]
          },
          "metadata": {},
          "execution_count": 278
        }
      ]
    },
    {
      "cell_type": "code",
      "source": [
        "# 4th column\n",
        "hdf['arrival_date_month'].unique()"
      ],
      "metadata": {
        "colab": {
          "base_uri": "https://localhost:8080/"
        },
        "id": "qliinxGLbSl-",
        "outputId": "30ba6633-087b-4983-9137-0b9f4087a1ae"
      },
      "execution_count": 279,
      "outputs": [
        {
          "output_type": "execute_result",
          "data": {
            "text/plain": [
              "array(['July', 'August', 'September', 'October', 'November', 'December',\n",
              "       'January', 'February', 'March', 'April', 'May', 'June'],\n",
              "      dtype=object)"
            ]
          },
          "metadata": {},
          "execution_count": 279
        }
      ]
    },
    {
      "cell_type": "code",
      "source": [
        "# 5th column\n",
        "hdf['arrival_date_week_number'].unique()"
      ],
      "metadata": {
        "colab": {
          "base_uri": "https://localhost:8080/"
        },
        "id": "YyiXEOtpY__E",
        "outputId": "b716d073-79bb-455b-ecff-47822ac31355"
      },
      "execution_count": 280,
      "outputs": [
        {
          "output_type": "execute_result",
          "data": {
            "text/plain": [
              "array([27, 28, 29, 30, 31, 32, 33, 34, 35, 36, 37, 38, 39, 40, 41, 42, 43,\n",
              "       44, 45, 46, 47, 48, 49, 50, 51, 52, 53,  1,  2,  3,  4,  5,  6,  7,\n",
              "        8,  9, 10, 11, 12, 13, 14, 15, 16, 17, 18, 19, 20, 21, 22, 23, 24,\n",
              "       25, 26])"
            ]
          },
          "metadata": {},
          "execution_count": 280
        }
      ]
    },
    {
      "cell_type": "code",
      "source": [
        "# 6th column\n",
        "hdf['arrival_date_day_of_month'].unique()"
      ],
      "metadata": {
        "colab": {
          "base_uri": "https://localhost:8080/"
        },
        "id": "j1cZrY2NZfNN",
        "outputId": "380ad46b-b4a7-46fd-9814-ee4e04e70fef"
      },
      "execution_count": 281,
      "outputs": [
        {
          "output_type": "execute_result",
          "data": {
            "text/plain": [
              "array([ 1,  2,  3,  4,  5,  6,  7,  8,  9, 10, 11, 12, 13, 14, 15, 16, 17,\n",
              "       18, 19, 20, 21, 22, 23, 24, 25, 26, 27, 28, 29, 30, 31])"
            ]
          },
          "metadata": {},
          "execution_count": 281
        }
      ]
    },
    {
      "cell_type": "code",
      "source": [
        "# 7th column\n",
        "hdf['stays_in_weekend_nights'].unique()"
      ],
      "metadata": {
        "colab": {
          "base_uri": "https://localhost:8080/"
        },
        "id": "7Lk3M3YAch_T",
        "outputId": "9c4c72d9-9fba-43ea-c4de-ab6a64083124"
      },
      "execution_count": 282,
      "outputs": [
        {
          "output_type": "execute_result",
          "data": {
            "text/plain": [
              "array([ 0,  1,  2,  4,  3,  6, 13,  8,  5,  7, 12,  9, 16, 18, 19, 10, 14])"
            ]
          },
          "metadata": {},
          "execution_count": 282
        }
      ]
    },
    {
      "cell_type": "code",
      "source": [
        "# 8th column\n",
        "hdf['stays_in_week_nights'].unique()"
      ],
      "metadata": {
        "colab": {
          "base_uri": "https://localhost:8080/"
        },
        "id": "G_BZvTMAdesZ",
        "outputId": "d53131b8-0a0d-4e1f-a470-6e36e0d1e55f"
      },
      "execution_count": 283,
      "outputs": [
        {
          "output_type": "execute_result",
          "data": {
            "text/plain": [
              "array([ 0,  1,  2,  3,  4,  5, 10, 11,  8,  6,  7, 15,  9, 12, 33, 20, 14,\n",
              "       16, 21, 13, 30, 19, 24, 40, 22, 42, 50, 25, 17, 32, 26, 18, 34, 35,\n",
              "       41])"
            ]
          },
          "metadata": {},
          "execution_count": 283
        }
      ]
    },
    {
      "cell_type": "code",
      "source": [
        "# 9th column\n",
        "hdf['adults'].unique()"
      ],
      "metadata": {
        "colab": {
          "base_uri": "https://localhost:8080/"
        },
        "id": "-PbfXhgSd2tm",
        "outputId": "c008a21c-f3d4-4ae4-e90b-50a89ef005fe"
      },
      "execution_count": 284,
      "outputs": [
        {
          "output_type": "execute_result",
          "data": {
            "text/plain": [
              "array([ 2,  1,  3,  4, 40, 26, 50, 27, 55,  0, 20,  6,  5, 10])"
            ]
          },
          "metadata": {},
          "execution_count": 284
        }
      ]
    },
    {
      "cell_type": "code",
      "source": [
        "# 10th column\n",
        "hdf['children'].unique()"
      ],
      "metadata": {
        "colab": {
          "base_uri": "https://localhost:8080/"
        },
        "id": "f4_ctT1JeSiJ",
        "outputId": "af721db6-26b1-4397-bf05-88e78d691364"
      },
      "execution_count": 285,
      "outputs": [
        {
          "output_type": "execute_result",
          "data": {
            "text/plain": [
              "array([ 0.,  1.,  2., 10.,  3., nan])"
            ]
          },
          "metadata": {},
          "execution_count": 285
        }
      ]
    },
    {
      "cell_type": "code",
      "source": [
        "# 11th column\n",
        "hdf['babies'].unique()"
      ],
      "metadata": {
        "colab": {
          "base_uri": "https://localhost:8080/"
        },
        "id": "BiX75D7Ciyxr",
        "outputId": "62db105a-f7ee-483a-fcd2-0dc64bdb6cef"
      },
      "execution_count": 286,
      "outputs": [
        {
          "output_type": "execute_result",
          "data": {
            "text/plain": [
              "array([ 0,  1,  2, 10,  9])"
            ]
          },
          "metadata": {},
          "execution_count": 286
        }
      ]
    },
    {
      "cell_type": "code",
      "source": [
        "# 12th column\n",
        "hdf['meal'].unique()"
      ],
      "metadata": {
        "colab": {
          "base_uri": "https://localhost:8080/"
        },
        "id": "o4nMLd2TjMq7",
        "outputId": "f01fe759-fc92-4390-d000-20f904e89a53"
      },
      "execution_count": 287,
      "outputs": [
        {
          "output_type": "execute_result",
          "data": {
            "text/plain": [
              "array(['BB', 'FB', 'HB', 'SC', 'Undefined'], dtype=object)"
            ]
          },
          "metadata": {},
          "execution_count": 287
        }
      ]
    },
    {
      "cell_type": "code",
      "source": [
        "# 13th column\n",
        "hdf['country'].unique()"
      ],
      "metadata": {
        "colab": {
          "base_uri": "https://localhost:8080/"
        },
        "id": "1bhc3GG9lC8K",
        "outputId": "185f8a2a-5b86-4dc6-8414-956829fd4f4f"
      },
      "execution_count": 288,
      "outputs": [
        {
          "output_type": "execute_result",
          "data": {
            "text/plain": [
              "array(['PRT', 'GBR', 'USA', 'ESP', 'IRL', 'FRA', nan, 'ROU', 'NOR', 'OMN',\n",
              "       'ARG', 'POL', 'DEU', 'BEL', 'CHE', 'CN', 'GRC', 'ITA', 'NLD',\n",
              "       'DNK', 'RUS', 'SWE', 'AUS', 'EST', 'CZE', 'BRA', 'FIN', 'MOZ',\n",
              "       'BWA', 'LUX', 'SVN', 'ALB', 'IND', 'CHN', 'MEX', 'MAR', 'UKR',\n",
              "       'SMR', 'LVA', 'PRI', 'SRB', 'CHL', 'AUT', 'BLR', 'LTU', 'TUR',\n",
              "       'ZAF', 'AGO', 'ISR', 'CYM', 'ZMB', 'CPV', 'ZWE', 'DZA', 'KOR',\n",
              "       'CRI', 'HUN', 'ARE', 'TUN', 'JAM', 'HRV', 'HKG', 'IRN', 'GEO',\n",
              "       'AND', 'GIB', 'URY', 'JEY', 'CAF', 'CYP', 'COL', 'GGY', 'KWT',\n",
              "       'NGA', 'MDV', 'VEN', 'SVK', 'FJI', 'KAZ', 'PAK', 'IDN', 'LBN',\n",
              "       'PHL', 'SEN', 'SYC', 'AZE', 'BHR', 'NZL', 'THA', 'DOM', 'MKD',\n",
              "       'MYS', 'ARM', 'JPN', 'LKA', 'CUB', 'CMR', 'BIH', 'MUS', 'COM',\n",
              "       'SUR', 'UGA', 'BGR', 'CIV', 'JOR', 'SYR', 'SGP', 'BDI', 'SAU',\n",
              "       'VNM', 'PLW', 'QAT', 'EGY', 'PER', 'MLT', 'MWI', 'ECU', 'MDG',\n",
              "       'ISL', 'UZB', 'NPL', 'BHS', 'MAC', 'TGO', 'TWN', 'DJI', 'STP',\n",
              "       'KNA', 'ETH', 'IRQ', 'HND', 'RWA', 'KHM', 'MCO', 'BGD', 'IMN',\n",
              "       'TJK', 'NIC', 'BEN', 'VGB', 'TZA', 'GAB', 'GHA', 'TMP', 'GLP',\n",
              "       'KEN', 'LIE', 'GNB', 'MNE', 'UMI', 'MYT', 'FRO', 'MMR', 'PAN',\n",
              "       'BFA', 'LBY', 'MLI', 'NAM', 'BOL', 'PRY', 'BRB', 'ABW', 'AIA',\n",
              "       'SLV', 'DMA', 'PYF', 'GUY', 'LCA', 'ATA', 'GTM', 'ASM', 'MRT',\n",
              "       'NCL', 'KIR', 'SDN', 'ATF', 'SLE', 'LAO'], dtype=object)"
            ]
          },
          "metadata": {},
          "execution_count": 288
        }
      ]
    },
    {
      "cell_type": "code",
      "source": [
        "# 14th column\n",
        "hdf['market_segment'].unique()"
      ],
      "metadata": {
        "colab": {
          "base_uri": "https://localhost:8080/"
        },
        "id": "pT7gu63Qld7w",
        "outputId": "f2b024ca-bf5b-4ced-da20-986c9d3499b7"
      },
      "execution_count": 289,
      "outputs": [
        {
          "output_type": "execute_result",
          "data": {
            "text/plain": [
              "array(['Direct', 'Corporate', 'Online TA', 'Offline TA/TO',\n",
              "       'Complementary', 'Groups', 'Undefined', 'Aviation'], dtype=object)"
            ]
          },
          "metadata": {},
          "execution_count": 289
        }
      ]
    },
    {
      "cell_type": "code",
      "source": [
        "# 15th column\n",
        "hdf['distribution_channel'].unique()"
      ],
      "metadata": {
        "colab": {
          "base_uri": "https://localhost:8080/"
        },
        "id": "XEmJJPBbmiRz",
        "outputId": "e9aff739-9d96-4803-96c9-78b03fee0616"
      },
      "execution_count": 290,
      "outputs": [
        {
          "output_type": "execute_result",
          "data": {
            "text/plain": [
              "array(['Direct', 'Corporate', 'TA/TO', 'Undefined', 'GDS'], dtype=object)"
            ]
          },
          "metadata": {},
          "execution_count": 290
        }
      ]
    },
    {
      "cell_type": "code",
      "source": [
        "# 16th column\n",
        "hdf['is_repeated_guest'].unique()"
      ],
      "metadata": {
        "colab": {
          "base_uri": "https://localhost:8080/"
        },
        "id": "5XtCVBrwnBPF",
        "outputId": "bada08be-1399-4460-8bc9-974a85670a5f"
      },
      "execution_count": 291,
      "outputs": [
        {
          "output_type": "execute_result",
          "data": {
            "text/plain": [
              "array([0, 1])"
            ]
          },
          "metadata": {},
          "execution_count": 291
        }
      ]
    },
    {
      "cell_type": "code",
      "source": [
        "# 17th column\n",
        "hdf['previous_cancellations'].unique()"
      ],
      "metadata": {
        "colab": {
          "base_uri": "https://localhost:8080/"
        },
        "id": "gE-i5KbPnkYd",
        "outputId": "4022ec12-2d0a-47c5-a34e-ef216cf9852e"
      },
      "execution_count": 292,
      "outputs": [
        {
          "output_type": "execute_result",
          "data": {
            "text/plain": [
              "array([ 0,  1,  2,  3, 26, 25, 14,  4, 24, 19,  5, 21,  6, 13, 11])"
            ]
          },
          "metadata": {},
          "execution_count": 292
        }
      ]
    },
    {
      "cell_type": "code",
      "source": [
        "# 18th column\n",
        "hdf['previous_bookings_not_canceled'].unique()"
      ],
      "metadata": {
        "colab": {
          "base_uri": "https://localhost:8080/"
        },
        "id": "Mpci4Uiin-vO",
        "outputId": "68e7cc15-a493-42cb-9c73-2d66541a63b8"
      },
      "execution_count": 293,
      "outputs": [
        {
          "output_type": "execute_result",
          "data": {
            "text/plain": [
              "array([ 0,  1,  2,  3,  4,  5,  6,  7,  8,  9, 10, 11, 12, 13, 14, 15, 16,\n",
              "       17, 18, 20, 21, 22, 23, 24, 25, 27, 28, 29, 30, 19, 26, 31, 32, 33,\n",
              "       34, 35, 36, 37, 38, 39, 40, 41, 42, 43, 44, 45, 46, 47, 48, 49, 50,\n",
              "       51, 52, 53, 54, 55, 56, 57, 58, 59, 60, 61, 62, 63, 64, 65, 66, 67,\n",
              "       68, 69, 70, 71, 72])"
            ]
          },
          "metadata": {},
          "execution_count": 293
        }
      ]
    },
    {
      "cell_type": "code",
      "source": [
        "# 19th column\n",
        "hdf['reserved_room_type'].unique()"
      ],
      "metadata": {
        "colab": {
          "base_uri": "https://localhost:8080/"
        },
        "id": "s9S9C5TEpfTu",
        "outputId": "5dcb178a-ec42-4704-990b-20b319f5b8e4"
      },
      "execution_count": 294,
      "outputs": [
        {
          "output_type": "execute_result",
          "data": {
            "text/plain": [
              "array(['C', 'A', 'D', 'E', 'G', 'F', 'H', 'L', 'P', 'B'], dtype=object)"
            ]
          },
          "metadata": {},
          "execution_count": 294
        }
      ]
    },
    {
      "cell_type": "code",
      "source": [
        "# 20th column\n",
        "hdf['assigned_room_type'].unique()"
      ],
      "metadata": {
        "colab": {
          "base_uri": "https://localhost:8080/"
        },
        "id": "wU82e5oxC0hs",
        "outputId": "382766c7-f95d-43ee-f06f-2726a9f2d64c"
      },
      "execution_count": 295,
      "outputs": [
        {
          "output_type": "execute_result",
          "data": {
            "text/plain": [
              "array(['C', 'A', 'D', 'E', 'G', 'F', 'I', 'B', 'H', 'P', 'L', 'K'],\n",
              "      dtype=object)"
            ]
          },
          "metadata": {},
          "execution_count": 295
        }
      ]
    },
    {
      "cell_type": "code",
      "source": [
        "# 21st column\n",
        "hdf['booking_changes'].unique()"
      ],
      "metadata": {
        "colab": {
          "base_uri": "https://localhost:8080/"
        },
        "id": "V43Rs6aqEKdQ",
        "outputId": "b06a811b-0027-4bfa-cf6e-2c35eae88fee"
      },
      "execution_count": 296,
      "outputs": [
        {
          "output_type": "execute_result",
          "data": {
            "text/plain": [
              "array([ 3,  4,  0,  1,  2,  5, 17,  6,  8,  7, 10, 16,  9, 13, 12, 20, 14,\n",
              "       15, 11, 21, 18])"
            ]
          },
          "metadata": {},
          "execution_count": 296
        }
      ]
    },
    {
      "cell_type": "code",
      "source": [
        "# 22nd column\n",
        "hdf['deposit_type'].unique()"
      ],
      "metadata": {
        "colab": {
          "base_uri": "https://localhost:8080/"
        },
        "id": "yVtESHPmEpcP",
        "outputId": "d3a33eb6-e417-4e7c-de00-28c65c6a4197"
      },
      "execution_count": 297,
      "outputs": [
        {
          "output_type": "execute_result",
          "data": {
            "text/plain": [
              "array(['No Deposit', 'Refundable', 'Non Refund'], dtype=object)"
            ]
          },
          "metadata": {},
          "execution_count": 297
        }
      ]
    },
    {
      "cell_type": "code",
      "source": [
        "# 23rd column\n",
        "hdf['agent'].unique()"
      ],
      "metadata": {
        "colab": {
          "base_uri": "https://localhost:8080/"
        },
        "id": "n0Y7Bzg_FD77",
        "outputId": "162e5204-4cf7-41ee-8318-b657c4e126cd"
      },
      "execution_count": 298,
      "outputs": [
        {
          "output_type": "execute_result",
          "data": {
            "text/plain": [
              "array([ nan, 304., 240., 303.,  15., 241.,   8., 250., 115.,   5., 175.,\n",
              "       134., 156., 243., 242.,   3., 105.,  40., 147., 306., 184.,  96.,\n",
              "         2., 127.,  95., 146.,   9., 177.,   6., 143., 244., 149., 167.,\n",
              "       300., 171., 305.,  67., 196., 152., 142., 261., 104.,  36.,  26.,\n",
              "        29., 258., 110.,  71., 181.,  88., 251., 275.,  69., 248., 208.,\n",
              "       256., 314., 126., 281., 273., 253., 185., 330., 334., 328., 326.,\n",
              "       321., 324., 313.,  38., 155.,  68., 335., 308., 332.,  94., 348.,\n",
              "       310., 339., 375.,  66., 327., 387., 298.,  91., 245., 385., 257.,\n",
              "       393., 168., 405., 249., 315.,  75., 128., 307.,  11., 436.,   1.,\n",
              "       201., 183., 223., 368., 336., 291., 464., 411., 481.,  10., 154.,\n",
              "       468., 410., 390., 440., 495., 492., 493., 434.,  57., 531., 420.,\n",
              "       483., 526., 472., 429.,  16., 446.,  34.,  78., 139., 252., 270.,\n",
              "        47., 114., 301., 193., 182., 135., 350., 195., 352., 355., 159.,\n",
              "       363., 384., 360., 331., 367.,  64., 406., 163., 414., 333., 427.,\n",
              "       431., 430., 426., 438., 433., 418., 441., 282., 432.,  72., 450.,\n",
              "       180., 454., 455.,  59., 451., 254., 358., 469., 165., 467., 510.,\n",
              "       337., 476., 502., 527., 479., 508., 535., 302., 497., 187.,  13.,\n",
              "         7.,  27.,  14.,  22.,  17.,  28.,  42.,  20.,  19.,  45.,  37.,\n",
              "        61.,  39.,  21.,  24.,  41.,  50.,  30.,  54.,  52.,  12.,  44.,\n",
              "        31.,  83.,  32.,  63.,  60.,  55.,  56.,  89.,  87., 118.,  86.,\n",
              "        85., 210., 214., 129., 179., 138., 174., 170., 153.,  93., 151.,\n",
              "       119.,  35., 173.,  58.,  53., 133.,  79., 235., 192., 191., 236.,\n",
              "       162., 215., 157., 287., 132., 234.,  98.,  77., 103., 107., 262.,\n",
              "       220., 121., 205., 378.,  23., 296., 290., 229.,  33., 286., 276.,\n",
              "       425., 484., 323., 403., 219., 394., 509., 111., 423.,   4.,  70.,\n",
              "        82.,  81.,  74.,  92.,  99.,  90., 112., 117., 106., 148., 158.,\n",
              "       144., 211., 213., 216., 232., 150., 267., 227., 247., 278., 280.,\n",
              "       285., 289., 269., 295., 265., 288., 122., 294., 325., 341., 344.,\n",
              "       346., 359., 283., 364., 370., 371.,  25., 141., 391., 397., 416.,\n",
              "       404., 299., 197.,  73., 354., 444., 408., 461., 388., 453., 459.,\n",
              "       474., 475., 480., 449.])"
            ]
          },
          "metadata": {},
          "execution_count": 298
        }
      ]
    },
    {
      "cell_type": "code",
      "source": [
        "# 24th column\n",
        "hdf['company'].unique()"
      ],
      "metadata": {
        "colab": {
          "base_uri": "https://localhost:8080/"
        },
        "id": "1Wr_ZtYmFWMD",
        "outputId": "5dfc54a0-858a-4c84-c333-f97e03195922"
      },
      "execution_count": 299,
      "outputs": [
        {
          "output_type": "execute_result",
          "data": {
            "text/plain": [
              "array([ nan, 110., 113., 270., 178., 240., 154., 144., 307., 268.,  59.,\n",
              "       204., 312., 318.,  94., 174., 274., 195., 223., 317., 281., 118.,\n",
              "        53., 286.,  12.,  47., 324., 342., 373., 371., 383.,  86.,  82.,\n",
              "       218.,  88.,  31., 397., 392., 405., 331., 367.,  20.,  83., 416.,\n",
              "        51., 395., 102.,  34.,  84., 360., 394., 457., 382., 461., 478.,\n",
              "       386., 112., 486., 421.,   9., 308., 135., 224., 504., 269., 356.,\n",
              "       498., 390., 513., 203., 263., 477., 521., 169., 515., 445., 337.,\n",
              "       251., 428., 292., 388., 130., 250., 355., 254., 543., 531., 528.,\n",
              "        62., 120.,  42.,  81., 116., 530., 103.,  39.,  16.,  92.,  61.,\n",
              "       501., 165., 291., 290.,  43., 325., 192., 108., 200., 465., 287.,\n",
              "       297., 490., 482., 207., 282., 437., 225., 329., 272.,  28.,  77.,\n",
              "       338.,  72., 246., 319., 146., 159., 380., 323., 511., 407., 278.,\n",
              "        80., 403., 399.,  14., 137., 343., 346., 347., 349., 289., 351.,\n",
              "       353.,  54.,  99., 358., 361., 362., 366., 372., 365., 277., 109.,\n",
              "       377., 379.,  22., 378., 330., 364., 401., 232., 255., 384., 167.,\n",
              "       212., 514., 391., 400., 376., 402., 396., 302., 398.,   6., 370.,\n",
              "       369., 409., 168., 104., 408., 413., 148.,  10., 333., 419., 415.,\n",
              "       424., 425., 423., 422., 435., 439., 442., 448., 443., 454., 444.,\n",
              "        52., 459., 458., 456., 460., 447., 470., 466., 484., 184., 485.,\n",
              "        32., 487., 491., 494., 193., 516., 496., 499.,  29.,  78., 520.,\n",
              "       507., 506., 512., 126.,  64., 242., 518., 523., 539., 534., 436.,\n",
              "       525., 541.,  40., 455., 410.,  45.,  38.,  49.,  48.,  67.,  68.,\n",
              "        65.,  91.,  37.,   8., 179., 209., 219., 221., 227., 153., 186.,\n",
              "       253., 202., 216., 275., 233., 280., 309., 321.,  93., 316.,  85.,\n",
              "       107., 350., 279., 334., 348., 150.,  73., 385., 418., 197., 450.,\n",
              "       452., 115.,  46.,  76.,  96., 100., 105., 101., 122.,  11., 139.,\n",
              "       142., 127., 143., 140., 149., 163., 160., 180., 238., 183., 222.,\n",
              "       185., 217., 215., 213., 237., 230., 234.,  35., 245., 158., 258.,\n",
              "       259., 260., 411., 257., 271.,  18., 106., 210., 273.,  71., 284.,\n",
              "       301., 305., 293., 264., 311., 304., 313., 288., 320., 314., 332.,\n",
              "       341., 352., 243., 368., 393., 132., 220., 412., 420., 426., 417.,\n",
              "       429., 433., 446., 357., 479., 483., 489., 229., 481., 497., 451.,\n",
              "       492.])"
            ]
          },
          "metadata": {},
          "execution_count": 299
        }
      ]
    },
    {
      "cell_type": "code",
      "source": [
        "# 25th column\n",
        "hdf['days_in_waiting_list'].unique()\n"
      ],
      "metadata": {
        "colab": {
          "base_uri": "https://localhost:8080/"
        },
        "id": "ocp0SxNiFnHx",
        "outputId": "5e7dcbd3-21e0-4888-bb20-4aad458da1a7"
      },
      "execution_count": 300,
      "outputs": [
        {
          "output_type": "execute_result",
          "data": {
            "text/plain": [
              "array([  0,  50,  47,  65, 122,  75, 101, 150, 125,  14,  60,  34, 100,\n",
              "        22, 121,  61,  39,   5,   1,   8, 107,  43,  52,   2,  11, 142,\n",
              "       116,  13,  44,  97,  83,   4, 113,  18,  20, 185,  93, 109,   6,\n",
              "        37, 105, 154,  64,  99,  38,  48,  33,  77,  21,  80,  59,  40,\n",
              "        58,  89,  53,  49,  69,  87,  91,  57, 111,  79,  98,  85,  63,\n",
              "        15,   3,  41, 224,  31,  56, 187, 176,  71,  55,  96, 236, 259,\n",
              "       207, 215, 160, 120,  30,  32,  27,  62,  24, 108, 147, 379,  70,\n",
              "        35, 178, 330, 223, 174, 162, 391,  68, 193,  10,  76,  16,  28,\n",
              "         9, 165,  17,  25,  46,   7,  84, 175, 183,  23, 117,  12,  54,\n",
              "        26,  73,  45,  19,  42,  72,  81,  92,  74, 167,  36])"
            ]
          },
          "metadata": {},
          "execution_count": 300
        }
      ]
    },
    {
      "cell_type": "code",
      "source": [
        "# 26th column\n",
        "hdf['customer_type'].unique()"
      ],
      "metadata": {
        "colab": {
          "base_uri": "https://localhost:8080/"
        },
        "id": "6BAsl39XGSHq",
        "outputId": "a61ac5af-7a24-41ba-8b62-4e270bee3fe2"
      },
      "execution_count": 301,
      "outputs": [
        {
          "output_type": "execute_result",
          "data": {
            "text/plain": [
              "array(['Transient', 'Contract', 'Transient-Party', 'Group'], dtype=object)"
            ]
          },
          "metadata": {},
          "execution_count": 301
        }
      ]
    },
    {
      "cell_type": "code",
      "source": [
        "# 27th column\n",
        "hdf['adr'].unique()"
      ],
      "metadata": {
        "colab": {
          "base_uri": "https://localhost:8080/"
        },
        "id": "cuzRC64vI3ZO",
        "outputId": "2f50f644-817b-403e-bd13-aed0fc22d61e"
      },
      "execution_count": 302,
      "outputs": [
        {
          "output_type": "execute_result",
          "data": {
            "text/plain": [
              "array([  0.  ,  75.  ,  98.  , ..., 266.75, 209.25, 157.71])"
            ]
          },
          "metadata": {},
          "execution_count": 302
        }
      ]
    },
    {
      "cell_type": "code",
      "source": [
        "# 28th column\n",
        "hdf['required_car_parking_spaces'].unique()"
      ],
      "metadata": {
        "colab": {
          "base_uri": "https://localhost:8080/"
        },
        "id": "lkwPzj5FJV2T",
        "outputId": "a5497585-0f44-4c4f-d871-e62ee37b2cf2"
      },
      "execution_count": 303,
      "outputs": [
        {
          "output_type": "execute_result",
          "data": {
            "text/plain": [
              "array([0, 1, 2, 8, 3])"
            ]
          },
          "metadata": {},
          "execution_count": 303
        }
      ]
    },
    {
      "cell_type": "code",
      "source": [
        "# 29th column\n",
        "hdf['total_of_special_requests'].unique()"
      ],
      "metadata": {
        "colab": {
          "base_uri": "https://localhost:8080/"
        },
        "id": "e0q7zTrDJwYc",
        "outputId": "317c8097-c2a9-4659-afc4-7d29ea17c9b0"
      },
      "execution_count": 304,
      "outputs": [
        {
          "output_type": "execute_result",
          "data": {
            "text/plain": [
              "array([0, 1, 3, 2, 4, 5])"
            ]
          },
          "metadata": {},
          "execution_count": 304
        }
      ]
    },
    {
      "cell_type": "code",
      "source": [
        "# 30th column\n",
        "hdf['reservation_status'].unique()"
      ],
      "metadata": {
        "colab": {
          "base_uri": "https://localhost:8080/"
        },
        "id": "1FLJ-TVgKcHZ",
        "outputId": "ebe168df-dd85-45ba-bdff-957ee8230376"
      },
      "execution_count": 305,
      "outputs": [
        {
          "output_type": "execute_result",
          "data": {
            "text/plain": [
              "array(['Check-Out', 'Canceled', 'No-Show'], dtype=object)"
            ]
          },
          "metadata": {},
          "execution_count": 305
        }
      ]
    },
    {
      "cell_type": "code",
      "source": [
        "# 31st column\n",
        "hdf['reservation_status_date'].unique()"
      ],
      "metadata": {
        "colab": {
          "base_uri": "https://localhost:8080/"
        },
        "id": "2Avjhp2xKh74",
        "outputId": "c9c79f44-d101-429e-ef42-c3be5c09c938"
      },
      "execution_count": 306,
      "outputs": [
        {
          "output_type": "execute_result",
          "data": {
            "text/plain": [
              "array(['2015-07-01', '2015-07-02', '2015-07-03', '2015-05-06',\n",
              "       '2015-04-22', '2015-06-23', '2015-07-05', '2015-07-06',\n",
              "       '2015-07-07', '2015-07-08', '2015-05-11', '2015-07-15',\n",
              "       '2015-07-16', '2015-05-29', '2015-05-19', '2015-06-19',\n",
              "       '2015-05-23', '2015-05-18', '2015-07-09', '2015-06-02',\n",
              "       '2015-07-13', '2015-07-04', '2015-06-29', '2015-06-16',\n",
              "       '2015-06-18', '2015-06-12', '2015-06-09', '2015-05-26',\n",
              "       '2015-07-11', '2015-07-12', '2015-07-17', '2015-04-15',\n",
              "       '2015-05-13', '2015-07-10', '2015-05-20', '2015-05-12',\n",
              "       '2015-07-14', '2015-06-17', '2015-05-01', '2015-03-30',\n",
              "       '2015-07-19', '2015-06-03', '2015-06-26', '2015-05-14',\n",
              "       '2015-07-20', '2015-05-07', '2015-05-28', '2015-04-13',\n",
              "       '2015-03-25', '2015-07-21', '2015-06-27', '2015-07-18',\n",
              "       '2015-07-23', '2015-06-08', '2015-06-22', '2015-06-24',\n",
              "       '2015-03-05', '2015-06-01', '2015-04-24', '2015-07-22',\n",
              "       '2015-05-27', '2015-04-06', '2015-04-11', '2015-07-25',\n",
              "       '2015-07-28', '2015-07-29', '2015-06-25', '2015-07-24',\n",
              "       '2015-06-05', '2015-06-30', '2015-06-13', '2015-06-11',\n",
              "       '2015-07-30', '2015-07-27', '2015-04-29', '2015-06-04',\n",
              "       '2015-07-26', '2015-08-01', '2015-08-02', '2015-06-15',\n",
              "       '2015-04-23', '2015-07-31', '2015-05-25', '2015-08-03',\n",
              "       '2015-04-17', '2015-08-04', '2015-08-06', '2015-05-15',\n",
              "       '2015-05-09', '2015-03-17', '2015-05-22', '2015-08-07',\n",
              "       '2015-04-04', '2015-08-05', '2015-08-08', '2015-08-10',\n",
              "       '2015-05-04', '2015-06-06', '2015-08-09', '2015-08-15',\n",
              "       '2015-08-11', '2015-03-28', '2015-08-14', '2015-08-12',\n",
              "       '2015-08-16', '2015-05-16', '2015-08-21', '2015-08-13',\n",
              "       '2015-08-17', '2015-04-20', '2015-08-18', '2015-08-23',\n",
              "       '2015-08-22', '2015-08-19', '2015-08-20', '2015-08-29',\n",
              "       '2015-03-31', '2015-05-30', '2015-08-25', '2015-04-14',\n",
              "       '2015-08-24', '2015-03-24', '2015-05-21', '2015-08-28',\n",
              "       '2015-08-26', '2015-08-27', '2015-08-30', '2015-08-31',\n",
              "       '2015-09-06', '2015-09-03', '2015-09-04', '2015-09-02',\n",
              "       '2015-09-01', '2015-09-05', '2015-06-20', '2015-09-07',\n",
              "       '2015-09-10', '2015-09-11', '2015-09-08', '2015-09-09',\n",
              "       '2015-09-13', '2015-09-15', '2015-04-10', '2015-01-02',\n",
              "       '2014-11-18', '2015-09-12', '2015-09-17', '2015-09-14',\n",
              "       '2015-04-07', '2015-09-19', '2015-09-16', '2015-09-20',\n",
              "       '2015-01-18', '2015-10-23', '2015-01-22', '2015-01-01',\n",
              "       '2015-09-22', '2015-09-24', '2015-09-18', '2015-09-21',\n",
              "       '2015-09-30', '2015-09-25', '2015-09-27', '2015-09-28',\n",
              "       '2015-10-12', '2015-09-29', '2015-09-23', '2015-10-01',\n",
              "       '2015-09-26', '2015-04-18', '2015-10-02', '2015-10-04',\n",
              "       '2015-10-08', '2015-10-03', '2015-10-07', '2015-10-09',\n",
              "       '2015-10-11', '2015-10-05', '2015-10-06', '2015-10-10',\n",
              "       '2015-10-14', '2015-10-15', '2015-10-18', '2015-10-13',\n",
              "       '2015-10-20', '2015-10-19', '2015-10-31', '2015-10-16',\n",
              "       '2015-10-21', '2015-10-22', '2015-10-17', '2015-10-24',\n",
              "       '2015-10-25', '2015-10-28', '2015-10-27', '2015-10-26',\n",
              "       '2015-10-30', '2015-11-05', '2015-10-29', '2015-11-03',\n",
              "       '2015-11-07', '2015-11-04', '2015-11-01', '2015-11-02',\n",
              "       '2015-11-17', '2015-11-06', '2015-11-10', '2015-11-08',\n",
              "       '2015-11-09', '2015-11-15', '2015-11-16', '2015-11-11',\n",
              "       '2015-11-12', '2015-11-14', '2015-11-13', '2015-11-18',\n",
              "       '2015-11-22', '2015-11-19', '2015-11-21', '2015-11-20',\n",
              "       '2015-11-24', '2015-11-25', '2015-11-23', '2015-11-28',\n",
              "       '2015-11-26', '2015-11-27', '2015-11-29', '2015-12-04',\n",
              "       '2015-12-01', '2015-12-06', '2015-12-08', '2015-12-02',\n",
              "       '2015-12-03', '2015-12-31', '2015-12-05', '2015-12-10',\n",
              "       '2015-12-17', '2015-11-30', '2015-12-12', '2015-12-07',\n",
              "       '2016-01-05', '2015-12-11', '2015-12-13', '2015-12-15',\n",
              "       '2015-12-16', '2015-12-19', '2015-12-18', '2015-12-26',\n",
              "       '2015-12-27', '2015-12-22', '2015-12-23', '2015-12-24',\n",
              "       '2015-12-29', '2015-12-28', '2015-12-20', '2015-12-30',\n",
              "       '2016-01-02', '2016-01-01', '2015-12-25', '2016-01-03',\n",
              "       '2016-01-04', '2016-01-11', '2016-01-07', '2015-12-21',\n",
              "       '2016-01-09', '2016-01-10', '2016-01-08', '2016-01-06',\n",
              "       '2016-01-12', '2016-01-13', '2016-01-23', '2016-02-09',\n",
              "       '2016-01-15', '2016-01-16', '2016-01-17', '2016-01-19',\n",
              "       '2016-01-18', '2016-01-21', '2016-01-24', '2016-01-22',\n",
              "       '2016-01-29', '2016-01-27', '2016-01-25', '2016-03-08',\n",
              "       '2016-01-26', '2016-01-20', '2016-01-30', '2016-02-01',\n",
              "       '2016-02-02', '2016-02-08', '2016-02-07', '2016-01-28',\n",
              "       '2016-02-05', '2016-02-03', '2016-02-13', '2016-02-10',\n",
              "       '2016-02-04', '2016-02-12', '2016-02-11', '2016-02-16',\n",
              "       '2016-02-14', '2016-02-15', '2016-02-20', '2016-02-06',\n",
              "       '2016-01-14', '2016-02-17', '2016-02-21', '2016-02-24',\n",
              "       '2016-02-25', '2016-02-19', '2016-02-18', '2016-02-26',\n",
              "       '2016-02-23', '2016-03-05', '2016-02-22', '2016-02-27',\n",
              "       '2016-03-03', '2016-03-24', '2016-03-04', '2016-02-29',\n",
              "       '2016-03-01', '2016-03-02', '2016-03-30', '2016-03-07',\n",
              "       '2016-03-14', '2016-03-21', '2016-03-09', '2016-03-12',\n",
              "       '2016-03-22', '2016-03-10', '2016-03-11', '2016-03-20',\n",
              "       '2016-03-15', '2016-03-17', '2016-03-16', '2016-03-19',\n",
              "       '2016-03-27', '2016-03-18', '2016-03-26', '2016-03-31',\n",
              "       '2016-03-28', '2016-03-29', '2016-04-01', '2016-03-23',\n",
              "       '2016-04-02', '2016-03-25', '2016-03-13', '2016-04-04',\n",
              "       '2016-04-03', '2016-04-05', '2016-04-08', '2016-04-06',\n",
              "       '2016-04-09', '2016-04-12', '2016-04-16', '2016-04-17',\n",
              "       '2016-04-27', '2016-04-14', '2016-04-18', '2016-04-21',\n",
              "       '2016-04-19', '2016-04-20', '2016-04-10', '2016-04-13',\n",
              "       '2016-04-11', '2016-04-07', '2016-04-15', '2016-04-22',\n",
              "       '2016-04-23', '2016-04-26', '2016-04-28', '2016-04-24',\n",
              "       '2016-04-25', '2016-04-29', '2016-04-30', '2016-05-01',\n",
              "       '2016-05-10', '2016-05-02', '2016-05-07', '2016-05-08',\n",
              "       '2016-05-12', '2016-05-04', '2016-05-06', '2016-05-03',\n",
              "       '2016-05-09', '2016-05-05', '2016-05-13', '2016-05-14',\n",
              "       '2016-05-18', '2016-05-19', '2016-05-15', '2016-05-16',\n",
              "       '2016-05-11', '2016-05-21', '2016-05-22', '2016-05-20',\n",
              "       '2016-05-24', '2016-05-25', '2016-05-26', '2016-05-23',\n",
              "       '2016-05-27', '2016-05-17', '2016-05-29', '2016-05-28',\n",
              "       '2016-05-30', '2016-05-31', '2016-06-01', '2016-06-03',\n",
              "       '2016-06-08', '2016-06-02', '2016-06-05', '2016-06-06',\n",
              "       '2016-06-13', '2016-06-07', '2016-06-10', '2016-06-11',\n",
              "       '2016-06-16', '2016-06-12', '2016-06-14', '2016-06-17',\n",
              "       '2016-06-04', '2016-06-18', '2016-06-21', '2016-06-09',\n",
              "       '2016-06-24', '2016-06-20', '2016-06-25', '2016-06-22',\n",
              "       '2016-06-26', '2016-06-23', '2016-07-01', '2016-06-15',\n",
              "       '2016-06-28', '2016-07-02', '2016-06-19', '2016-06-27',\n",
              "       '2016-07-04', '2016-06-30', '2016-07-05', '2016-07-08',\n",
              "       '2016-07-09', '2016-07-07', '2016-07-12', '2016-06-29',\n",
              "       '2016-07-10', '2016-07-15', '2016-07-03', '2016-07-16',\n",
              "       '2016-07-14', '2016-07-18', '2016-07-13', '2016-07-06',\n",
              "       '2016-07-20', '2016-07-21', '2016-07-23', '2016-07-19',\n",
              "       '2016-07-11', '2016-07-28', '2016-07-17', '2016-07-25',\n",
              "       '2016-07-22', '2016-07-29', '2016-08-03', '2016-08-02',\n",
              "       '2016-08-04', '2016-08-08', '2016-08-10', '2016-08-01',\n",
              "       '2016-08-06', '2016-03-06', '2016-08-05', '2016-07-26',\n",
              "       '2016-08-07', '2016-07-30', '2016-07-24', '2016-08-12',\n",
              "       '2016-07-27', '2016-08-13', '2016-08-18', '2016-08-16',\n",
              "       '2016-08-15', '2016-08-17', '2016-08-11', '2016-07-31',\n",
              "       '2016-08-19', '2016-09-01', '2016-08-23', '2016-08-26',\n",
              "       '2016-08-20', '2016-08-21', '2016-09-04', '2016-08-22',\n",
              "       '2016-08-27', '2016-08-25', '2016-08-09', '2016-09-05',\n",
              "       '2016-08-24', '2016-09-10', '2016-08-29', '2016-09-09',\n",
              "       '2016-08-30', '2016-09-13', '2016-08-31', '2016-09-14',\n",
              "       '2016-09-12', '2016-09-15', '2016-08-14', '2016-09-02',\n",
              "       '2016-09-08', '2016-09-19', '2016-09-16', '2016-09-07',\n",
              "       '2016-09-21', '2016-09-06', '2016-09-22', '2016-09-17',\n",
              "       '2016-09-20', '2016-09-03', '2016-09-26', '2016-09-23',\n",
              "       '2016-09-18', '2016-09-29', '2016-10-02', '2016-10-01',\n",
              "       '2016-09-27', '2016-09-25', '2016-10-05', '2016-09-11',\n",
              "       '2016-09-30', '2016-10-09', '2016-10-03', '2016-10-06',\n",
              "       '2016-10-11', '2016-09-24', '2016-10-13', '2016-09-28',\n",
              "       '2016-10-08', '2016-10-07', '2016-10-16', '2016-08-28',\n",
              "       '2016-10-17', '2016-10-18', '2016-10-10', '2016-10-04',\n",
              "       '2016-10-15', '2016-10-19', '2016-10-21', '2016-10-12',\n",
              "       '2016-10-24', '2016-10-26', '2016-10-23', '2016-10-20',\n",
              "       '2016-10-25', '2016-10-27', '2016-10-28', '2016-10-30',\n",
              "       '2016-10-29', '2016-11-01', '2016-11-04', '2016-10-14',\n",
              "       '2016-11-07', '2016-11-03', '2016-11-10', '2016-11-14',\n",
              "       '2016-11-02', '2016-10-31', '2016-11-11', '2016-11-08',\n",
              "       '2016-11-05', '2016-11-25', '2016-11-09', '2016-11-20',\n",
              "       '2016-11-21', '2016-10-22', '2016-11-22', '2016-11-16',\n",
              "       '2016-11-23', '2016-11-17', '2016-11-06', '2016-11-15',\n",
              "       '2016-11-13', '2016-11-12', '2016-11-27', '2016-11-19',\n",
              "       '2016-11-30', '2016-11-18', '2016-12-02', '2016-12-04',\n",
              "       '2016-11-29', '2016-12-07', '2016-11-28', '2016-12-03',\n",
              "       '2016-12-06', '2016-11-24', '2016-12-08', '2016-12-05',\n",
              "       '2016-12-10', '2016-12-13', '2016-12-14', '2016-12-16',\n",
              "       '2016-12-15', '2016-12-17', '2016-12-19', '2016-12-21',\n",
              "       '2016-12-20', '2016-12-22', '2016-12-23', '2016-12-24',\n",
              "       '2016-12-01', '2016-12-27', '2016-12-29', '2016-12-30',\n",
              "       '2016-12-12', '2017-01-02', '2016-12-11', '2017-01-03',\n",
              "       '2017-01-04', '2017-01-01', '2016-12-26', '2017-01-06',\n",
              "       '2016-12-28', '2016-12-18', '2017-01-10', '2017-01-11',\n",
              "       '2017-01-07', '2017-01-12', '2017-01-16', '2017-01-14',\n",
              "       '2017-01-13', '2017-01-05', '2017-01-17', '2017-01-20',\n",
              "       '2016-12-09', '2017-01-26', '2016-12-31', '2017-01-23',\n",
              "       '2017-01-27', '2017-01-28', '2017-01-19', '2017-01-25',\n",
              "       '2017-01-24', '2017-01-29', '2017-01-18', '2016-12-25',\n",
              "       '2017-01-15', '2017-01-21', '2017-02-01', '2017-02-02',\n",
              "       '2017-01-31', '2017-02-03', '2017-02-04', '2017-02-06',\n",
              "       '2017-02-07', '2017-02-08', '2017-01-30', '2017-02-09',\n",
              "       '2017-01-09', '2017-02-11', '2017-02-10', '2017-02-12',\n",
              "       '2017-02-13', '2017-02-14', '2017-02-16', '2017-02-17',\n",
              "       '2017-02-18', '2017-02-19', '2017-02-20', '2017-02-15',\n",
              "       '2017-02-21', '2017-02-22', '2017-02-26', '2017-02-23',\n",
              "       '2017-02-24', '2017-02-25', '2017-02-28', '2017-03-05',\n",
              "       '2017-02-27', '2017-03-03', '2017-03-06', '2017-03-02',\n",
              "       '2017-03-08', '2017-03-09', '2017-03-10', '2017-03-07',\n",
              "       '2017-03-12', '2017-03-13', '2017-03-14', '2017-03-01',\n",
              "       '2017-03-18', '2017-03-17', '2017-03-24', '2017-03-22',\n",
              "       '2017-03-26', '2017-03-27', '2017-03-11', '2017-03-28',\n",
              "       '2017-03-29', '2017-03-30', '2017-03-31', '2017-03-19',\n",
              "       '2017-01-22', '2017-04-02', '2017-03-20', '2017-04-03',\n",
              "       '2017-01-08', '2017-03-23', '2017-04-05', '2017-02-05',\n",
              "       '2017-04-04', '2017-03-15', '2017-04-07', '2017-03-25',\n",
              "       '2017-04-08', '2017-04-06', '2017-03-21', '2017-04-10',\n",
              "       '2017-04-01', '2017-04-11', '2017-04-13', '2017-04-15',\n",
              "       '2017-04-12', '2017-03-04', '2017-04-19', '2017-04-22',\n",
              "       '2017-04-20', '2017-05-02', '2017-04-09', '2017-04-23',\n",
              "       '2017-04-24', '2017-04-16', '2017-04-28', '2017-04-18',\n",
              "       '2017-04-26', '2017-04-25', '2017-04-17', '2017-04-21',\n",
              "       '2017-05-03', '2017-05-04', '2017-03-16', '2017-05-05',\n",
              "       '2017-04-29', '2017-04-14', '2017-05-08', '2017-04-27',\n",
              "       '2017-05-11', '2017-05-01', '2017-05-10', '2017-05-13',\n",
              "       '2017-05-06', '2017-05-14', '2017-05-16', '2017-04-30',\n",
              "       '2017-05-15', '2017-05-07', '2017-05-09', '2017-05-17',\n",
              "       '2017-05-21', '2017-05-12', '2017-05-22', '2017-05-24',\n",
              "       '2017-05-23', '2017-05-25', '2017-05-26', '2017-05-28',\n",
              "       '2017-05-27', '2017-05-29', '2017-05-19', '2017-05-31',\n",
              "       '2017-05-20', '2017-06-01', '2017-05-30', '2017-06-02',\n",
              "       '2016-11-26', '2017-06-04', '2017-06-05', '2017-06-06',\n",
              "       '2017-06-07', '2017-05-18', '2017-06-09', '2017-06-10',\n",
              "       '2017-06-11', '2017-06-12', '2017-06-14', '2017-06-08',\n",
              "       '2017-06-16', '2017-06-13', '2017-06-03', '2017-06-24',\n",
              "       '2017-06-20', '2017-06-19', '2017-06-21', '2017-06-26',\n",
              "       '2017-06-27', '2017-06-22', '2017-06-28', '2017-06-15',\n",
              "       '2017-06-29', '2017-06-30', '2017-06-18', '2017-07-04',\n",
              "       '2017-07-08', '2017-07-05', '2017-07-03', '2017-07-07',\n",
              "       '2017-07-01', '2017-07-06', '2017-07-11', '2017-07-12',\n",
              "       '2017-06-23', '2017-07-13', '2017-07-02', '2017-07-10',\n",
              "       '2017-07-14', '2017-07-15', '2017-07-16', '2017-07-18',\n",
              "       '2017-07-17', '2017-07-19', '2017-07-20', '2017-07-21',\n",
              "       '2017-06-25', '2017-06-17', '2017-07-24', '2017-07-26',\n",
              "       '2017-07-09', '2017-07-27', '2017-07-28', '2017-07-31',\n",
              "       '2017-07-29', '2017-07-22', '2017-08-02', '2017-08-01',\n",
              "       '2017-08-03', '2017-08-04', '2017-07-25', '2017-07-23',\n",
              "       '2017-08-09', '2017-08-10', '2017-07-30', '2017-08-07',\n",
              "       '2017-08-13', '2017-08-05', '2017-08-14', '2017-08-08',\n",
              "       '2017-08-16', '2017-08-17', '2017-08-15', '2017-08-18',\n",
              "       '2017-08-20', '2017-08-22', '2017-08-06', '2017-08-25',\n",
              "       '2017-08-26', '2017-08-23', '2017-08-11', '2017-08-27',\n",
              "       '2017-08-21', '2017-08-29', '2017-08-31', '2017-08-12',\n",
              "       '2017-08-19', '2016-01-31', '2017-09-01', '2017-08-28',\n",
              "       '2015-04-03', '2015-01-21', '2015-01-28', '2015-01-29',\n",
              "       '2015-01-30', '2015-02-02', '2015-02-05', '2015-02-06',\n",
              "       '2015-02-09', '2015-02-10', '2015-02-11', '2015-02-12',\n",
              "       '2015-02-19', '2015-02-20', '2015-02-23', '2015-02-24',\n",
              "       '2015-02-25', '2015-02-26', '2015-02-27', '2015-03-03',\n",
              "       '2015-03-04', '2015-03-06', '2015-03-09', '2015-03-11',\n",
              "       '2015-03-12', '2015-03-18', '2015-04-02', '2015-06-14',\n",
              "       '2015-04-08', '2015-04-16', '2015-04-25', '2015-04-28',\n",
              "       '2015-05-08', '2017-09-06', '2016-02-28', '2015-12-09',\n",
              "       '2015-12-14', '2017-09-09', '2017-09-02', '2017-08-24',\n",
              "       '2017-08-30', '2017-09-03', '2017-09-04', '2017-09-05',\n",
              "       '2017-09-07', '2017-09-08', '2017-09-10', '2017-09-12',\n",
              "       '2017-09-14', '2015-04-30', '2015-04-21', '2015-04-05',\n",
              "       '2015-03-13', '2015-05-05', '2015-03-29', '2015-06-10',\n",
              "       '2015-04-27', '2014-10-17', '2015-01-20', '2015-02-17',\n",
              "       '2015-03-10', '2015-03-23'], dtype=object)"
            ]
          },
          "metadata": {},
          "execution_count": 306
        }
      ]
    },
    {
      "cell_type": "markdown",
      "source": [
        "# Data cleaning process\n",
        "1. Deal with columns name and give a proper name to columns.\n",
        "2. Deal with duplicate rows if any\n",
        "3. Drop columns, which are not required or having same values\n",
        "4. Deal with null data or missing value \n",
        "5. Change datatype of column if needed like children is object dtype but should be in a int type.\n",
        "6. merge columns (e.g. [booking_day, booking_month, booking_year], [no_of_adults, no_of_children, no_of_babies] and [stays_in_weekend_nights,  stays_in_week_nights])   "
      ],
      "metadata": {
        "id": "vxLlDVdScRn5"
      }
    },
    {
      "cell_type": "markdown",
      "source": [
        "# 1.Deal with columns name and give a proper name to columns."
      ],
      "metadata": {
        "id": "12O-Q2Gbsn2C"
      }
    },
    {
      "cell_type": "code",
      "source": [
        "# giving proper name to columns\n",
        "hdf.columns=['hotel','booking_cancel_status','lead_time','arrival_date_year','arrival_date_month','arrival_date_week_number','arrival_date_day_of_month',\n",
        "             'stays_in_weekend_nights','stays_in_week_nights','no_of_adults','no_of_children','no_of_babies','meal_type','country','market_segment',\n",
        "             'distribution_channel','repeated_guest_status','no_of_previous_cancellations','no_of_previous_booking_not_cancelled',\n",
        "             'reserved_room_type','assigned_room_type','no_of_booking_changes','deposit_type','agent_id','company_id',\n",
        "             'no_of_days_in_waiting_list','customer_type','adr','required_no_of_car_parking_space',\n",
        "             'total_no_of_special_requests','reservation_status','reservation_status_date']"
      ],
      "metadata": {
        "id": "4LY1xQYjcP4T"
      },
      "execution_count": 307,
      "outputs": []
    },
    {
      "cell_type": "code",
      "source": [
        "hdf.info()"
      ],
      "metadata": {
        "colab": {
          "base_uri": "https://localhost:8080/"
        },
        "id": "6g01MTphmgEg",
        "outputId": "a8279168-6897-4da3-ee5f-73d5b2c753e1"
      },
      "execution_count": 308,
      "outputs": [
        {
          "output_type": "stream",
          "name": "stdout",
          "text": [
            "<class 'pandas.core.frame.DataFrame'>\n",
            "RangeIndex: 119390 entries, 0 to 119389\n",
            "Data columns (total 32 columns):\n",
            " #   Column                                Non-Null Count   Dtype  \n",
            "---  ------                                --------------   -----  \n",
            " 0   hotel                                 119390 non-null  object \n",
            " 1   booking_cancel_status                 119390 non-null  int64  \n",
            " 2   lead_time                             119390 non-null  int64  \n",
            " 3   arrival_date_year                     119390 non-null  int64  \n",
            " 4   arrival_date_month                    119390 non-null  object \n",
            " 5   arrival_date_week_number              119390 non-null  int64  \n",
            " 6   arrival_date_day_of_month             119390 non-null  int64  \n",
            " 7   stays_in_weekend_nights               119390 non-null  int64  \n",
            " 8   stays_in_week_nights                  119390 non-null  int64  \n",
            " 9   no_of_adults                          119390 non-null  int64  \n",
            " 10  no_of_children                        119386 non-null  float64\n",
            " 11  no_of_babies                          119390 non-null  int64  \n",
            " 12  meal_type                             119390 non-null  object \n",
            " 13  country                               118902 non-null  object \n",
            " 14  market_segment                        119390 non-null  object \n",
            " 15  distribution_channel                  119390 non-null  object \n",
            " 16  repeated_guest_status                 119390 non-null  int64  \n",
            " 17  no_of_previous_cancellations          119390 non-null  int64  \n",
            " 18  no_of_previous_booking_not_cancelled  119390 non-null  int64  \n",
            " 19  reserved_room_type                    119390 non-null  object \n",
            " 20  assigned_room_type                    119390 non-null  object \n",
            " 21  no_of_booking_changes                 119390 non-null  int64  \n",
            " 22  deposit_type                          119390 non-null  object \n",
            " 23  agent_id                              103050 non-null  float64\n",
            " 24  company_id                            6797 non-null    float64\n",
            " 25  no_of_days_in_waiting_list            119390 non-null  int64  \n",
            " 26  customer_type                         119390 non-null  object \n",
            " 27  adr                                   119390 non-null  float64\n",
            " 28  required_no_of_car_parking_space      119390 non-null  int64  \n",
            " 29  total_no_of_special_requests          119390 non-null  int64  \n",
            " 30  reservation_status                    119390 non-null  object \n",
            " 31  reservation_status_date               119390 non-null  object \n",
            "dtypes: float64(4), int64(16), object(12)\n",
            "memory usage: 29.1+ MB\n"
          ]
        }
      ]
    },
    {
      "cell_type": "markdown",
      "source": [
        "#2. Deal with duplicate rows and columns\n",
        "\n"
      ],
      "metadata": {
        "id": "-thR-sgYiG5S"
      }
    },
    {
      "cell_type": "code",
      "source": [
        "# we are going to find out, how many duplicate rows are their.\n",
        "hdf[hdf.duplicated()].shape"
      ],
      "metadata": {
        "colab": {
          "base_uri": "https://localhost:8080/"
        },
        "id": "gP3v1RhDmgtc",
        "outputId": "36989b93-f0f0-425b-a3ee-d7d071c65377"
      },
      "execution_count": 309,
      "outputs": [
        {
          "output_type": "execute_result",
          "data": {
            "text/plain": [
              "(31994, 32)"
            ]
          },
          "metadata": {},
          "execution_count": 309
        }
      ]
    },
    {
      "cell_type": "code",
      "source": [
        "# droping the duplicate rows\n",
        "hdf.drop_duplicates(inplace = True)\n"
      ],
      "metadata": {
        "id": "vgZt-zWujWsX"
      },
      "execution_count": 310,
      "outputs": []
    },
    {
      "cell_type": "markdown",
      "source": [
        "#3. Drop columns, which are not required or having same values"
      ],
      "metadata": {
        "id": "ZVB6b1iAdEHg"
      }
    },
    {
      "cell_type": "code",
      "source": [
        "# booking_mode and distribution_channel are same so we are going to drop distribution_channel\n",
        "hdf.drop(['market_segment'],axis=1,inplace=True)"
      ],
      "metadata": {
        "id": "zRvJBMmHWj0q"
      },
      "execution_count": 311,
      "outputs": []
    },
    {
      "cell_type": "code",
      "source": [
        "hdf.drop(['company_id'],axis=1,inplace=True)"
      ],
      "metadata": {
        "id": "2qlJEJyqINaW"
      },
      "execution_count": 312,
      "outputs": []
    },
    {
      "cell_type": "code",
      "source": [
        "# shape after cleaning the duplicate rows\n",
        "hdf.shape"
      ],
      "metadata": {
        "colab": {
          "base_uri": "https://localhost:8080/"
        },
        "id": "sLk6GrAAjjpe",
        "outputId": "94ff6000-12e5-42b4-ce94-3f0e65eeae5f"
      },
      "execution_count": 313,
      "outputs": [
        {
          "output_type": "execute_result",
          "data": {
            "text/plain": [
              "(87396, 30)"
            ]
          },
          "metadata": {},
          "execution_count": 313
        }
      ]
    },
    {
      "cell_type": "code",
      "source": [
        "hdf.info()"
      ],
      "metadata": {
        "colab": {
          "base_uri": "https://localhost:8080/"
        },
        "id": "AcAbps3hjnDl",
        "outputId": "f74c06bd-a357-4247-feb1-9450058bbd6f"
      },
      "execution_count": 314,
      "outputs": [
        {
          "output_type": "stream",
          "name": "stdout",
          "text": [
            "<class 'pandas.core.frame.DataFrame'>\n",
            "Int64Index: 87396 entries, 0 to 119389\n",
            "Data columns (total 30 columns):\n",
            " #   Column                                Non-Null Count  Dtype  \n",
            "---  ------                                --------------  -----  \n",
            " 0   hotel                                 87396 non-null  object \n",
            " 1   booking_cancel_status                 87396 non-null  int64  \n",
            " 2   lead_time                             87396 non-null  int64  \n",
            " 3   arrival_date_year                     87396 non-null  int64  \n",
            " 4   arrival_date_month                    87396 non-null  object \n",
            " 5   arrival_date_week_number              87396 non-null  int64  \n",
            " 6   arrival_date_day_of_month             87396 non-null  int64  \n",
            " 7   stays_in_weekend_nights               87396 non-null  int64  \n",
            " 8   stays_in_week_nights                  87396 non-null  int64  \n",
            " 9   no_of_adults                          87396 non-null  int64  \n",
            " 10  no_of_children                        87392 non-null  float64\n",
            " 11  no_of_babies                          87396 non-null  int64  \n",
            " 12  meal_type                             87396 non-null  object \n",
            " 13  country                               86944 non-null  object \n",
            " 14  distribution_channel                  87396 non-null  object \n",
            " 15  repeated_guest_status                 87396 non-null  int64  \n",
            " 16  no_of_previous_cancellations          87396 non-null  int64  \n",
            " 17  no_of_previous_booking_not_cancelled  87396 non-null  int64  \n",
            " 18  reserved_room_type                    87396 non-null  object \n",
            " 19  assigned_room_type                    87396 non-null  object \n",
            " 20  no_of_booking_changes                 87396 non-null  int64  \n",
            " 21  deposit_type                          87396 non-null  object \n",
            " 22  agent_id                              75203 non-null  float64\n",
            " 23  no_of_days_in_waiting_list            87396 non-null  int64  \n",
            " 24  customer_type                         87396 non-null  object \n",
            " 25  adr                                   87396 non-null  float64\n",
            " 26  required_no_of_car_parking_space      87396 non-null  int64  \n",
            " 27  total_no_of_special_requests          87396 non-null  int64  \n",
            " 28  reservation_status                    87396 non-null  object \n",
            " 29  reservation_status_date               87396 non-null  object \n",
            "dtypes: float64(3), int64(16), object(11)\n",
            "memory usage: 20.7+ MB\n"
          ]
        }
      ]
    },
    {
      "cell_type": "markdown",
      "source": [
        "#3. Deal with null data or missing value "
      ],
      "metadata": {
        "id": "oWu6voZJndIj"
      }
    },
    {
      "cell_type": "code",
      "source": [
        "hdf['no_of_children']=hdf.no_of_children.fillna(hdf.no_of_children.mean())  # replacing null value in no_of_children column with mean of no_of_children column\n",
        "hdf['agent_id']=hdf.agent_id.fillna('0')                                    # replacing null values in agent_id column with 0 \n",
        "hdf['country']=hdf.country.fillna('others')                                 # # replacing null values in company column with others"
      ],
      "metadata": {
        "id": "UU47JRY4jtr-"
      },
      "execution_count": 315,
      "outputs": []
    },
    {
      "cell_type": "markdown",
      "source": [
        "#4. Change datatype of column if needed \n"
      ],
      "metadata": {
        "id": "RP0-XQ_mnoHg"
      }
    },
    {
      "cell_type": "code",
      "source": [
        "# converting no_of_children, agent_id and company_id columns into int type.\n",
        "hdf[['no_of_children','agent_id']]=hdf[['no_of_children','agent_id']].astype('int64')"
      ],
      "metadata": {
        "id": "3iXhPpg5kChl"
      },
      "execution_count": 316,
      "outputs": []
    },
    {
      "cell_type": "code",
      "source": [
        "# converting reservation_status_data into datetime type.\n",
        "hdf['reservation_status_date']=hdf['reservation_status_date'].apply(lambda x : datetime.strptime(x,'%Y-%m-%d'))"
      ],
      "metadata": {
        "id": "S1iMcH_WrK1S"
      },
      "execution_count": 317,
      "outputs": []
    },
    {
      "cell_type": "markdown",
      "source": [
        "#5. merge columns (e.g. [booking_day, booking_month, booking_year], [no_of_adults, no_of_children, no_of_babies] and [stays_in_weekend_nights,  stays_in_week_nights])   "
      ],
      "metadata": {
        "id": "OE7xE4O_q7Vl"
      }
    },
    {
      "cell_type": "code",
      "source": [
        "# first converting year, month and date into string then we will join them because we can't join data in int or float format\n",
        "hdf['arrival_month_year']=hdf[['arrival_date_month','arrival_date_year']].astype('str').apply(lambda x: '-'.join(x),axis=1)"
      ],
      "metadata": {
        "id": "7now47Ubq6ez"
      },
      "execution_count": 318,
      "outputs": []
    },
    {
      "cell_type": "code",
      "source": [
        "# now converting booking_date column from str to datetime type.\n",
        "hdf['arrival_month_year']=hdf['arrival_month_year'].apply(lambda x : datetime.strptime(x,'%B-%Y'))"
      ],
      "metadata": {
        "id": "TBwMG6Q-olyD"
      },
      "execution_count": 319,
      "outputs": []
    },
    {
      "cell_type": "code",
      "source": [
        "# finding out, how many people are there in a group and storing in total_no_of_group \n",
        "hdf['total_no_in_group']=hdf['no_of_adults'] + hdf['no_of_children'] +hdf['no_of_babies']"
      ],
      "metadata": {
        "id": "cL2ogGuJSR6i"
      },
      "execution_count": 320,
      "outputs": []
    },
    {
      "cell_type": "code",
      "source": [
        "hdf['total_no_of_stays']=hdf['stays_in_week_nights'] + hdf['stays_in_weekend_nights']"
      ],
      "metadata": {
        "id": "4uAebfr3Pqb8"
      },
      "execution_count": 321,
      "outputs": []
    },
    {
      "cell_type": "code",
      "source": [
        "hdf.iloc[:20,7:] #looking data for confirmation"
      ],
      "metadata": {
        "colab": {
          "base_uri": "https://localhost:8080/",
          "height": 769
        },
        "id": "Ynvo3uBEP5J9",
        "outputId": "238fe592-0c96-47f6-d72d-1b1c00f7ac0e"
      },
      "execution_count": 322,
      "outputs": [
        {
          "output_type": "execute_result",
          "data": {
            "text/plain": [
              "    stays_in_weekend_nights  stays_in_week_nights  no_of_adults  \\\n",
              "0                         0                     0             2   \n",
              "1                         0                     0             2   \n",
              "2                         0                     1             1   \n",
              "3                         0                     1             1   \n",
              "4                         0                     2             2   \n",
              "6                         0                     2             2   \n",
              "7                         0                     2             2   \n",
              "8                         0                     3             2   \n",
              "9                         0                     3             2   \n",
              "10                        0                     4             2   \n",
              "11                        0                     4             2   \n",
              "12                        0                     4             2   \n",
              "13                        0                     4             2   \n",
              "14                        0                     4             2   \n",
              "15                        0                     4             2   \n",
              "16                        0                     4             2   \n",
              "17                        0                     1             2   \n",
              "18                        0                     1             2   \n",
              "19                        0                     4             2   \n",
              "20                        1                     4             1   \n",
              "\n",
              "    no_of_children  no_of_babies meal_type country distribution_channel  \\\n",
              "0                0             0        BB     PRT               Direct   \n",
              "1                0             0        BB     PRT               Direct   \n",
              "2                0             0        BB     GBR               Direct   \n",
              "3                0             0        BB     GBR            Corporate   \n",
              "4                0             0        BB     GBR                TA/TO   \n",
              "6                0             0        BB     PRT               Direct   \n",
              "7                0             0        FB     PRT               Direct   \n",
              "8                0             0        BB     PRT                TA/TO   \n",
              "9                0             0        HB     PRT                TA/TO   \n",
              "10               0             0        BB     PRT                TA/TO   \n",
              "11               0             0        HB     PRT                TA/TO   \n",
              "12               0             0        BB     USA                TA/TO   \n",
              "13               1             0        HB     ESP                TA/TO   \n",
              "14               0             0        BB     PRT                TA/TO   \n",
              "15               0             0        BB     IRL                TA/TO   \n",
              "16               0             0        BB     PRT                TA/TO   \n",
              "17               0             0        BB     IRL                TA/TO   \n",
              "18               0             0        BB     FRA            Corporate   \n",
              "19               0             0        BB     GBR               Direct   \n",
              "20               0             0        BB     GBR                TA/TO   \n",
              "\n",
              "    repeated_guest_status  no_of_previous_cancellations  ...  \\\n",
              "0                       0                             0  ...   \n",
              "1                       0                             0  ...   \n",
              "2                       0                             0  ...   \n",
              "3                       0                             0  ...   \n",
              "4                       0                             0  ...   \n",
              "6                       0                             0  ...   \n",
              "7                       0                             0  ...   \n",
              "8                       0                             0  ...   \n",
              "9                       0                             0  ...   \n",
              "10                      0                             0  ...   \n",
              "11                      0                             0  ...   \n",
              "12                      0                             0  ...   \n",
              "13                      0                             0  ...   \n",
              "14                      0                             0  ...   \n",
              "15                      0                             0  ...   \n",
              "16                      0                             0  ...   \n",
              "17                      0                             0  ...   \n",
              "18                      0                             0  ...   \n",
              "19                      0                             0  ...   \n",
              "20                      0                             0  ...   \n",
              "\n",
              "    no_of_days_in_waiting_list customer_type     adr  \\\n",
              "0                            0     Transient    0.00   \n",
              "1                            0     Transient    0.00   \n",
              "2                            0     Transient   75.00   \n",
              "3                            0     Transient   75.00   \n",
              "4                            0     Transient   98.00   \n",
              "6                            0     Transient  107.00   \n",
              "7                            0     Transient  103.00   \n",
              "8                            0     Transient   82.00   \n",
              "9                            0     Transient  105.50   \n",
              "10                           0     Transient  123.00   \n",
              "11                           0     Transient  145.00   \n",
              "12                           0     Transient   97.00   \n",
              "13                           0     Transient  154.77   \n",
              "14                           0     Transient   94.71   \n",
              "15                           0     Transient   97.00   \n",
              "16                           0      Contract   97.50   \n",
              "17                           0     Transient   88.20   \n",
              "18                           0     Transient  107.42   \n",
              "19                           0     Transient  153.00   \n",
              "20                           0     Transient   97.29   \n",
              "\n",
              "    required_no_of_car_parking_space total_no_of_special_requests  \\\n",
              "0                                  0                            0   \n",
              "1                                  0                            0   \n",
              "2                                  0                            0   \n",
              "3                                  0                            0   \n",
              "4                                  0                            1   \n",
              "6                                  0                            0   \n",
              "7                                  0                            1   \n",
              "8                                  0                            1   \n",
              "9                                  0                            0   \n",
              "10                                 0                            0   \n",
              "11                                 0                            0   \n",
              "12                                 0                            3   \n",
              "13                                 0                            1   \n",
              "14                                 0                            0   \n",
              "15                                 0                            3   \n",
              "16                                 0                            0   \n",
              "17                                 0                            0   \n",
              "18                                 0                            0   \n",
              "19                                 0                            1   \n",
              "20                                 0                            1   \n",
              "\n",
              "    reservation_status  reservation_status_date arrival_month_year  \\\n",
              "0            Check-Out               2015-07-01         2015-07-01   \n",
              "1            Check-Out               2015-07-01         2015-07-01   \n",
              "2            Check-Out               2015-07-02         2015-07-01   \n",
              "3            Check-Out               2015-07-02         2015-07-01   \n",
              "4            Check-Out               2015-07-03         2015-07-01   \n",
              "6            Check-Out               2015-07-03         2015-07-01   \n",
              "7            Check-Out               2015-07-03         2015-07-01   \n",
              "8             Canceled               2015-05-06         2015-07-01   \n",
              "9             Canceled               2015-04-22         2015-07-01   \n",
              "10            Canceled               2015-06-23         2015-07-01   \n",
              "11           Check-Out               2015-07-05         2015-07-01   \n",
              "12           Check-Out               2015-07-05         2015-07-01   \n",
              "13           Check-Out               2015-07-05         2015-07-01   \n",
              "14           Check-Out               2015-07-05         2015-07-01   \n",
              "15           Check-Out               2015-07-05         2015-07-01   \n",
              "16           Check-Out               2015-07-05         2015-07-01   \n",
              "17           Check-Out               2015-07-02         2015-07-01   \n",
              "18           Check-Out               2015-07-02         2015-07-01   \n",
              "19           Check-Out               2015-07-05         2015-07-01   \n",
              "20           Check-Out               2015-07-06         2015-07-01   \n",
              "\n",
              "    total_no_in_group  total_no_of_stays  \n",
              "0                   2                  0  \n",
              "1                   2                  0  \n",
              "2                   1                  1  \n",
              "3                   1                  1  \n",
              "4                   2                  2  \n",
              "6                   2                  2  \n",
              "7                   2                  2  \n",
              "8                   2                  3  \n",
              "9                   2                  3  \n",
              "10                  2                  4  \n",
              "11                  2                  4  \n",
              "12                  2                  4  \n",
              "13                  3                  4  \n",
              "14                  2                  4  \n",
              "15                  2                  4  \n",
              "16                  2                  4  \n",
              "17                  2                  1  \n",
              "18                  2                  1  \n",
              "19                  2                  4  \n",
              "20                  1                  5  \n",
              "\n",
              "[20 rows x 26 columns]"
            ],
            "text/html": [
              "\n",
              "  <div id=\"df-ef8f8677-703f-4768-8511-23c3b67c5b05\">\n",
              "    <div class=\"colab-df-container\">\n",
              "      <div>\n",
              "<style scoped>\n",
              "    .dataframe tbody tr th:only-of-type {\n",
              "        vertical-align: middle;\n",
              "    }\n",
              "\n",
              "    .dataframe tbody tr th {\n",
              "        vertical-align: top;\n",
              "    }\n",
              "\n",
              "    .dataframe thead th {\n",
              "        text-align: right;\n",
              "    }\n",
              "</style>\n",
              "<table border=\"1\" class=\"dataframe\">\n",
              "  <thead>\n",
              "    <tr style=\"text-align: right;\">\n",
              "      <th></th>\n",
              "      <th>stays_in_weekend_nights</th>\n",
              "      <th>stays_in_week_nights</th>\n",
              "      <th>no_of_adults</th>\n",
              "      <th>no_of_children</th>\n",
              "      <th>no_of_babies</th>\n",
              "      <th>meal_type</th>\n",
              "      <th>country</th>\n",
              "      <th>distribution_channel</th>\n",
              "      <th>repeated_guest_status</th>\n",
              "      <th>no_of_previous_cancellations</th>\n",
              "      <th>...</th>\n",
              "      <th>no_of_days_in_waiting_list</th>\n",
              "      <th>customer_type</th>\n",
              "      <th>adr</th>\n",
              "      <th>required_no_of_car_parking_space</th>\n",
              "      <th>total_no_of_special_requests</th>\n",
              "      <th>reservation_status</th>\n",
              "      <th>reservation_status_date</th>\n",
              "      <th>arrival_month_year</th>\n",
              "      <th>total_no_in_group</th>\n",
              "      <th>total_no_of_stays</th>\n",
              "    </tr>\n",
              "  </thead>\n",
              "  <tbody>\n",
              "    <tr>\n",
              "      <th>0</th>\n",
              "      <td>0</td>\n",
              "      <td>0</td>\n",
              "      <td>2</td>\n",
              "      <td>0</td>\n",
              "      <td>0</td>\n",
              "      <td>BB</td>\n",
              "      <td>PRT</td>\n",
              "      <td>Direct</td>\n",
              "      <td>0</td>\n",
              "      <td>0</td>\n",
              "      <td>...</td>\n",
              "      <td>0</td>\n",
              "      <td>Transient</td>\n",
              "      <td>0.00</td>\n",
              "      <td>0</td>\n",
              "      <td>0</td>\n",
              "      <td>Check-Out</td>\n",
              "      <td>2015-07-01</td>\n",
              "      <td>2015-07-01</td>\n",
              "      <td>2</td>\n",
              "      <td>0</td>\n",
              "    </tr>\n",
              "    <tr>\n",
              "      <th>1</th>\n",
              "      <td>0</td>\n",
              "      <td>0</td>\n",
              "      <td>2</td>\n",
              "      <td>0</td>\n",
              "      <td>0</td>\n",
              "      <td>BB</td>\n",
              "      <td>PRT</td>\n",
              "      <td>Direct</td>\n",
              "      <td>0</td>\n",
              "      <td>0</td>\n",
              "      <td>...</td>\n",
              "      <td>0</td>\n",
              "      <td>Transient</td>\n",
              "      <td>0.00</td>\n",
              "      <td>0</td>\n",
              "      <td>0</td>\n",
              "      <td>Check-Out</td>\n",
              "      <td>2015-07-01</td>\n",
              "      <td>2015-07-01</td>\n",
              "      <td>2</td>\n",
              "      <td>0</td>\n",
              "    </tr>\n",
              "    <tr>\n",
              "      <th>2</th>\n",
              "      <td>0</td>\n",
              "      <td>1</td>\n",
              "      <td>1</td>\n",
              "      <td>0</td>\n",
              "      <td>0</td>\n",
              "      <td>BB</td>\n",
              "      <td>GBR</td>\n",
              "      <td>Direct</td>\n",
              "      <td>0</td>\n",
              "      <td>0</td>\n",
              "      <td>...</td>\n",
              "      <td>0</td>\n",
              "      <td>Transient</td>\n",
              "      <td>75.00</td>\n",
              "      <td>0</td>\n",
              "      <td>0</td>\n",
              "      <td>Check-Out</td>\n",
              "      <td>2015-07-02</td>\n",
              "      <td>2015-07-01</td>\n",
              "      <td>1</td>\n",
              "      <td>1</td>\n",
              "    </tr>\n",
              "    <tr>\n",
              "      <th>3</th>\n",
              "      <td>0</td>\n",
              "      <td>1</td>\n",
              "      <td>1</td>\n",
              "      <td>0</td>\n",
              "      <td>0</td>\n",
              "      <td>BB</td>\n",
              "      <td>GBR</td>\n",
              "      <td>Corporate</td>\n",
              "      <td>0</td>\n",
              "      <td>0</td>\n",
              "      <td>...</td>\n",
              "      <td>0</td>\n",
              "      <td>Transient</td>\n",
              "      <td>75.00</td>\n",
              "      <td>0</td>\n",
              "      <td>0</td>\n",
              "      <td>Check-Out</td>\n",
              "      <td>2015-07-02</td>\n",
              "      <td>2015-07-01</td>\n",
              "      <td>1</td>\n",
              "      <td>1</td>\n",
              "    </tr>\n",
              "    <tr>\n",
              "      <th>4</th>\n",
              "      <td>0</td>\n",
              "      <td>2</td>\n",
              "      <td>2</td>\n",
              "      <td>0</td>\n",
              "      <td>0</td>\n",
              "      <td>BB</td>\n",
              "      <td>GBR</td>\n",
              "      <td>TA/TO</td>\n",
              "      <td>0</td>\n",
              "      <td>0</td>\n",
              "      <td>...</td>\n",
              "      <td>0</td>\n",
              "      <td>Transient</td>\n",
              "      <td>98.00</td>\n",
              "      <td>0</td>\n",
              "      <td>1</td>\n",
              "      <td>Check-Out</td>\n",
              "      <td>2015-07-03</td>\n",
              "      <td>2015-07-01</td>\n",
              "      <td>2</td>\n",
              "      <td>2</td>\n",
              "    </tr>\n",
              "    <tr>\n",
              "      <th>6</th>\n",
              "      <td>0</td>\n",
              "      <td>2</td>\n",
              "      <td>2</td>\n",
              "      <td>0</td>\n",
              "      <td>0</td>\n",
              "      <td>BB</td>\n",
              "      <td>PRT</td>\n",
              "      <td>Direct</td>\n",
              "      <td>0</td>\n",
              "      <td>0</td>\n",
              "      <td>...</td>\n",
              "      <td>0</td>\n",
              "      <td>Transient</td>\n",
              "      <td>107.00</td>\n",
              "      <td>0</td>\n",
              "      <td>0</td>\n",
              "      <td>Check-Out</td>\n",
              "      <td>2015-07-03</td>\n",
              "      <td>2015-07-01</td>\n",
              "      <td>2</td>\n",
              "      <td>2</td>\n",
              "    </tr>\n",
              "    <tr>\n",
              "      <th>7</th>\n",
              "      <td>0</td>\n",
              "      <td>2</td>\n",
              "      <td>2</td>\n",
              "      <td>0</td>\n",
              "      <td>0</td>\n",
              "      <td>FB</td>\n",
              "      <td>PRT</td>\n",
              "      <td>Direct</td>\n",
              "      <td>0</td>\n",
              "      <td>0</td>\n",
              "      <td>...</td>\n",
              "      <td>0</td>\n",
              "      <td>Transient</td>\n",
              "      <td>103.00</td>\n",
              "      <td>0</td>\n",
              "      <td>1</td>\n",
              "      <td>Check-Out</td>\n",
              "      <td>2015-07-03</td>\n",
              "      <td>2015-07-01</td>\n",
              "      <td>2</td>\n",
              "      <td>2</td>\n",
              "    </tr>\n",
              "    <tr>\n",
              "      <th>8</th>\n",
              "      <td>0</td>\n",
              "      <td>3</td>\n",
              "      <td>2</td>\n",
              "      <td>0</td>\n",
              "      <td>0</td>\n",
              "      <td>BB</td>\n",
              "      <td>PRT</td>\n",
              "      <td>TA/TO</td>\n",
              "      <td>0</td>\n",
              "      <td>0</td>\n",
              "      <td>...</td>\n",
              "      <td>0</td>\n",
              "      <td>Transient</td>\n",
              "      <td>82.00</td>\n",
              "      <td>0</td>\n",
              "      <td>1</td>\n",
              "      <td>Canceled</td>\n",
              "      <td>2015-05-06</td>\n",
              "      <td>2015-07-01</td>\n",
              "      <td>2</td>\n",
              "      <td>3</td>\n",
              "    </tr>\n",
              "    <tr>\n",
              "      <th>9</th>\n",
              "      <td>0</td>\n",
              "      <td>3</td>\n",
              "      <td>2</td>\n",
              "      <td>0</td>\n",
              "      <td>0</td>\n",
              "      <td>HB</td>\n",
              "      <td>PRT</td>\n",
              "      <td>TA/TO</td>\n",
              "      <td>0</td>\n",
              "      <td>0</td>\n",
              "      <td>...</td>\n",
              "      <td>0</td>\n",
              "      <td>Transient</td>\n",
              "      <td>105.50</td>\n",
              "      <td>0</td>\n",
              "      <td>0</td>\n",
              "      <td>Canceled</td>\n",
              "      <td>2015-04-22</td>\n",
              "      <td>2015-07-01</td>\n",
              "      <td>2</td>\n",
              "      <td>3</td>\n",
              "    </tr>\n",
              "    <tr>\n",
              "      <th>10</th>\n",
              "      <td>0</td>\n",
              "      <td>4</td>\n",
              "      <td>2</td>\n",
              "      <td>0</td>\n",
              "      <td>0</td>\n",
              "      <td>BB</td>\n",
              "      <td>PRT</td>\n",
              "      <td>TA/TO</td>\n",
              "      <td>0</td>\n",
              "      <td>0</td>\n",
              "      <td>...</td>\n",
              "      <td>0</td>\n",
              "      <td>Transient</td>\n",
              "      <td>123.00</td>\n",
              "      <td>0</td>\n",
              "      <td>0</td>\n",
              "      <td>Canceled</td>\n",
              "      <td>2015-06-23</td>\n",
              "      <td>2015-07-01</td>\n",
              "      <td>2</td>\n",
              "      <td>4</td>\n",
              "    </tr>\n",
              "    <tr>\n",
              "      <th>11</th>\n",
              "      <td>0</td>\n",
              "      <td>4</td>\n",
              "      <td>2</td>\n",
              "      <td>0</td>\n",
              "      <td>0</td>\n",
              "      <td>HB</td>\n",
              "      <td>PRT</td>\n",
              "      <td>TA/TO</td>\n",
              "      <td>0</td>\n",
              "      <td>0</td>\n",
              "      <td>...</td>\n",
              "      <td>0</td>\n",
              "      <td>Transient</td>\n",
              "      <td>145.00</td>\n",
              "      <td>0</td>\n",
              "      <td>0</td>\n",
              "      <td>Check-Out</td>\n",
              "      <td>2015-07-05</td>\n",
              "      <td>2015-07-01</td>\n",
              "      <td>2</td>\n",
              "      <td>4</td>\n",
              "    </tr>\n",
              "    <tr>\n",
              "      <th>12</th>\n",
              "      <td>0</td>\n",
              "      <td>4</td>\n",
              "      <td>2</td>\n",
              "      <td>0</td>\n",
              "      <td>0</td>\n",
              "      <td>BB</td>\n",
              "      <td>USA</td>\n",
              "      <td>TA/TO</td>\n",
              "      <td>0</td>\n",
              "      <td>0</td>\n",
              "      <td>...</td>\n",
              "      <td>0</td>\n",
              "      <td>Transient</td>\n",
              "      <td>97.00</td>\n",
              "      <td>0</td>\n",
              "      <td>3</td>\n",
              "      <td>Check-Out</td>\n",
              "      <td>2015-07-05</td>\n",
              "      <td>2015-07-01</td>\n",
              "      <td>2</td>\n",
              "      <td>4</td>\n",
              "    </tr>\n",
              "    <tr>\n",
              "      <th>13</th>\n",
              "      <td>0</td>\n",
              "      <td>4</td>\n",
              "      <td>2</td>\n",
              "      <td>1</td>\n",
              "      <td>0</td>\n",
              "      <td>HB</td>\n",
              "      <td>ESP</td>\n",
              "      <td>TA/TO</td>\n",
              "      <td>0</td>\n",
              "      <td>0</td>\n",
              "      <td>...</td>\n",
              "      <td>0</td>\n",
              "      <td>Transient</td>\n",
              "      <td>154.77</td>\n",
              "      <td>0</td>\n",
              "      <td>1</td>\n",
              "      <td>Check-Out</td>\n",
              "      <td>2015-07-05</td>\n",
              "      <td>2015-07-01</td>\n",
              "      <td>3</td>\n",
              "      <td>4</td>\n",
              "    </tr>\n",
              "    <tr>\n",
              "      <th>14</th>\n",
              "      <td>0</td>\n",
              "      <td>4</td>\n",
              "      <td>2</td>\n",
              "      <td>0</td>\n",
              "      <td>0</td>\n",
              "      <td>BB</td>\n",
              "      <td>PRT</td>\n",
              "      <td>TA/TO</td>\n",
              "      <td>0</td>\n",
              "      <td>0</td>\n",
              "      <td>...</td>\n",
              "      <td>0</td>\n",
              "      <td>Transient</td>\n",
              "      <td>94.71</td>\n",
              "      <td>0</td>\n",
              "      <td>0</td>\n",
              "      <td>Check-Out</td>\n",
              "      <td>2015-07-05</td>\n",
              "      <td>2015-07-01</td>\n",
              "      <td>2</td>\n",
              "      <td>4</td>\n",
              "    </tr>\n",
              "    <tr>\n",
              "      <th>15</th>\n",
              "      <td>0</td>\n",
              "      <td>4</td>\n",
              "      <td>2</td>\n",
              "      <td>0</td>\n",
              "      <td>0</td>\n",
              "      <td>BB</td>\n",
              "      <td>IRL</td>\n",
              "      <td>TA/TO</td>\n",
              "      <td>0</td>\n",
              "      <td>0</td>\n",
              "      <td>...</td>\n",
              "      <td>0</td>\n",
              "      <td>Transient</td>\n",
              "      <td>97.00</td>\n",
              "      <td>0</td>\n",
              "      <td>3</td>\n",
              "      <td>Check-Out</td>\n",
              "      <td>2015-07-05</td>\n",
              "      <td>2015-07-01</td>\n",
              "      <td>2</td>\n",
              "      <td>4</td>\n",
              "    </tr>\n",
              "    <tr>\n",
              "      <th>16</th>\n",
              "      <td>0</td>\n",
              "      <td>4</td>\n",
              "      <td>2</td>\n",
              "      <td>0</td>\n",
              "      <td>0</td>\n",
              "      <td>BB</td>\n",
              "      <td>PRT</td>\n",
              "      <td>TA/TO</td>\n",
              "      <td>0</td>\n",
              "      <td>0</td>\n",
              "      <td>...</td>\n",
              "      <td>0</td>\n",
              "      <td>Contract</td>\n",
              "      <td>97.50</td>\n",
              "      <td>0</td>\n",
              "      <td>0</td>\n",
              "      <td>Check-Out</td>\n",
              "      <td>2015-07-05</td>\n",
              "      <td>2015-07-01</td>\n",
              "      <td>2</td>\n",
              "      <td>4</td>\n",
              "    </tr>\n",
              "    <tr>\n",
              "      <th>17</th>\n",
              "      <td>0</td>\n",
              "      <td>1</td>\n",
              "      <td>2</td>\n",
              "      <td>0</td>\n",
              "      <td>0</td>\n",
              "      <td>BB</td>\n",
              "      <td>IRL</td>\n",
              "      <td>TA/TO</td>\n",
              "      <td>0</td>\n",
              "      <td>0</td>\n",
              "      <td>...</td>\n",
              "      <td>0</td>\n",
              "      <td>Transient</td>\n",
              "      <td>88.20</td>\n",
              "      <td>0</td>\n",
              "      <td>0</td>\n",
              "      <td>Check-Out</td>\n",
              "      <td>2015-07-02</td>\n",
              "      <td>2015-07-01</td>\n",
              "      <td>2</td>\n",
              "      <td>1</td>\n",
              "    </tr>\n",
              "    <tr>\n",
              "      <th>18</th>\n",
              "      <td>0</td>\n",
              "      <td>1</td>\n",
              "      <td>2</td>\n",
              "      <td>0</td>\n",
              "      <td>0</td>\n",
              "      <td>BB</td>\n",
              "      <td>FRA</td>\n",
              "      <td>Corporate</td>\n",
              "      <td>0</td>\n",
              "      <td>0</td>\n",
              "      <td>...</td>\n",
              "      <td>0</td>\n",
              "      <td>Transient</td>\n",
              "      <td>107.42</td>\n",
              "      <td>0</td>\n",
              "      <td>0</td>\n",
              "      <td>Check-Out</td>\n",
              "      <td>2015-07-02</td>\n",
              "      <td>2015-07-01</td>\n",
              "      <td>2</td>\n",
              "      <td>1</td>\n",
              "    </tr>\n",
              "    <tr>\n",
              "      <th>19</th>\n",
              "      <td>0</td>\n",
              "      <td>4</td>\n",
              "      <td>2</td>\n",
              "      <td>0</td>\n",
              "      <td>0</td>\n",
              "      <td>BB</td>\n",
              "      <td>GBR</td>\n",
              "      <td>Direct</td>\n",
              "      <td>0</td>\n",
              "      <td>0</td>\n",
              "      <td>...</td>\n",
              "      <td>0</td>\n",
              "      <td>Transient</td>\n",
              "      <td>153.00</td>\n",
              "      <td>0</td>\n",
              "      <td>1</td>\n",
              "      <td>Check-Out</td>\n",
              "      <td>2015-07-05</td>\n",
              "      <td>2015-07-01</td>\n",
              "      <td>2</td>\n",
              "      <td>4</td>\n",
              "    </tr>\n",
              "    <tr>\n",
              "      <th>20</th>\n",
              "      <td>1</td>\n",
              "      <td>4</td>\n",
              "      <td>1</td>\n",
              "      <td>0</td>\n",
              "      <td>0</td>\n",
              "      <td>BB</td>\n",
              "      <td>GBR</td>\n",
              "      <td>TA/TO</td>\n",
              "      <td>0</td>\n",
              "      <td>0</td>\n",
              "      <td>...</td>\n",
              "      <td>0</td>\n",
              "      <td>Transient</td>\n",
              "      <td>97.29</td>\n",
              "      <td>0</td>\n",
              "      <td>1</td>\n",
              "      <td>Check-Out</td>\n",
              "      <td>2015-07-06</td>\n",
              "      <td>2015-07-01</td>\n",
              "      <td>1</td>\n",
              "      <td>5</td>\n",
              "    </tr>\n",
              "  </tbody>\n",
              "</table>\n",
              "<p>20 rows × 26 columns</p>\n",
              "</div>\n",
              "      <button class=\"colab-df-convert\" onclick=\"convertToInteractive('df-ef8f8677-703f-4768-8511-23c3b67c5b05')\"\n",
              "              title=\"Convert this dataframe to an interactive table.\"\n",
              "              style=\"display:none;\">\n",
              "        \n",
              "  <svg xmlns=\"http://www.w3.org/2000/svg\" height=\"24px\"viewBox=\"0 0 24 24\"\n",
              "       width=\"24px\">\n",
              "    <path d=\"M0 0h24v24H0V0z\" fill=\"none\"/>\n",
              "    <path d=\"M18.56 5.44l.94 2.06.94-2.06 2.06-.94-2.06-.94-.94-2.06-.94 2.06-2.06.94zm-11 1L8.5 8.5l.94-2.06 2.06-.94-2.06-.94L8.5 2.5l-.94 2.06-2.06.94zm10 10l.94 2.06.94-2.06 2.06-.94-2.06-.94-.94-2.06-.94 2.06-2.06.94z\"/><path d=\"M17.41 7.96l-1.37-1.37c-.4-.4-.92-.59-1.43-.59-.52 0-1.04.2-1.43.59L10.3 9.45l-7.72 7.72c-.78.78-.78 2.05 0 2.83L4 21.41c.39.39.9.59 1.41.59.51 0 1.02-.2 1.41-.59l7.78-7.78 2.81-2.81c.8-.78.8-2.07 0-2.86zM5.41 20L4 18.59l7.72-7.72 1.47 1.35L5.41 20z\"/>\n",
              "  </svg>\n",
              "      </button>\n",
              "      \n",
              "  <style>\n",
              "    .colab-df-container {\n",
              "      display:flex;\n",
              "      flex-wrap:wrap;\n",
              "      gap: 12px;\n",
              "    }\n",
              "\n",
              "    .colab-df-convert {\n",
              "      background-color: #E8F0FE;\n",
              "      border: none;\n",
              "      border-radius: 50%;\n",
              "      cursor: pointer;\n",
              "      display: none;\n",
              "      fill: #1967D2;\n",
              "      height: 32px;\n",
              "      padding: 0 0 0 0;\n",
              "      width: 32px;\n",
              "    }\n",
              "\n",
              "    .colab-df-convert:hover {\n",
              "      background-color: #E2EBFA;\n",
              "      box-shadow: 0px 1px 2px rgba(60, 64, 67, 0.3), 0px 1px 3px 1px rgba(60, 64, 67, 0.15);\n",
              "      fill: #174EA6;\n",
              "    }\n",
              "\n",
              "    [theme=dark] .colab-df-convert {\n",
              "      background-color: #3B4455;\n",
              "      fill: #D2E3FC;\n",
              "    }\n",
              "\n",
              "    [theme=dark] .colab-df-convert:hover {\n",
              "      background-color: #434B5C;\n",
              "      box-shadow: 0px 1px 3px 1px rgba(0, 0, 0, 0.15);\n",
              "      filter: drop-shadow(0px 1px 2px rgba(0, 0, 0, 0.3));\n",
              "      fill: #FFFFFF;\n",
              "    }\n",
              "  </style>\n",
              "\n",
              "      <script>\n",
              "        const buttonEl =\n",
              "          document.querySelector('#df-ef8f8677-703f-4768-8511-23c3b67c5b05 button.colab-df-convert');\n",
              "        buttonEl.style.display =\n",
              "          google.colab.kernel.accessAllowed ? 'block' : 'none';\n",
              "\n",
              "        async function convertToInteractive(key) {\n",
              "          const element = document.querySelector('#df-ef8f8677-703f-4768-8511-23c3b67c5b05');\n",
              "          const dataTable =\n",
              "            await google.colab.kernel.invokeFunction('convertToInteractive',\n",
              "                                                     [key], {});\n",
              "          if (!dataTable) return;\n",
              "\n",
              "          const docLinkHtml = 'Like what you see? Visit the ' +\n",
              "            '<a target=\"_blank\" href=https://colab.research.google.com/notebooks/data_table.ipynb>data table notebook</a>'\n",
              "            + ' to learn more about interactive tables.';\n",
              "          element.innerHTML = '';\n",
              "          dataTable['output_type'] = 'display_data';\n",
              "          await google.colab.output.renderOutput(dataTable, element);\n",
              "          const docLink = document.createElement('div');\n",
              "          docLink.innerHTML = docLinkHtml;\n",
              "          element.appendChild(docLink);\n",
              "        }\n",
              "      </script>\n",
              "    </div>\n",
              "  </div>\n",
              "  "
            ]
          },
          "metadata": {},
          "execution_count": 322
        }
      ]
    },
    {
      "cell_type": "markdown",
      "source": [
        "#Exploratary Data Analysis\n",
        "lets find the correlation between column then we will perform eda"
      ],
      "metadata": {
        "id": "fBm9nYlIqeUq"
      }
    },
    {
      "cell_type": "code",
      "source": [
        "hdf1=hdf.corr()"
      ],
      "metadata": {
        "id": "K7wUKCf_tVQD"
      },
      "execution_count": 323,
      "outputs": []
    },
    {
      "cell_type": "code",
      "source": [
        "plt.subplots(figsize=(20, 15))\n",
        "sns.heatmap(hdf1,annot = True,fmt='.2f', annot_kws={'size': 10},  vmax=.8, square=True);"
      ],
      "metadata": {
        "colab": {
          "base_uri": "https://localhost:8080/",
          "height": 1000
        },
        "id": "dvfm41zzec8c",
        "outputId": "e45a98af-6d75-4a61-a456-a3227be1272e"
      },
      "execution_count": 324,
      "outputs": [
        {
          "output_type": "display_data",
          "data": {
            "text/plain": [
              "<Figure size 1440x1080 with 2 Axes>"
            ],
            "image/png": "[encoded data removed]"
          },
          "metadata": {
            "needs_background": "light"
          }
        }
      ]
    },
    {
      "cell_type": "markdown",
      "source": [
        "# filtering columns which are require in data analysis"
      ],
      "metadata": {
        "id": "9DKBeG6np-e0"
      }
    },
    {
      "cell_type": "code",
      "source": [
        "df=hdf[['hotel','booking_cancel_status','lead_time','no_of_days_in_waiting_list','reserved_room_type','assigned_room_type',\n",
        "        'meal_type','arrival_date_year','arrival_date_month','arrival_month_year','country','distribution_channel',\n",
        "        'required_no_of_car_parking_space','no_of_adults','no_of_children','repeated_guest_status','no_of_babies',\n",
        "        'total_no_in_group','total_no_of_stays','total_no_of_special_requests','customer_type']]"
      ],
      "metadata": {
        "id": "rFJyetdxCslm"
      },
      "execution_count": 325,
      "outputs": []
    },
    {
      "cell_type": "code",
      "source": [
        "df.head()"
      ],
      "metadata": {
        "colab": {
          "base_uri": "https://localhost:8080/",
          "height": 386
        },
        "id": "CNLzfLu8C9IR",
        "outputId": "33d70795-0e03-4a6d-9e51-7d643376d059"
      },
      "execution_count": 326,
      "outputs": [
        {
          "output_type": "execute_result",
          "data": {
            "text/plain": [
              "          hotel  booking_cancel_status  lead_time  no_of_days_in_waiting_list  \\\n",
              "0  Resort Hotel                      0        342                           0   \n",
              "1  Resort Hotel                      0        737                           0   \n",
              "2  Resort Hotel                      0          7                           0   \n",
              "3  Resort Hotel                      0         13                           0   \n",
              "4  Resort Hotel                      0         14                           0   \n",
              "\n",
              "  reserved_room_type assigned_room_type meal_type  arrival_date_year  \\\n",
              "0                  C                  C        BB               2015   \n",
              "1                  C                  C        BB               2015   \n",
              "2                  A                  C        BB               2015   \n",
              "3                  A                  A        BB               2015   \n",
              "4                  A                  A        BB               2015   \n",
              "\n",
              "  arrival_date_month arrival_month_year  ... distribution_channel  \\\n",
              "0               July         2015-07-01  ...               Direct   \n",
              "1               July         2015-07-01  ...               Direct   \n",
              "2               July         2015-07-01  ...               Direct   \n",
              "3               July         2015-07-01  ...            Corporate   \n",
              "4               July         2015-07-01  ...                TA/TO   \n",
              "\n",
              "  required_no_of_car_parking_space  no_of_adults  no_of_children  \\\n",
              "0                                0             2               0   \n",
              "1                                0             2               0   \n",
              "2                                0             1               0   \n",
              "3                                0             1               0   \n",
              "4                                0             2               0   \n",
              "\n",
              "   repeated_guest_status  no_of_babies  total_no_in_group  total_no_of_stays  \\\n",
              "0                      0             0                  2                  0   \n",
              "1                      0             0                  2                  0   \n",
              "2                      0             0                  1                  1   \n",
              "3                      0             0                  1                  1   \n",
              "4                      0             0                  2                  2   \n",
              "\n",
              "   total_no_of_special_requests  customer_type  \n",
              "0                             0      Transient  \n",
              "1                             0      Transient  \n",
              "2                             0      Transient  \n",
              "3                             0      Transient  \n",
              "4                             1      Transient  \n",
              "\n",
              "[5 rows x 21 columns]"
            ],
            "text/html": [
              "\n",
              "  <div id=\"df-ad0949a8-8636-40ce-bb47-8a79c57a2cca\">\n",
              "    <div class=\"colab-df-container\">\n",
              "      <div>\n",
              "<style scoped>\n",
              "    .dataframe tbody tr th:only-of-type {\n",
              "        vertical-align: middle;\n",
              "    }\n",
              "\n",
              "    .dataframe tbody tr th {\n",
              "        vertical-align: top;\n",
              "    }\n",
              "\n",
              "    .dataframe thead th {\n",
              "        text-align: right;\n",
              "    }\n",
              "</style>\n",
              "<table border=\"1\" class=\"dataframe\">\n",
              "  <thead>\n",
              "    <tr style=\"text-align: right;\">\n",
              "      <th></th>\n",
              "      <th>hotel</th>\n",
              "      <th>booking_cancel_status</th>\n",
              "      <th>lead_time</th>\n",
              "      <th>no_of_days_in_waiting_list</th>\n",
              "      <th>reserved_room_type</th>\n",
              "      <th>assigned_room_type</th>\n",
              "      <th>meal_type</th>\n",
              "      <th>arrival_date_year</th>\n",
              "      <th>arrival_date_month</th>\n",
              "      <th>arrival_month_year</th>\n",
              "      <th>...</th>\n",
              "      <th>distribution_channel</th>\n",
              "      <th>required_no_of_car_parking_space</th>\n",
              "      <th>no_of_adults</th>\n",
              "      <th>no_of_children</th>\n",
              "      <th>repeated_guest_status</th>\n",
              "      <th>no_of_babies</th>\n",
              "      <th>total_no_in_group</th>\n",
              "      <th>total_no_of_stays</th>\n",
              "      <th>total_no_of_special_requests</th>\n",
              "      <th>customer_type</th>\n",
              "    </tr>\n",
              "  </thead>\n",
              "  <tbody>\n",
              "    <tr>\n",
              "      <th>0</th>\n",
              "      <td>Resort Hotel</td>\n",
              "      <td>0</td>\n",
              "      <td>342</td>\n",
              "      <td>0</td>\n",
              "      <td>C</td>\n",
              "      <td>C</td>\n",
              "      <td>BB</td>\n",
              "      <td>2015</td>\n",
              "      <td>July</td>\n",
              "      <td>2015-07-01</td>\n",
              "      <td>...</td>\n",
              "      <td>Direct</td>\n",
              "      <td>0</td>\n",
              "      <td>2</td>\n",
              "      <td>0</td>\n",
              "      <td>0</td>\n",
              "      <td>0</td>\n",
              "      <td>2</td>\n",
              "      <td>0</td>\n",
              "      <td>0</td>\n",
              "      <td>Transient</td>\n",
              "    </tr>\n",
              "    <tr>\n",
              "      <th>1</th>\n",
              "      <td>Resort Hotel</td>\n",
              "      <td>0</td>\n",
              "      <td>737</td>\n",
              "      <td>0</td>\n",
              "      <td>C</td>\n",
              "      <td>C</td>\n",
              "      <td>BB</td>\n",
              "      <td>2015</td>\n",
              "      <td>July</td>\n",
              "      <td>2015-07-01</td>\n",
              "      <td>...</td>\n",
              "      <td>Direct</td>\n",
              "      <td>0</td>\n",
              "      <td>2</td>\n",
              "      <td>0</td>\n",
              "      <td>0</td>\n",
              "      <td>0</td>\n",
              "      <td>2</td>\n",
              "      <td>0</td>\n",
              "      <td>0</td>\n",
              "      <td>Transient</td>\n",
              "    </tr>\n",
              "    <tr>\n",
              "      <th>2</th>\n",
              "      <td>Resort Hotel</td>\n",
              "      <td>0</td>\n",
              "      <td>7</td>\n",
              "      <td>0</td>\n",
              "      <td>A</td>\n",
              "      <td>C</td>\n",
              "      <td>BB</td>\n",
              "      <td>2015</td>\n",
              "      <td>July</td>\n",
              "      <td>2015-07-01</td>\n",
              "      <td>...</td>\n",
              "      <td>Direct</td>\n",
              "      <td>0</td>\n",
              "      <td>1</td>\n",
              "      <td>0</td>\n",
              "      <td>0</td>\n",
              "      <td>0</td>\n",
              "      <td>1</td>\n",
              "      <td>1</td>\n",
              "      <td>0</td>\n",
              "      <td>Transient</td>\n",
              "    </tr>\n",
              "    <tr>\n",
              "      <th>3</th>\n",
              "      <td>Resort Hotel</td>\n",
              "      <td>0</td>\n",
              "      <td>13</td>\n",
              "      <td>0</td>\n",
              "      <td>A</td>\n",
              "      <td>A</td>\n",
              "      <td>BB</td>\n",
              "      <td>2015</td>\n",
              "      <td>July</td>\n",
              "      <td>2015-07-01</td>\n",
              "      <td>...</td>\n",
              "      <td>Corporate</td>\n",
              "      <td>0</td>\n",
              "      <td>1</td>\n",
              "      <td>0</td>\n",
              "      <td>0</td>\n",
              "      <td>0</td>\n",
              "      <td>1</td>\n",
              "      <td>1</td>\n",
              "      <td>0</td>\n",
              "      <td>Transient</td>\n",
              "    </tr>\n",
              "    <tr>\n",
              "      <th>4</th>\n",
              "      <td>Resort Hotel</td>\n",
              "      <td>0</td>\n",
              "      <td>14</td>\n",
              "      <td>0</td>\n",
              "      <td>A</td>\n",
              "      <td>A</td>\n",
              "      <td>BB</td>\n",
              "      <td>2015</td>\n",
              "      <td>July</td>\n",
              "      <td>2015-07-01</td>\n",
              "      <td>...</td>\n",
              "      <td>TA/TO</td>\n",
              "      <td>0</td>\n",
              "      <td>2</td>\n",
              "      <td>0</td>\n",
              "      <td>0</td>\n",
              "      <td>0</td>\n",
              "      <td>2</td>\n",
              "      <td>2</td>\n",
              "      <td>1</td>\n",
              "      <td>Transient</td>\n",
              "    </tr>\n",
              "  </tbody>\n",
              "</table>\n",
              "<p>5 rows × 21 columns</p>\n",
              "</div>\n",
              "      <button class=\"colab-df-convert\" onclick=\"convertToInteractive('df-ad0949a8-8636-40ce-bb47-8a79c57a2cca')\"\n",
              "              title=\"Convert this dataframe to an interactive table.\"\n",
              "              style=\"display:none;\">\n",
              "        \n",
              "  <svg xmlns=\"http://www.w3.org/2000/svg\" height=\"24px\"viewBox=\"0 0 24 24\"\n",
              "       width=\"24px\">\n",
              "    <path d=\"M0 0h24v24H0V0z\" fill=\"none\"/>\n",
              "    <path d=\"M18.56 5.44l.94 2.06.94-2.06 2.06-.94-2.06-.94-.94-2.06-.94 2.06-2.06.94zm-11 1L8.5 8.5l.94-2.06 2.06-.94-2.06-.94L8.5 2.5l-.94 2.06-2.06.94zm10 10l.94 2.06.94-2.06 2.06-.94-2.06-.94-.94-2.06-.94 2.06-2.06.94z\"/><path d=\"M17.41 7.96l-1.37-1.37c-.4-.4-.92-.59-1.43-.59-.52 0-1.04.2-1.43.59L10.3 9.45l-7.72 7.72c-.78.78-.78 2.05 0 2.83L4 21.41c.39.39.9.59 1.41.59.51 0 1.02-.2 1.41-.59l7.78-7.78 2.81-2.81c.8-.78.8-2.07 0-2.86zM5.41 20L4 18.59l7.72-7.72 1.47 1.35L5.41 20z\"/>\n",
              "  </svg>\n",
              "      </button>\n",
              "      \n",
              "  <style>\n",
              "    .colab-df-container {\n",
              "      display:flex;\n",
              "      flex-wrap:wrap;\n",
              "      gap: 12px;\n",
              "    }\n",
              "\n",
              "    .colab-df-convert {\n",
              "      background-color: #E8F0FE;\n",
              "      border: none;\n",
              "      border-radius: 50%;\n",
              "      cursor: pointer;\n",
              "      display: none;\n",
              "      fill: #1967D2;\n",
              "      height: 32px;\n",
              "      padding: 0 0 0 0;\n",
              "      width: 32px;\n",
              "    }\n",
              "\n",
              "    .colab-df-convert:hover {\n",
              "      background-color: #E2EBFA;\n",
              "      box-shadow: 0px 1px 2px rgba(60, 64, 67, 0.3), 0px 1px 3px 1px rgba(60, 64, 67, 0.15);\n",
              "      fill: #174EA6;\n",
              "    }\n",
              "\n",
              "    [theme=dark] .colab-df-convert {\n",
              "      background-color: #3B4455;\n",
              "      fill: #D2E3FC;\n",
              "    }\n",
              "\n",
              "    [theme=dark] .colab-df-convert:hover {\n",
              "      background-color: #434B5C;\n",
              "      box-shadow: 0px 1px 3px 1px rgba(0, 0, 0, 0.15);\n",
              "      filter: drop-shadow(0px 1px 2px rgba(0, 0, 0, 0.3));\n",
              "      fill: #FFFFFF;\n",
              "    }\n",
              "  </style>\n",
              "\n",
              "      <script>\n",
              "        const buttonEl =\n",
              "          document.querySelector('#df-ad0949a8-8636-40ce-bb47-8a79c57a2cca button.colab-df-convert');\n",
              "        buttonEl.style.display =\n",
              "          google.colab.kernel.accessAllowed ? 'block' : 'none';\n",
              "\n",
              "        async function convertToInteractive(key) {\n",
              "          const element = document.querySelector('#df-ad0949a8-8636-40ce-bb47-8a79c57a2cca');\n",
              "          const dataTable =\n",
              "            await google.colab.kernel.invokeFunction('convertToInteractive',\n",
              "                                                     [key], {});\n",
              "          if (!dataTable) return;\n",
              "\n",
              "          const docLinkHtml = 'Like what you see? Visit the ' +\n",
              "            '<a target=\"_blank\" href=https://colab.research.google.com/notebooks/data_table.ipynb>data table notebook</a>'\n",
              "            + ' to learn more about interactive tables.';\n",
              "          element.innerHTML = '';\n",
              "          dataTable['output_type'] = 'display_data';\n",
              "          await google.colab.output.renderOutput(dataTable, element);\n",
              "          const docLink = document.createElement('div');\n",
              "          docLink.innerHTML = docLinkHtml;\n",
              "          element.appendChild(docLink);\n",
              "        }\n",
              "      </script>\n",
              "    </div>\n",
              "  </div>\n",
              "  "
            ]
          },
          "metadata": {},
          "execution_count": 326
        }
      ]
    },
    {
      "cell_type": "markdown",
      "source": [
        "#Analysis on the Basis of columns\n",
        "1. Analysis on the basis of hotel\n",
        "2. Analysis on the basis of cancellation\n",
        "3. Analysis on the basis of distribution channel\n",
        "4. Analysis on the basis of deposit type\n",
        "5. Analysis on the basis of meal type\n",
        "6. Analysis on the basis of room type\n",
        "7. Analysis on the basis of country\n"
      ],
      "metadata": {
        "id": "l1oRorBzDDzv"
      }
    },
    {
      "cell_type": "markdown",
      "source": [
        "#1. Analysis on the basis of Hotel\n",
        "\n",
        "1.   What is the percentage of booking in each hotel?*\n",
        "2.   which hotel has a higher booking cancellation rate?\n",
        "3.   What is average stay in a hotel prefered by groups?=\n",
        "4.   How long do people prefer to stay in both hotels?=\n",
        "5.   Which hotel require more car parking spaces?\n",
        "6.   Which hotel generates the most revenue and why?\n",
        "7.   Which hotel type prefered the most?*\n",
        "8.   Which are the busiest months for hotel?\n",
        "9.   What is the chances of cutomer retention for hotels?\n",
        "\n"
      ],
      "metadata": {
        "id": "giCSD2QyCX8l"
      }
    },
    {
      "cell_type": "code",
      "source": [
        "dist_cancel=df[df['booking_cancel_status']==0]\n",
        "plt.figure(figsize=(12,8))\n",
        "plt.xlabel('Distribution_channel',fontsize=18)\n",
        "plt.ylabel('count',fontsize=18)\n",
        "plt.title('Booking cancelled by groups on distribution channel',fontsize=18)\n",
        "sns.countplot(dist_cancel['distribution_channel'])"
      ],
      "metadata": {
        "colab": {
          "base_uri": "https://localhost:8080/",
          "height": 637
        },
        "id": "dIa2kTxrctLW",
        "outputId": "07d74028-4590-44ae-ba28-dfb51817f906"
      },
      "execution_count": 327,
      "outputs": [
        {
          "output_type": "stream",
          "name": "stderr",
          "text": [
            "/usr/local/lib/python3.7/dist-packages/seaborn/_decorators.py:43: FutureWarning:\n",
            "\n",
            "Pass the following variable as a keyword arg: x. From version 0.12, the only valid positional argument will be `data`, and passing other arguments without an explicit keyword will result in an error or misinterpretation.\n",
            "\n"
          ]
        },
        {
          "output_type": "execute_result",
          "data": {
            "text/plain": [
              "<matplotlib.axes._subplots.AxesSubplot at 0x7f16e61a56d0>"
            ]
          },
          "metadata": {},
          "execution_count": 327
        },
        {
          "output_type": "display_data",
          "data": {
            "text/plain": [
              "<Figure size 864x576 with 1 Axes>"
            ],
            "image/png": "[encoded data removed]"
          },
          "metadata": {
            "needs_background": "light"
          }
        }
      ]
    },
    {
      "cell_type": "markdown",
      "source": [
        "Q1. What is the percentage of bookings in each hotel?"
      ],
      "metadata": {
        "id": "C2zm7eYWMSY6"
      }
    },
    {
      "cell_type": "code",
      "source": [
        "hotel_vc=pd.DataFrame(df['hotel'].value_counts())\n",
        "hotel_vc.index=['city_hotel','resort_hotel']\n",
        "hotel_vc.columns=['count']\n",
        "hotel_vc['percentage'] = (hotel_vc['count'])*100/(hotel_vc['count'].sum())\n",
        "hotel_vc\n"
      ],
      "metadata": {
        "colab": {
          "base_uri": "https://localhost:8080/",
          "height": 112
        },
        "id": "Nmq6bIxq6u6l",
        "outputId": "187188f1-bf59-4b36-f378-21a3c625ac73"
      },
      "execution_count": 328,
      "outputs": [
        {
          "output_type": "execute_result",
          "data": {
            "text/plain": [
              "              count  percentage\n",
              "city_hotel    53428   61.133233\n",
              "resort_hotel  33968   38.866767"
            ],
            "text/html": [
              "\n",
              "  <div id=\"df-fafbea51-9538-4eac-b850-3d913e39b38a\">\n",
              "    <div class=\"colab-df-container\">\n",
              "      <div>\n",
              "<style scoped>\n",
              "    .dataframe tbody tr th:only-of-type {\n",
              "        vertical-align: middle;\n",
              "    }\n",
              "\n",
              "    .dataframe tbody tr th {\n",
              "        vertical-align: top;\n",
              "    }\n",
              "\n",
              "    .dataframe thead th {\n",
              "        text-align: right;\n",
              "    }\n",
              "</style>\n",
              "<table border=\"1\" class=\"dataframe\">\n",
              "  <thead>\n",
              "    <tr style=\"text-align: right;\">\n",
              "      <th></th>\n",
              "      <th>count</th>\n",
              "      <th>percentage</th>\n",
              "    </tr>\n",
              "  </thead>\n",
              "  <tbody>\n",
              "    <tr>\n",
              "      <th>city_hotel</th>\n",
              "      <td>53428</td>\n",
              "      <td>61.133233</td>\n",
              "    </tr>\n",
              "    <tr>\n",
              "      <th>resort_hotel</th>\n",
              "      <td>33968</td>\n",
              "      <td>38.866767</td>\n",
              "    </tr>\n",
              "  </tbody>\n",
              "</table>\n",
              "</div>\n",
              "      <button class=\"colab-df-convert\" onclick=\"convertToInteractive('df-fafbea51-9538-4eac-b850-3d913e39b38a')\"\n",
              "              title=\"Convert this dataframe to an interactive table.\"\n",
              "              style=\"display:none;\">\n",
              "        \n",
              "  <svg xmlns=\"http://www.w3.org/2000/svg\" height=\"24px\"viewBox=\"0 0 24 24\"\n",
              "       width=\"24px\">\n",
              "    <path d=\"M0 0h24v24H0V0z\" fill=\"none\"/>\n",
              "    <path d=\"M18.56 5.44l.94 2.06.94-2.06 2.06-.94-2.06-.94-.94-2.06-.94 2.06-2.06.94zm-11 1L8.5 8.5l.94-2.06 2.06-.94-2.06-.94L8.5 2.5l-.94 2.06-2.06.94zm10 10l.94 2.06.94-2.06 2.06-.94-2.06-.94-.94-2.06-.94 2.06-2.06.94z\"/><path d=\"M17.41 7.96l-1.37-1.37c-.4-.4-.92-.59-1.43-.59-.52 0-1.04.2-1.43.59L10.3 9.45l-7.72 7.72c-.78.78-.78 2.05 0 2.83L4 21.41c.39.39.9.59 1.41.59.51 0 1.02-.2 1.41-.59l7.78-7.78 2.81-2.81c.8-.78.8-2.07 0-2.86zM5.41 20L4 18.59l7.72-7.72 1.47 1.35L5.41 20z\"/>\n",
              "  </svg>\n",
              "      </button>\n",
              "      \n",
              "  <style>\n",
              "    .colab-df-container {\n",
              "      display:flex;\n",
              "      flex-wrap:wrap;\n",
              "      gap: 12px;\n",
              "    }\n",
              "\n",
              "    .colab-df-convert {\n",
              "      background-color: #E8F0FE;\n",
              "      border: none;\n",
              "      border-radius: 50%;\n",
              "      cursor: pointer;\n",
              "      display: none;\n",
              "      fill: #1967D2;\n",
              "      height: 32px;\n",
              "      padding: 0 0 0 0;\n",
              "      width: 32px;\n",
              "    }\n",
              "\n",
              "    .colab-df-convert:hover {\n",
              "      background-color: #E2EBFA;\n",
              "      box-shadow: 0px 1px 2px rgba(60, 64, 67, 0.3), 0px 1px 3px 1px rgba(60, 64, 67, 0.15);\n",
              "      fill: #174EA6;\n",
              "    }\n",
              "\n",
              "    [theme=dark] .colab-df-convert {\n",
              "      background-color: #3B4455;\n",
              "      fill: #D2E3FC;\n",
              "    }\n",
              "\n",
              "    [theme=dark] .colab-df-convert:hover {\n",
              "      background-color: #434B5C;\n",
              "      box-shadow: 0px 1px 3px 1px rgba(0, 0, 0, 0.15);\n",
              "      filter: drop-shadow(0px 1px 2px rgba(0, 0, 0, 0.3));\n",
              "      fill: #FFFFFF;\n",
              "    }\n",
              "  </style>\n",
              "\n",
              "      <script>\n",
              "        const buttonEl =\n",
              "          document.querySelector('#df-fafbea51-9538-4eac-b850-3d913e39b38a button.colab-df-convert');\n",
              "        buttonEl.style.display =\n",
              "          google.colab.kernel.accessAllowed ? 'block' : 'none';\n",
              "\n",
              "        async function convertToInteractive(key) {\n",
              "          const element = document.querySelector('#df-fafbea51-9538-4eac-b850-3d913e39b38a');\n",
              "          const dataTable =\n",
              "            await google.colab.kernel.invokeFunction('convertToInteractive',\n",
              "                                                     [key], {});\n",
              "          if (!dataTable) return;\n",
              "\n",
              "          const docLinkHtml = 'Like what you see? Visit the ' +\n",
              "            '<a target=\"_blank\" href=https://colab.research.google.com/notebooks/data_table.ipynb>data table notebook</a>'\n",
              "            + ' to learn more about interactive tables.';\n",
              "          element.innerHTML = '';\n",
              "          dataTable['output_type'] = 'display_data';\n",
              "          await google.colab.output.renderOutput(dataTable, element);\n",
              "          const docLink = document.createElement('div');\n",
              "          docLink.innerHTML = docLinkHtml;\n",
              "          element.appendChild(docLink);\n",
              "        }\n",
              "      </script>\n",
              "    </div>\n",
              "  </div>\n",
              "  "
            ]
          },
          "metadata": {},
          "execution_count": 328
        }
      ]
    },
    {
      "cell_type": "code",
      "source": [
        "plt.figure(figsize = (10,5))\n",
        "sns.barplot(x=['city_hotel','resort_hotel'],y=hotel_vc['percentage'])"
      ],
      "metadata": {
        "colab": {
          "base_uri": "https://localhost:8080/",
          "height": 339
        },
        "id": "JadGPqHBsLT9",
        "outputId": "47b404f5-2db1-4c6e-ba97-5bc95122e13f"
      },
      "execution_count": 329,
      "outputs": [
        {
          "output_type": "execute_result",
          "data": {
            "text/plain": [
              "<matplotlib.axes._subplots.AxesSubplot at 0x7f16e60adcd0>"
            ]
          },
          "metadata": {},
          "execution_count": 329
        },
        {
          "output_type": "display_data",
          "data": {
            "text/plain": [
              "<Figure size 720x360 with 1 Axes>"
            ],
            "image/png": "[encoded data removed]"
          },
          "metadata": {
            "needs_background": "light"
          }
        }
      ]
    },
    {
      "cell_type": "markdown",
      "source": [
        "Ans1. Around 60% people booked City Hotel and 40% people booked Resort Hotel. on the basis of percentage we can assume that city hotel is more popular than Resort Hotel."
      ],
      "metadata": {
        "id": "888SqMyJRXnn"
      }
    },
    {
      "cell_type": "markdown",
      "source": [
        "Q3&4. How long do people prefer to stay in both hotels?"
      ],
      "metadata": {
        "id": "hWa7fXxxscCj"
      }
    },
    {
      "cell_type": "code",
      "source": [
        "not_cancel=df[df['booking_cancel_status']==0]\n",
        "stay_not_cancel=not_cancel[not_cancel['total_no_of_stays'] < 18]\n",
        "plt.figure(figsize = (10,5))\n",
        "sns.countplot(x=stay_not_cancel['total_no_of_stays'],hue=stay_not_cancel['hotel'])\n",
        "\n"
      ],
      "metadata": {
        "colab": {
          "base_uri": "https://localhost:8080/",
          "height": 353
        },
        "id": "zVX2JghmvyTq",
        "outputId": "a0e73266-c38f-42b6-9cf8-576928ac3cd9"
      },
      "execution_count": 330,
      "outputs": [
        {
          "output_type": "execute_result",
          "data": {
            "text/plain": [
              "<matplotlib.axes._subplots.AxesSubplot at 0x7f16e60b3790>"
            ]
          },
          "metadata": {},
          "execution_count": 330
        },
        {
          "output_type": "display_data",
          "data": {
            "text/plain": [
              "<Figure size 720x360 with 1 Axes>"
            ],
            "image/png": "[encoded data removed]"
          },
          "metadata": {
            "needs_background": "light"
          }
        }
      ]
    },
    {
      "cell_type": "markdown",
      "source": [
        "Ans3&4. On the basis of above chart, if people not cancelled their booking they prefer City Hotel for short stay which is less than and equal to 5 days and Resort Hotel for long stay which is less than or equal to 14 days."
      ],
      "metadata": {
        "id": "tB-iVhSsEvo8"
      }
    },
    {
      "cell_type": "markdown",
      "source": [
        "Q8. Which are the busiest months for hotel?"
      ],
      "metadata": {
        "id": "LlV2zfPMQPX_"
      }
    },
    {
      "cell_type": "code",
      "source": [
        "busiest_month=df['arrival_date_month'].value_counts().sort_values(ascending=False)\n",
        "busy_month=pd.DataFrame(busiest_month).reset_index()\n",
        "busy_month.columns=['month','count']\n",
        "months = ['January', 'February', 'March', 'April', 'May', 'June', 'July', 'August', 'September', 'October', 'November', 'December']\n",
        "busy_month['month'] = pd.Categorical(busy_month['month'], categories = months, ordered=True)\n",
        "busy_month.sort_values(by='month').reset_index(drop=True)\n",
        "plt.figure(figsize=(20,5))\n",
        "sns.barplot(x=busy_month['month'],y=busy_month['count'])\n",
        "plt.xlabel('Months',fontsize=18)\n",
        "plt.ylabel('Count',fontsize=18)\n",
        "plt.title('Most busiest month chart',fontsize=20)"
      ],
      "metadata": {
        "colab": {
          "base_uri": "https://localhost:8080/",
          "height": 381
        },
        "id": "jpP_zKyNQQsw",
        "outputId": "2fc75e50-da54-4e5d-ddc4-5c0050fcde62"
      },
      "execution_count": 331,
      "outputs": [
        {
          "output_type": "execute_result",
          "data": {
            "text/plain": [
              "Text(0.5, 1.0, 'Most busiest month chart')"
            ]
          },
          "metadata": {},
          "execution_count": 331
        },
        {
          "output_type": "display_data",
          "data": {
            "text/plain": [
              "<Figure size 1440x360 with 1 Axes>"
            ],
            "image/png": "[encoded data removed]"
          },
          "metadata": {
            "needs_background": "light"
          }
        }
      ]
    },
    {
      "cell_type": "markdown",
      "source": [
        "Ans8. According to chart, Most busiest months for hotels is August"
      ],
      "metadata": {
        "id": "qu7CZV4iQ_DA"
      }
    },
    {
      "cell_type": "markdown",
      "source": [
        "Q9. What is the chances of cutomer retention for hotels?"
      ],
      "metadata": {
        "id": "mRcvOyWX1EaY"
      }
    },
    {
      "cell_type": "code",
      "source": [
        "repeat_df=df[df['repeated_guest_status']==1]\n"
      ],
      "metadata": {
        "id": "DFrJCkAs1Ds4"
      },
      "execution_count": 332,
      "outputs": []
    },
    {
      "cell_type": "markdown",
      "source": [
        "#2.Analysis on the basis of booking and cancellation\n",
        "\n",
        "\n",
        "1.   Does a longer waiting period or a longer lead time cause bookings to be cancelled?\n",
        "2.   Visualization monthly bookings and monthly cancellations.\n",
        "3.   Relationship between lead time and cancellation.\n",
        "4.   Which type of customers make the most bookings?\n",
        "5.   Which type of customers make the special requests? \n",
        "\n"
      ],
      "metadata": {
        "id": "MQ7dnseK0Fw8"
      }
    },
    {
      "cell_type": "markdown",
      "source": [
        "Q4. Which type of customers make the most bookings?"
      ],
      "metadata": {
        "id": "z5JbXYEmukDU"
      }
    },
    {
      "cell_type": "code",
      "source": [
        "plt.figure(figsize=(12,8))\n",
        "plt.title('Customer and count graph',fontsize=15)\n",
        "plt.xlabel('Customer type',fontsize=15)\n",
        "plt.ylabel('Count',fontsize=15)\n",
        "sns.histplot(data=df['customer_type'])\n"
      ],
      "metadata": {
        "colab": {
          "base_uri": "https://localhost:8080/",
          "height": 538
        },
        "id": "93tRY4-SsSbc",
        "outputId": "dcca088e-8902-441d-bdec-b0b9e3dbc219"
      },
      "execution_count": 333,
      "outputs": [
        {
          "output_type": "execute_result",
          "data": {
            "text/plain": [
              "<matplotlib.axes._subplots.AxesSubplot at 0x7f16e5fa5150>"
            ]
          },
          "metadata": {},
          "execution_count": 333
        },
        {
          "output_type": "display_data",
          "data": {
            "text/plain": [
              "<Figure size 864x576 with 1 Axes>"
            ],
            "image/png": "[encoded data removed]"
          },
          "metadata": {
            "needs_background": "light"
          }
        }
      ]
    },
    {
      "cell_type": "markdown",
      "source": [
        "Ans4. According to histogram chart Transient(when the booking is not part of a group or contract, and is not associated to other transient booking) customers make most bookings."
      ],
      "metadata": {
        "id": "Hb4gNvb7vtJ5"
      }
    },
    {
      "cell_type": "markdown",
      "source": [
        "Q5. Which type of customers make the special requests?"
      ],
      "metadata": {
        "id": "uXw8SxpfsWJw"
      }
    },
    {
      "cell_type": "markdown",
      "source": [
        "#3. Analysis on the basis of distribution channel\n",
        "\n",
        "\n",
        "1.   Which distribution channel is mostly used?\n",
        "2.   Which distribution channel has a longer average waiting time?\n",
        "3.   Which distribution channel  has the highest cancellation percentage?\n",
        "4.   Which distribution channel generates the most revenue for hotels?\n",
        "\n",
        "\n"
      ],
      "metadata": {
        "id": "E0Vfqv62zUVD"
      }
    },
    {
      "cell_type": "markdown",
      "source": [
        "Q1.   Which distribution channel is mostly used?"
      ],
      "metadata": {
        "id": "9YIdjjLdNF25"
      }
    },
    {
      "cell_type": "code",
      "source": [
        "df['distribution_channel'].unique()"
      ],
      "metadata": {
        "colab": {
          "base_uri": "https://localhost:8080/"
        },
        "id": "DosTAAnnQPXs",
        "outputId": "23a09447-78cc-4200-990a-6dfa3b62b04c"
      },
      "execution_count": 334,
      "outputs": [
        {
          "output_type": "execute_result",
          "data": {
            "text/plain": [
              "array(['Direct', 'Corporate', 'TA/TO', 'Undefined', 'GDS'], dtype=object)"
            ]
          },
          "metadata": {},
          "execution_count": 334
        }
      ]
    },
    {
      "cell_type": "code",
      "source": [
        "dist_vc=pd.DataFrame(df['distribution_channel'].value_counts()).reset_index()\n",
        "dist_vc['percentage']=(dist_vc['distribution_channel'])*100/dist_vc['distribution_channel'].sum()\n",
        "dist_vc.columns=['distribution_channel','count','percentage']\n",
        "plt.figure(figsize= (15,12))\n",
        "plt.tight_layout()\n",
        "sort_legend=False\n",
        "palette_color=sns.color_palette('bright')\n",
        "plt.pie(dist_vc['percentage'],labels=dist_vc['distribution_channel'],explode=[0.15,0.05,0.05,0.05,0.15],\n",
        "        startangle=40,colors=palette_color,textprops={'fontsize':20}, autopct='%0.2f%%')\n",
        "plt.legend(title='distribution_channels')\n",
        "plt.show()\n",
        "\n"
      ],
      "metadata": {
        "colab": {
          "base_uri": "https://localhost:8080/",
          "height": 683
        },
        "id": "Qs2DXJbDMYQO",
        "outputId": "4cc73ef3-d644-43e9-fe82-79d323a962cf"
      },
      "execution_count": 335,
      "outputs": [
        {
          "output_type": "display_data",
          "data": {
            "text/plain": [
              "<Figure size 1080x864 with 1 Axes>"
            ],
            "image/png": "[encoded data removed]"
          },
          "metadata": {}
        }
      ]
    },
    {
      "cell_type": "markdown",
      "source": [
        "Ans1. According above pie chart 79.1% bookings are made by TA/TO(Travel agent/Travel operators), so we can say that TA/TO distribution channel is mostly use by groups."
      ],
      "metadata": {
        "id": "Ili6xOXEcspo"
      }
    },
    {
      "cell_type": "markdown",
      "source": [
        "Q3.Which distribution channel  has the highest cancellation?\n"
      ],
      "metadata": {
        "id": "Akd_zUc6gWok"
      }
    },
    {
      "cell_type": "code",
      "source": [
        "dist_cancel=df[df['booking_cancel_status']==1]\n",
        "plt.figure(figsize=(12,8))\n",
        "plt.xlabel('Distribution_channel',fontsize=18)\n",
        "plt.ylabel('count',fontsize=18)\n",
        "plt.title('Booking cancelled by groups on distribution channel',fontsize=18)\n",
        "sns.countplot(dist_cancel['distribution_channel'])\n"
      ],
      "metadata": {
        "colab": {
          "base_uri": "https://localhost:8080/",
          "height": 637
        },
        "id": "hdT70TD8crS0",
        "outputId": "0c8f08ce-7a17-40a3-bee3-87727770dbea"
      },
      "execution_count": 336,
      "outputs": [
        {
          "output_type": "stream",
          "name": "stderr",
          "text": [
            "/usr/local/lib/python3.7/dist-packages/seaborn/_decorators.py:43: FutureWarning:\n",
            "\n",
            "Pass the following variable as a keyword arg: x. From version 0.12, the only valid positional argument will be `data`, and passing other arguments without an explicit keyword will result in an error or misinterpretation.\n",
            "\n"
          ]
        },
        {
          "output_type": "execute_result",
          "data": {
            "text/plain": [
              "<matplotlib.axes._subplots.AxesSubplot at 0x7f16e5e1c990>"
            ]
          },
          "metadata": {},
          "execution_count": 336
        },
        {
          "output_type": "display_data",
          "data": {
            "text/plain": [
              "<Figure size 864x576 with 1 Axes>"
            ],
            "image/png": "[encoded data removed]"
          },
          "metadata": {
            "needs_background": "light"
          }
        }
      ]
    },
    {
      "cell_type": "markdown",
      "source": [
        "Ans3. According to count chart most number booking cancel from TA/TO\n",
        "\n"
      ],
      "metadata": {
        "id": "FQ3WO0LtkXw_"
      }
    },
    {
      "cell_type": "code",
      "source": [
        "df.head()"
      ],
      "metadata": {
        "colab": {
          "base_uri": "https://localhost:8080/",
          "height": 386
        },
        "id": "j2Au79uDq_2E",
        "outputId": "a19734f3-a665-43f2-ac95-5390e193d103"
      },
      "execution_count": 337,
      "outputs": [
        {
          "output_type": "execute_result",
          "data": {
            "text/plain": [
              "          hotel  booking_cancel_status  lead_time  no_of_days_in_waiting_list  \\\n",
              "0  Resort Hotel                      0        342                           0   \n",
              "1  Resort Hotel                      0        737                           0   \n",
              "2  Resort Hotel                      0          7                           0   \n",
              "3  Resort Hotel                      0         13                           0   \n",
              "4  Resort Hotel                      0         14                           0   \n",
              "\n",
              "  reserved_room_type assigned_room_type meal_type  arrival_date_year  \\\n",
              "0                  C                  C        BB               2015   \n",
              "1                  C                  C        BB               2015   \n",
              "2                  A                  C        BB               2015   \n",
              "3                  A                  A        BB               2015   \n",
              "4                  A                  A        BB               2015   \n",
              "\n",
              "  arrival_date_month arrival_month_year  ... distribution_channel  \\\n",
              "0               July         2015-07-01  ...               Direct   \n",
              "1               July         2015-07-01  ...               Direct   \n",
              "2               July         2015-07-01  ...               Direct   \n",
              "3               July         2015-07-01  ...            Corporate   \n",
              "4               July         2015-07-01  ...                TA/TO   \n",
              "\n",
              "  required_no_of_car_parking_space  no_of_adults  no_of_children  \\\n",
              "0                                0             2               0   \n",
              "1                                0             2               0   \n",
              "2                                0             1               0   \n",
              "3                                0             1               0   \n",
              "4                                0             2               0   \n",
              "\n",
              "   repeated_guest_status  no_of_babies  total_no_in_group  total_no_of_stays  \\\n",
              "0                      0             0                  2                  0   \n",
              "1                      0             0                  2                  0   \n",
              "2                      0             0                  1                  1   \n",
              "3                      0             0                  1                  1   \n",
              "4                      0             0                  2                  2   \n",
              "\n",
              "   total_no_of_special_requests  customer_type  \n",
              "0                             0      Transient  \n",
              "1                             0      Transient  \n",
              "2                             0      Transient  \n",
              "3                             0      Transient  \n",
              "4                             1      Transient  \n",
              "\n",
              "[5 rows x 21 columns]"
            ],
            "text/html": [
              "\n",
              "  <div id=\"df-0e82d7cb-59a1-4ed9-9aaf-54b685c22580\">\n",
              "    <div class=\"colab-df-container\">\n",
              "      <div>\n",
              "<style scoped>\n",
              "    .dataframe tbody tr th:only-of-type {\n",
              "        vertical-align: middle;\n",
              "    }\n",
              "\n",
              "    .dataframe tbody tr th {\n",
              "        vertical-align: top;\n",
              "    }\n",
              "\n",
              "    .dataframe thead th {\n",
              "        text-align: right;\n",
              "    }\n",
              "</style>\n",
              "<table border=\"1\" class=\"dataframe\">\n",
              "  <thead>\n",
              "    <tr style=\"text-align: right;\">\n",
              "      <th></th>\n",
              "      <th>hotel</th>\n",
              "      <th>booking_cancel_status</th>\n",
              "      <th>lead_time</th>\n",
              "      <th>no_of_days_in_waiting_list</th>\n",
              "      <th>reserved_room_type</th>\n",
              "      <th>assigned_room_type</th>\n",
              "      <th>meal_type</th>\n",
              "      <th>arrival_date_year</th>\n",
              "      <th>arrival_date_month</th>\n",
              "      <th>arrival_month_year</th>\n",
              "      <th>...</th>\n",
              "      <th>distribution_channel</th>\n",
              "      <th>required_no_of_car_parking_space</th>\n",
              "      <th>no_of_adults</th>\n",
              "      <th>no_of_children</th>\n",
              "      <th>repeated_guest_status</th>\n",
              "      <th>no_of_babies</th>\n",
              "      <th>total_no_in_group</th>\n",
              "      <th>total_no_of_stays</th>\n",
              "      <th>total_no_of_special_requests</th>\n",
              "      <th>customer_type</th>\n",
              "    </tr>\n",
              "  </thead>\n",
              "  <tbody>\n",
              "    <tr>\n",
              "      <th>0</th>\n",
              "      <td>Resort Hotel</td>\n",
              "      <td>0</td>\n",
              "      <td>342</td>\n",
              "      <td>0</td>\n",
              "      <td>C</td>\n",
              "      <td>C</td>\n",
              "      <td>BB</td>\n",
              "      <td>2015</td>\n",
              "      <td>July</td>\n",
              "      <td>2015-07-01</td>\n",
              "      <td>...</td>\n",
              "      <td>Direct</td>\n",
              "      <td>0</td>\n",
              "      <td>2</td>\n",
              "      <td>0</td>\n",
              "      <td>0</td>\n",
              "      <td>0</td>\n",
              "      <td>2</td>\n",
              "      <td>0</td>\n",
              "      <td>0</td>\n",
              "      <td>Transient</td>\n",
              "    </tr>\n",
              "    <tr>\n",
              "      <th>1</th>\n",
              "      <td>Resort Hotel</td>\n",
              "      <td>0</td>\n",
              "      <td>737</td>\n",
              "      <td>0</td>\n",
              "      <td>C</td>\n",
              "      <td>C</td>\n",
              "      <td>BB</td>\n",
              "      <td>2015</td>\n",
              "      <td>July</td>\n",
              "      <td>2015-07-01</td>\n",
              "      <td>...</td>\n",
              "      <td>Direct</td>\n",
              "      <td>0</td>\n",
              "      <td>2</td>\n",
              "      <td>0</td>\n",
              "      <td>0</td>\n",
              "      <td>0</td>\n",
              "      <td>2</td>\n",
              "      <td>0</td>\n",
              "      <td>0</td>\n",
              "      <td>Transient</td>\n",
              "    </tr>\n",
              "    <tr>\n",
              "      <th>2</th>\n",
              "      <td>Resort Hotel</td>\n",
              "      <td>0</td>\n",
              "      <td>7</td>\n",
              "      <td>0</td>\n",
              "      <td>A</td>\n",
              "      <td>C</td>\n",
              "      <td>BB</td>\n",
              "      <td>2015</td>\n",
              "      <td>July</td>\n",
              "      <td>2015-07-01</td>\n",
              "      <td>...</td>\n",
              "      <td>Direct</td>\n",
              "      <td>0</td>\n",
              "      <td>1</td>\n",
              "      <td>0</td>\n",
              "      <td>0</td>\n",
              "      <td>0</td>\n",
              "      <td>1</td>\n",
              "      <td>1</td>\n",
              "      <td>0</td>\n",
              "      <td>Transient</td>\n",
              "    </tr>\n",
              "    <tr>\n",
              "      <th>3</th>\n",
              "      <td>Resort Hotel</td>\n",
              "      <td>0</td>\n",
              "      <td>13</td>\n",
              "      <td>0</td>\n",
              "      <td>A</td>\n",
              "      <td>A</td>\n",
              "      <td>BB</td>\n",
              "      <td>2015</td>\n",
              "      <td>July</td>\n",
              "      <td>2015-07-01</td>\n",
              "      <td>...</td>\n",
              "      <td>Corporate</td>\n",
              "      <td>0</td>\n",
              "      <td>1</td>\n",
              "      <td>0</td>\n",
              "      <td>0</td>\n",
              "      <td>0</td>\n",
              "      <td>1</td>\n",
              "      <td>1</td>\n",
              "      <td>0</td>\n",
              "      <td>Transient</td>\n",
              "    </tr>\n",
              "    <tr>\n",
              "      <th>4</th>\n",
              "      <td>Resort Hotel</td>\n",
              "      <td>0</td>\n",
              "      <td>14</td>\n",
              "      <td>0</td>\n",
              "      <td>A</td>\n",
              "      <td>A</td>\n",
              "      <td>BB</td>\n",
              "      <td>2015</td>\n",
              "      <td>July</td>\n",
              "      <td>2015-07-01</td>\n",
              "      <td>...</td>\n",
              "      <td>TA/TO</td>\n",
              "      <td>0</td>\n",
              "      <td>2</td>\n",
              "      <td>0</td>\n",
              "      <td>0</td>\n",
              "      <td>0</td>\n",
              "      <td>2</td>\n",
              "      <td>2</td>\n",
              "      <td>1</td>\n",
              "      <td>Transient</td>\n",
              "    </tr>\n",
              "  </tbody>\n",
              "</table>\n",
              "<p>5 rows × 21 columns</p>\n",
              "</div>\n",
              "      <button class=\"colab-df-convert\" onclick=\"convertToInteractive('df-0e82d7cb-59a1-4ed9-9aaf-54b685c22580')\"\n",
              "              title=\"Convert this dataframe to an interactive table.\"\n",
              "              style=\"display:none;\">\n",
              "        \n",
              "  <svg xmlns=\"http://www.w3.org/2000/svg\" height=\"24px\"viewBox=\"0 0 24 24\"\n",
              "       width=\"24px\">\n",
              "    <path d=\"M0 0h24v24H0V0z\" fill=\"none\"/>\n",
              "    <path d=\"M18.56 5.44l.94 2.06.94-2.06 2.06-.94-2.06-.94-.94-2.06-.94 2.06-2.06.94zm-11 1L8.5 8.5l.94-2.06 2.06-.94-2.06-.94L8.5 2.5l-.94 2.06-2.06.94zm10 10l.94 2.06.94-2.06 2.06-.94-2.06-.94-.94-2.06-.94 2.06-2.06.94z\"/><path d=\"M17.41 7.96l-1.37-1.37c-.4-.4-.92-.59-1.43-.59-.52 0-1.04.2-1.43.59L10.3 9.45l-7.72 7.72c-.78.78-.78 2.05 0 2.83L4 21.41c.39.39.9.59 1.41.59.51 0 1.02-.2 1.41-.59l7.78-7.78 2.81-2.81c.8-.78.8-2.07 0-2.86zM5.41 20L4 18.59l7.72-7.72 1.47 1.35L5.41 20z\"/>\n",
              "  </svg>\n",
              "      </button>\n",
              "      \n",
              "  <style>\n",
              "    .colab-df-container {\n",
              "      display:flex;\n",
              "      flex-wrap:wrap;\n",
              "      gap: 12px;\n",
              "    }\n",
              "\n",
              "    .colab-df-convert {\n",
              "      background-color: #E8F0FE;\n",
              "      border: none;\n",
              "      border-radius: 50%;\n",
              "      cursor: pointer;\n",
              "      display: none;\n",
              "      fill: #1967D2;\n",
              "      height: 32px;\n",
              "      padding: 0 0 0 0;\n",
              "      width: 32px;\n",
              "    }\n",
              "\n",
              "    .colab-df-convert:hover {\n",
              "      background-color: #E2EBFA;\n",
              "      box-shadow: 0px 1px 2px rgba(60, 64, 67, 0.3), 0px 1px 3px 1px rgba(60, 64, 67, 0.15);\n",
              "      fill: #174EA6;\n",
              "    }\n",
              "\n",
              "    [theme=dark] .colab-df-convert {\n",
              "      background-color: #3B4455;\n",
              "      fill: #D2E3FC;\n",
              "    }\n",
              "\n",
              "    [theme=dark] .colab-df-convert:hover {\n",
              "      background-color: #434B5C;\n",
              "      box-shadow: 0px 1px 3px 1px rgba(0, 0, 0, 0.15);\n",
              "      filter: drop-shadow(0px 1px 2px rgba(0, 0, 0, 0.3));\n",
              "      fill: #FFFFFF;\n",
              "    }\n",
              "  </style>\n",
              "\n",
              "      <script>\n",
              "        const buttonEl =\n",
              "          document.querySelector('#df-0e82d7cb-59a1-4ed9-9aaf-54b685c22580 button.colab-df-convert');\n",
              "        buttonEl.style.display =\n",
              "          google.colab.kernel.accessAllowed ? 'block' : 'none';\n",
              "\n",
              "        async function convertToInteractive(key) {\n",
              "          const element = document.querySelector('#df-0e82d7cb-59a1-4ed9-9aaf-54b685c22580');\n",
              "          const dataTable =\n",
              "            await google.colab.kernel.invokeFunction('convertToInteractive',\n",
              "                                                     [key], {});\n",
              "          if (!dataTable) return;\n",
              "\n",
              "          const docLinkHtml = 'Like what you see? Visit the ' +\n",
              "            '<a target=\"_blank\" href=https://colab.research.google.com/notebooks/data_table.ipynb>data table notebook</a>'\n",
              "            + ' to learn more about interactive tables.';\n",
              "          element.innerHTML = '';\n",
              "          dataTable['output_type'] = 'display_data';\n",
              "          await google.colab.output.renderOutput(dataTable, element);\n",
              "          const docLink = document.createElement('div');\n",
              "          docLink.innerHTML = docLinkHtml;\n",
              "          element.appendChild(docLink);\n",
              "        }\n",
              "      </script>\n",
              "    </div>\n",
              "  </div>\n",
              "  "
            ]
          },
          "metadata": {},
          "execution_count": 337
        }
      ]
    },
    {
      "cell_type": "markdown",
      "source": [
        "#4. Analysis on the basis of deposit type\n",
        "\n",
        "\n",
        "1.   analyzing which deposit type is preferred most?\n",
        "\n"
      ],
      "metadata": {
        "id": "X1U6A3453ta4"
      }
    },
    {
      "cell_type": "markdown",
      "source": [
        "#5. Analysis on the basis of meal type\n",
        "\n",
        "\n",
        "1.   Which type of meal is most and least prefered by the customers?"
      ],
      "metadata": {
        "id": "fDvqHpxz4377"
      }
    },
    {
      "cell_type": "markdown",
      "source": [
        "#6. Analysis on the basis of room type\n",
        "\n",
        "\n",
        "1.   which room type is in most demand and which room type generates the highest average daily rate?\n",
        "\n"
      ],
      "metadata": {
        "id": "y6j6ifom7wSo"
      }
    },
    {
      "cell_type": "markdown",
      "source": [
        "#7. Analysis on the basis of country\n",
        "\n",
        "\n",
        "1.   Which country has the greatest number of guests?\n",
        "\n"
      ],
      "metadata": {
        "id": "RqaxP-QG8nep"
      }
    },
    {
      "cell_type": "code",
      "source": [
        "country_guest =df[['country','total_no_in_group']]\n",
        "country_guest=country_guest.groupby(by='country').agg({'total_no_in_group':'sum'}).reset_index()"
      ],
      "metadata": {
        "id": "hJHM5dQZmc0j"
      },
      "execution_count": 338,
      "outputs": []
    },
    {
      "cell_type": "code",
      "source": [
        "basemap = folium.Map()\n",
        "country_guest_map = px.choropleth(df, locations = country_guest['country'],color = country_guest['total_no_in_group'], hover_name = country_guest['country'])\n",
        "country_guest_map.show()"
      ],
      "metadata": {
        "colab": {
          "base_uri": "https://localhost:8080/",
          "height": 542
        },
        "id": "c80L93Q1kE34",
        "outputId": "78e2ed3e-8337-4c85-f935-550d2e1345c5"
      },
      "execution_count": 339,
      "outputs": [
        {
          "output_type": "display_data",
          "data": {
            "text/html": [
              "<html>\n",
              "<head><meta charset=\"utf-8\" /></head>\n",
              "<body>\n",
              "    <div>            <script src=\"https://cdnjs.cloudflare.com/ajax/libs/mathjax/2.7.5/MathJax.js?config=TeX-AMS-MML_SVG\"></script><script type=\"text/javascript\">if (window.MathJax) {MathJax.Hub.Config({SVG: {font: \"STIX-Web\"}});}</script>                <script type=\"text/javascript\">window.PlotlyConfig = {MathJaxConfig: 'local'};</script>\n",
              "        <script src=\"https://cdn.plot.ly/plotly-2.8.3.min.js\"></script>                <div id=\"8f73b43a-df87-45cd-a487-d7a4afaf0d81\" class=\"plotly-graph-div\" style=\"height:525px; width:100%;\"></div>            <script type=\"text/javascript\">                                    window.PLOTLYENV=window.PLOTLYENV || {};                                    if (document.getElementById(\"8f73b43a-df87-45cd-a487-d7a4afaf0d81\")) {                    Plotly.newPlot(                        \"8f73b43a-df87-45cd-a487-d7a4afaf0d81\",                        [{\"coloraxis\":\"coloraxis\",\"geo\":\"geo\",\"hovertemplate\":\"<b>%{hovertext}</b><br><br>locations=%{location}<br>color=%{z}<extra></extra>\",\"hovertext\":[\"ABW\",\"AGO\",\"AIA\",\"ALB\",\"AND\",\"ARE\",\"ARG\",\"ARM\",\"ASM\",\"ATA\",\"ATF\",\"AUS\",\"AUT\",\"AZE\",\"BDI\",\"BEL\",\"BEN\",\"BFA\",\"BGD\",\"BGR\",\"BHR\",\"BHS\",\"BIH\",\"BLR\",\"BOL\",\"BRA\",\"BRB\",\"BWA\",\"CAF\",\"CHE\",\"CHL\",\"CHN\",\"CIV\",\"CMR\",\"CN\",\"COL\",\"COM\",\"CPV\",\"CRI\",\"CUB\",\"CYM\",\"CYP\",\"CZE\",\"DEU\",\"DJI\",\"DMA\",\"DNK\",\"DOM\",\"DZA\",\"ECU\",\"EGY\",\"ESP\",\"EST\",\"ETH\",\"FIN\",\"FJI\",\"FRA\",\"FRO\",\"GAB\",\"GBR\",\"GEO\",\"GGY\",\"GHA\",\"GIB\",\"GLP\",\"GNB\",\"GRC\",\"GTM\",\"GUY\",\"HKG\",\"HND\",\"HRV\",\"HUN\",\"IDN\",\"IMN\",\"IND\",\"IRL\",\"IRN\",\"IRQ\",\"ISL\",\"ISR\",\"ITA\",\"JAM\",\"JEY\",\"JOR\",\"JPN\",\"KAZ\",\"KEN\",\"KHM\",\"KIR\",\"KNA\",\"KOR\",\"KWT\",\"LAO\",\"LBN\",\"LBY\",\"LCA\",\"LIE\",\"LKA\",\"LTU\",\"LUX\",\"LVA\",\"MAC\",\"MAR\",\"MCO\",\"MDG\",\"MDV\",\"MEX\",\"MKD\",\"MLI\",\"MLT\",\"MMR\",\"MNE\",\"MOZ\",\"MRT\",\"MUS\",\"MWI\",\"MYS\",\"MYT\",\"NAM\",\"NCL\",\"NGA\",\"NIC\",\"NLD\",\"NOR\",\"NPL\",\"NZL\",\"OMN\",\"PAK\",\"PAN\",\"PER\",\"PHL\",\"PLW\",\"POL\",\"PRI\",\"PRT\",\"PRY\",\"PYF\",\"QAT\",\"ROU\",\"RUS\",\"RWA\",\"SAU\",\"SDN\",\"SEN\",\"SGP\",\"SLE\",\"SLV\",\"SMR\",\"SRB\",\"STP\",\"SUR\",\"SVK\",\"SVN\",\"SWE\",\"SYC\",\"SYR\",\"TGO\",\"THA\",\"TJK\",\"TMP\",\"TUN\",\"TUR\",\"TWN\",\"TZA\",\"UGA\",\"UKR\",\"UMI\",\"URY\",\"USA\",\"UZB\",\"VEN\",\"VGB\",\"VNM\",\"ZAF\",\"ZMB\",\"ZWE\",\"others\"],\"locations\":[\"ABW\",\"AGO\",\"AIA\",\"ALB\",\"AND\",\"ARE\",\"ARG\",\"ARM\",\"ASM\",\"ATA\",\"ATF\",\"AUS\",\"AUT\",\"AZE\",\"BDI\",\"BEL\",\"BEN\",\"BFA\",\"BGD\",\"BGR\",\"BHR\",\"BHS\",\"BIH\",\"BLR\",\"BOL\",\"BRA\",\"BRB\",\"BWA\",\"CAF\",\"CHE\",\"CHL\",\"CHN\",\"CIV\",\"CMR\",\"CN\",\"COL\",\"COM\",\"CPV\",\"CRI\",\"CUB\",\"CYM\",\"CYP\",\"CZE\",\"DEU\",\"DJI\",\"DMA\",\"DNK\",\"DOM\",\"DZA\",\"ECU\",\"EGY\",\"ESP\",\"EST\",\"ETH\",\"FIN\",\"FJI\",\"FRA\",\"FRO\",\"GAB\",\"GBR\",\"GEO\",\"GGY\",\"GHA\",\"GIB\",\"GLP\",\"GNB\",\"GRC\",\"GTM\",\"GUY\",\"HKG\",\"HND\",\"HRV\",\"HUN\",\"IDN\",\"IMN\",\"IND\",\"IRL\",\"IRN\",\"IRQ\",\"ISL\",\"ISR\",\"ITA\",\"JAM\",\"JEY\",\"JOR\",\"JPN\",\"KAZ\",\"KEN\",\"KHM\",\"KIR\",\"KNA\",\"KOR\",\"KWT\",\"LAO\",\"LBN\",\"LBY\",\"LCA\",\"LIE\",\"LKA\",\"LTU\",\"LUX\",\"LVA\",\"MAC\",\"MAR\",\"MCO\",\"MDG\",\"MDV\",\"MEX\",\"MKD\",\"MLI\",\"MLT\",\"MMR\",\"MNE\",\"MOZ\",\"MRT\",\"MUS\",\"MWI\",\"MYS\",\"MYT\",\"NAM\",\"NCL\",\"NGA\",\"NIC\",\"NLD\",\"NOR\",\"NPL\",\"NZL\",\"OMN\",\"PAK\",\"PAN\",\"PER\",\"PHL\",\"PLW\",\"POL\",\"PRI\",\"PRT\",\"PRY\",\"PYF\",\"QAT\",\"ROU\",\"RUS\",\"RWA\",\"SAU\",\"SDN\",\"SEN\",\"SGP\",\"SLE\",\"SLV\",\"SMR\",\"SRB\",\"STP\",\"SUR\",\"SVK\",\"SVN\",\"SWE\",\"SYC\",\"SYR\",\"TGO\",\"THA\",\"TJK\",\"TMP\",\"TUN\",\"TUR\",\"TWN\",\"TZA\",\"UGA\",\"UKR\",\"UMI\",\"URY\",\"USA\",\"UZB\",\"VEN\",\"VGB\",\"VNM\",\"ZAF\",\"ZMB\",\"ZWE\",\"others\"],\"name\":\"\",\"z\":[5,628,4,21,19,108,437,18,2,2,2,768,1918,41,2,4396,6,2,26,134,12,2,20,39,5,4398,2,3,7,3349,139,1690,11,21,2278,149,7,42,35,14,2,74,262,10809,4,2,833,28,155,52,54,15681,170,6,867,4,18655,9,7,21385,41,3,8,35,3,11,209,7,1,45,2,185,419,50,5,319,6235,167,19,49,842,6503,14,19,36,362,34,15,2,1,3,242,34,4,54,10,2,6,9,145,578,105,15,536,8,2,26,139,15,2,32,2,10,110,2,13,4,47,6,2,2,64,3,3906,1134,2,124,41,25,17,46,71,2,1680,17,52144,8,2,33,979,1180,3,93,2,23,65,2,5,2,93,4,12,99,90,1730,3,5,4,90,4,9,78,421,85,10,3,122,2,66,3905,6,43,2,17,156,6,8,626],\"type\":\"choropleth\"}],                        {\"template\":{\"data\":{\"bar\":[{\"error_x\":{\"color\":\"#2a3f5f\"},\"error_y\":{\"color\":\"#2a3f5f\"},\"marker\":{\"line\":{\"color\":\"#E5ECF6\",\"width\":0.5},\"pattern\":{\"fillmode\":\"overlay\",\"size\":10,\"solidity\":0.2}},\"type\":\"bar\"}],\"barpolar\":[{\"marker\":{\"line\":{\"color\":\"#E5ECF6\",\"width\":0.5},\"pattern\":{\"fillmode\":\"overlay\",\"size\":10,\"solidity\":0.2}},\"type\":\"barpolar\"}],\"carpet\":[{\"aaxis\":{\"endlinecolor\":\"#2a3f5f\",\"gridcolor\":\"white\",\"linecolor\":\"white\",\"minorgridcolor\":\"white\",\"startlinecolor\":\"#2a3f5f\"},\"baxis\":{\"endlinecolor\":\"#2a3f5f\",\"gridcolor\":\"white\",\"linecolor\":\"white\",\"minorgridcolor\":\"white\",\"startlinecolor\":\"#2a3f5f\"},\"type\":\"carpet\"}],\"choropleth\":[{\"colorbar\":{\"outlinewidth\":0,\"ticks\":\"\"},\"type\":\"choropleth\"}],\"contour\":[{\"colorbar\":{\"outlinewidth\":0,\"ticks\":\"\"},\"colorscale\":[[0.0,\"#0d0887\"],[0.1111111111111111,\"#46039f\"],[0.2222222222222222,\"#7201a8\"],[0.3333333333333333,\"#9c179e\"],[0.4444444444444444,\"#bd3786\"],[0.5555555555555556,\"#d8576b\"],[0.6666666666666666,\"#ed7953\"],[0.7777777777777778,\"#fb9f3a\"],[0.8888888888888888,\"#fdca26\"],[1.0,\"#f0f921\"]],\"type\":\"contour\"}],\"contourcarpet\":[{\"colorbar\":{\"outlinewidth\":0,\"ticks\":\"\"},\"type\":\"contourcarpet\"}],\"heatmap\":[{\"colorbar\":{\"outlinewidth\":0,\"ticks\":\"\"},\"colorscale\":[[0.0,\"#0d0887\"],[0.1111111111111111,\"#46039f\"],[0.2222222222222222,\"#7201a8\"],[0.3333333333333333,\"#9c179e\"],[0.4444444444444444,\"#bd3786\"],[0.5555555555555556,\"#d8576b\"],[0.6666666666666666,\"#ed7953\"],[0.7777777777777778,\"#fb9f3a\"],[0.8888888888888888,\"#fdca26\"],[1.0,\"#f0f921\"]],\"type\":\"heatmap\"}],\"heatmapgl\":[{\"colorbar\":{\"outlinewidth\":0,\"ticks\":\"\"},\"colorscale\":[[0.0,\"#0d0887\"],[0.1111111111111111,\"#46039f\"],[0.2222222222222222,\"#7201a8\"],[0.3333333333333333,\"#9c179e\"],[0.4444444444444444,\"#bd3786\"],[0.5555555555555556,\"#d8576b\"],[0.6666666666666666,\"#ed7953\"],[0.7777777777777778,\"#fb9f3a\"],[0.8888888888888888,\"#fdca26\"],[1.0,\"#f0f921\"]],\"type\":\"heatmapgl\"}],\"histogram\":[{\"marker\":{\"pattern\":{\"fillmode\":\"overlay\",\"size\":10,\"solidity\":0.2}},\"type\":\"histogram\"}],\"histogram2d\":[{\"colorbar\":{\"outlinewidth\":0,\"ticks\":\"\"},\"colorscale\":[[0.0,\"#0d0887\"],[0.1111111111111111,\"#46039f\"],[0.2222222222222222,\"#7201a8\"],[0.3333333333333333,\"#9c179e\"],[0.4444444444444444,\"#bd3786\"],[0.5555555555555556,\"#d8576b\"],[0.6666666666666666,\"#ed7953\"],[0.7777777777777778,\"#fb9f3a\"],[0.8888888888888888,\"#fdca26\"],[1.0,\"#f0f921\"]],\"type\":\"histogram2d\"}],\"histogram2dcontour\":[{\"colorbar\":{\"outlinewidth\":0,\"ticks\":\"\"},\"colorscale\":[[0.0,\"#0d0887\"],[0.1111111111111111,\"#46039f\"],[0.2222222222222222,\"#7201a8\"],[0.3333333333333333,\"#9c179e\"],[0.4444444444444444,\"#bd3786\"],[0.5555555555555556,\"#d8576b\"],[0.6666666666666666,\"#ed7953\"],[0.7777777777777778,\"#fb9f3a\"],[0.8888888888888888,\"#fdca26\"],[1.0,\"#f0f921\"]],\"type\":\"histogram2dcontour\"}],\"mesh3d\":[{\"colorbar\":{\"outlinewidth\":0,\"ticks\":\"\"},\"type\":\"mesh3d\"}],\"parcoords\":[{\"line\":{\"colorbar\":{\"outlinewidth\":0,\"ticks\":\"\"}},\"type\":\"parcoords\"}],\"pie\":[{\"automargin\":true,\"type\":\"pie\"}],\"scatter\":[{\"marker\":{\"colorbar\":{\"outlinewidth\":0,\"ticks\":\"\"}},\"type\":\"scatter\"}],\"scatter3d\":[{\"line\":{\"colorbar\":{\"outlinewidth\":0,\"ticks\":\"\"}},\"marker\":{\"colorbar\":{\"outlinewidth\":0,\"ticks\":\"\"}},\"type\":\"scatter3d\"}],\"scattercarpet\":[{\"marker\":{\"colorbar\":{\"outlinewidth\":0,\"ticks\":\"\"}},\"type\":\"scattercarpet\"}],\"scattergeo\":[{\"marker\":{\"colorbar\":{\"outlinewidth\":0,\"ticks\":\"\"}},\"type\":\"scattergeo\"}],\"scattergl\":[{\"marker\":{\"colorbar\":{\"outlinewidth\":0,\"ticks\":\"\"}},\"type\":\"scattergl\"}],\"scattermapbox\":[{\"marker\":{\"colorbar\":{\"outlinewidth\":0,\"ticks\":\"\"}},\"type\":\"scattermapbox\"}],\"scatterpolar\":[{\"marker\":{\"colorbar\":{\"outlinewidth\":0,\"ticks\":\"\"}},\"type\":\"scatterpolar\"}],\"scatterpolargl\":[{\"marker\":{\"colorbar\":{\"outlinewidth\":0,\"ticks\":\"\"}},\"type\":\"scatterpolargl\"}],\"scatterternary\":[{\"marker\":{\"colorbar\":{\"outlinewidth\":0,\"ticks\":\"\"}},\"type\":\"scatterternary\"}],\"surface\":[{\"colorbar\":{\"outlinewidth\":0,\"ticks\":\"\"},\"colorscale\":[[0.0,\"#0d0887\"],[0.1111111111111111,\"#46039f\"],[0.2222222222222222,\"#7201a8\"],[0.3333333333333333,\"#9c179e\"],[0.4444444444444444,\"#bd3786\"],[0.5555555555555556,\"#d8576b\"],[0.6666666666666666,\"#ed7953\"],[0.7777777777777778,\"#fb9f3a\"],[0.8888888888888888,\"#fdca26\"],[1.0,\"#f0f921\"]],\"type\":\"surface\"}],\"table\":[{\"cells\":{\"fill\":{\"color\":\"#EBF0F8\"},\"line\":{\"color\":\"white\"}},\"header\":{\"fill\":{\"color\":\"#C8D4E3\"},\"line\":{\"color\":\"white\"}},\"type\":\"table\"}]},\"layout\":{\"annotationdefaults\":{\"arrowcolor\":\"#2a3f5f\",\"arrowhead\":0,\"arrowwidth\":1},\"autotypenumbers\":\"strict\",\"coloraxis\":{\"colorbar\":{\"outlinewidth\":0,\"ticks\":\"\"}},\"colorscale\":{\"diverging\":[[0,\"#8e0152\"],[0.1,\"#c51b7d\"],[0.2,\"#de77ae\"],[0.3,\"#f1b6da\"],[0.4,\"#fde0ef\"],[0.5,\"#f7f7f7\"],[0.6,\"#e6f5d0\"],[0.7,\"#b8e186\"],[0.8,\"#7fbc41\"],[0.9,\"#4d9221\"],[1,\"#276419\"]],\"sequential\":[[0.0,\"#0d0887\"],[0.1111111111111111,\"#46039f\"],[0.2222222222222222,\"#7201a8\"],[0.3333333333333333,\"#9c179e\"],[0.4444444444444444,\"#bd3786\"],[0.5555555555555556,\"#d8576b\"],[0.6666666666666666,\"#ed7953\"],[0.7777777777777778,\"#fb9f3a\"],[0.8888888888888888,\"#fdca26\"],[1.0,\"#f0f921\"]],\"sequentialminus\":[[0.0,\"#0d0887\"],[0.1111111111111111,\"#46039f\"],[0.2222222222222222,\"#7201a8\"],[0.3333333333333333,\"#9c179e\"],[0.4444444444444444,\"#bd3786\"],[0.5555555555555556,\"#d8576b\"],[0.6666666666666666,\"#ed7953\"],[0.7777777777777778,\"#fb9f3a\"],[0.8888888888888888,\"#fdca26\"],[1.0,\"#f0f921\"]]},\"colorway\":[\"#636efa\",\"#EF553B\",\"#00cc96\",\"#ab63fa\",\"#FFA15A\",\"#19d3f3\",\"#FF6692\",\"#B6E880\",\"#FF97FF\",\"#FECB52\"],\"font\":{\"color\":\"#2a3f5f\"},\"geo\":{\"bgcolor\":\"white\",\"lakecolor\":\"white\",\"landcolor\":\"#E5ECF6\",\"showlakes\":true,\"showland\":true,\"subunitcolor\":\"white\"},\"hoverlabel\":{\"align\":\"left\"},\"hovermode\":\"closest\",\"mapbox\":{\"style\":\"light\"},\"paper_bgcolor\":\"white\",\"plot_bgcolor\":\"#E5ECF6\",\"polar\":{\"angularaxis\":{\"gridcolor\":\"white\",\"linecolor\":\"white\",\"ticks\":\"\"},\"bgcolor\":\"#E5ECF6\",\"radialaxis\":{\"gridcolor\":\"white\",\"linecolor\":\"white\",\"ticks\":\"\"}},\"scene\":{\"xaxis\":{\"backgroundcolor\":\"#E5ECF6\",\"gridcolor\":\"white\",\"gridwidth\":2,\"linecolor\":\"white\",\"showbackground\":true,\"ticks\":\"\",\"zerolinecolor\":\"white\"},\"yaxis\":{\"backgroundcolor\":\"#E5ECF6\",\"gridcolor\":\"white\",\"gridwidth\":2,\"linecolor\":\"white\",\"showbackground\":true,\"ticks\":\"\",\"zerolinecolor\":\"white\"},\"zaxis\":{\"backgroundcolor\":\"#E5ECF6\",\"gridcolor\":\"white\",\"gridwidth\":2,\"linecolor\":\"white\",\"showbackground\":true,\"ticks\":\"\",\"zerolinecolor\":\"white\"}},\"shapedefaults\":{\"line\":{\"color\":\"#2a3f5f\"}},\"ternary\":{\"aaxis\":{\"gridcolor\":\"white\",\"linecolor\":\"white\",\"ticks\":\"\"},\"baxis\":{\"gridcolor\":\"white\",\"linecolor\":\"white\",\"ticks\":\"\"},\"bgcolor\":\"#E5ECF6\",\"caxis\":{\"gridcolor\":\"white\",\"linecolor\":\"white\",\"ticks\":\"\"}},\"title\":{\"x\":0.05},\"xaxis\":{\"automargin\":true,\"gridcolor\":\"white\",\"linecolor\":\"white\",\"ticks\":\"\",\"title\":{\"standoff\":15},\"zerolinecolor\":\"white\",\"zerolinewidth\":2},\"yaxis\":{\"automargin\":true,\"gridcolor\":\"white\",\"linecolor\":\"white\",\"ticks\":\"\",\"title\":{\"standoff\":15},\"zerolinecolor\":\"white\",\"zerolinewidth\":2}}},\"geo\":{\"domain\":{\"x\":[0.0,1.0],\"y\":[0.0,1.0]},\"center\":{}},\"coloraxis\":{\"colorbar\":{\"title\":{\"text\":\"color\"}},\"colorscale\":[[0.0,\"#0d0887\"],[0.1111111111111111,\"#46039f\"],[0.2222222222222222,\"#7201a8\"],[0.3333333333333333,\"#9c179e\"],[0.4444444444444444,\"#bd3786\"],[0.5555555555555556,\"#d8576b\"],[0.6666666666666666,\"#ed7953\"],[0.7777777777777778,\"#fb9f3a\"],[0.8888888888888888,\"#fdca26\"],[1.0,\"#f0f921\"]]},\"legend\":{\"tracegroupgap\":0},\"margin\":{\"t\":60}},                        {\"responsive\": true}                    ).then(function(){\n",
              "                            \n",
              "var gd = document.getElementById('8f73b43a-df87-45cd-a487-d7a4afaf0d81');\n",
              "var x = new MutationObserver(function (mutations, observer) {{\n",
              "        var display = window.getComputedStyle(gd).display;\n",
              "        if (!display || display === 'none') {{\n",
              "            console.log([gd, 'removed!']);\n",
              "            Plotly.purge(gd);\n",
              "            observer.disconnect();\n",
              "        }}\n",
              "}});\n",
              "\n",
              "// Listen for the removal of the full notebook cells\n",
              "var notebookContainer = gd.closest('#notebook-container');\n",
              "if (notebookContainer) {{\n",
              "    x.observe(notebookContainer, {childList: true});\n",
              "}}\n",
              "\n",
              "// Listen for the clearing of the current output cell\n",
              "var outputEl = gd.closest('.output');\n",
              "if (outputEl) {{\n",
              "    x.observe(outputEl, {childList: true});\n",
              "}}\n",
              "\n",
              "                        })                };                            </script>        </div>\n",
              "</body>\n",
              "</html>"
            ]
          },
          "metadata": {}
        }
      ]
    },
    {
      "cell_type": "code",
      "source": [
        "country_guest1=country_guest.sort_values(by='total_no_in_group',ascending=False).head(10)\n",
        "country_guest1\n",
        "sns.barplot(x=country_guest1['country'],y=country_guest1['total_no_in_group'])"
      ],
      "metadata": {
        "colab": {
          "base_uri": "https://localhost:8080/",
          "height": 297
        },
        "id": "63p10xk-zEUL",
        "outputId": "159d5df0-a9ff-40db-bd5d-edf18eccdb11"
      },
      "execution_count": 340,
      "outputs": [
        {
          "output_type": "execute_result",
          "data": {
            "text/plain": [
              "<matplotlib.axes._subplots.AxesSubplot at 0x7f16e66c6b90>"
            ]
          },
          "metadata": {},
          "execution_count": 340
        },
        {
          "output_type": "display_data",
          "data": {
            "text/plain": [
              "<Figure size 432x288 with 1 Axes>"
            ],
            "image/png": "[encoded data removed]"
          },
          "metadata": {
            "needs_background": "light"
          }
        }
      ]
    },
    {
      "cell_type": "markdown",
      "source": [
        "Ans1. On the basis on map and chart we can say that most guests come from Southern Europe and Portugal has most greatest number of guests."
      ],
      "metadata": {
        "id": "iaBPmOWTngZt"
      }
    },
    {
      "cell_type": "code",
      "source": [
        ""
      ],
      "metadata": {
        "id": "CqqOy5MTrmuK"
      },
      "execution_count": 340,
      "outputs": []
    }
  ]
}